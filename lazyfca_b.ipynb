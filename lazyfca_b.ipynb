{
 "cells": [
  {
   "cell_type": "markdown",
   "id": "c9d86eba",
   "metadata": {},
   "source": [
    "### Big HW\n",
    "Decision Tree\n",
    "Random Forest\n",
    "LogReg\n",
    "KNN\n",
    "Naive Bayes "
   ]
  },
  {
   "cell_type": "code",
   "execution_count": 1,
   "id": "cb93b040",
   "metadata": {
    "scrolled": true
   },
   "outputs": [],
   "source": [
    "import numpy as np\n",
    "import pandas as pd\n",
    "from sklearn.metrics import make_scorer, accuracy_score, f1_score\n",
    "from sklearn import model_selection\n",
    "from sklearn.model_selection import StratifiedKFold, cross_validate, GridSearchCV\n",
    "from sklearn.preprocessing import KBinsDiscretizer"
   ]
  },
  {
   "cell_type": "code",
   "execution_count": 2,
   "id": "340c028e",
   "metadata": {},
   "outputs": [],
   "source": [
    "from sklearn.tree import DecisionTreeClassifier\n",
    "from sklearn.ensemble import RandomForestClassifier\n",
    "from sklearn.linear_model import LogisticRegression\n",
    "from sklearn.neighbors import KNeighborsClassifier\n",
    "from sklearn.naive_bayes import GaussianNB"
   ]
  },
  {
   "cell_type": "code",
   "execution_count": 3,
   "id": "17b623e1",
   "metadata": {},
   "outputs": [],
   "source": [
    "import matplotlib.pyplot as plt"
   ]
  },
  {
   "cell_type": "code",
   "execution_count": 4,
   "id": "ed261a6e",
   "metadata": {},
   "outputs": [],
   "source": [
    "import fcalc"
   ]
  },
  {
   "cell_type": "code",
   "execution_count": 74,
   "id": "5b1072a1",
   "metadata": {},
   "outputs": [
    {
     "data": {
      "text/html": [
       "<div>\n",
       "<style scoped>\n",
       "    .dataframe tbody tr th:only-of-type {\n",
       "        vertical-align: middle;\n",
       "    }\n",
       "\n",
       "    .dataframe tbody tr th {\n",
       "        vertical-align: top;\n",
       "    }\n",
       "\n",
       "    .dataframe thead th {\n",
       "        text-align: right;\n",
       "    }\n",
       "</style>\n",
       "<table border=\"1\" class=\"dataframe\">\n",
       "  <thead>\n",
       "    <tr style=\"text-align: right;\">\n",
       "      <th></th>\n",
       "      <th>hotel</th>\n",
       "      <th>is_canceled</th>\n",
       "      <th>lead_time</th>\n",
       "      <th>arrival_date_year</th>\n",
       "      <th>arrival_date_month</th>\n",
       "      <th>arrival_date_week_number</th>\n",
       "      <th>arrival_date_day_of_month</th>\n",
       "      <th>stays_in_weekend_nights</th>\n",
       "      <th>stays_in_week_nights</th>\n",
       "      <th>adults</th>\n",
       "      <th>...</th>\n",
       "      <th>customer_type</th>\n",
       "      <th>adr</th>\n",
       "      <th>required_car_parking_spaces</th>\n",
       "      <th>total_of_special_requests</th>\n",
       "      <th>reservation_status</th>\n",
       "      <th>reservation_status_date</th>\n",
       "      <th>name</th>\n",
       "      <th>email</th>\n",
       "      <th>phone-number</th>\n",
       "      <th>credit_card</th>\n",
       "    </tr>\n",
       "  </thead>\n",
       "  <tbody>\n",
       "    <tr>\n",
       "      <th>0</th>\n",
       "      <td>Resort Hotel</td>\n",
       "      <td>0</td>\n",
       "      <td>342</td>\n",
       "      <td>2015</td>\n",
       "      <td>July</td>\n",
       "      <td>27</td>\n",
       "      <td>1</td>\n",
       "      <td>0</td>\n",
       "      <td>0</td>\n",
       "      <td>2</td>\n",
       "      <td>...</td>\n",
       "      <td>Transient</td>\n",
       "      <td>0.00</td>\n",
       "      <td>0</td>\n",
       "      <td>0</td>\n",
       "      <td>Check-Out</td>\n",
       "      <td>2015-07-01</td>\n",
       "      <td>Ernest Barnes</td>\n",
       "      <td>Ernest.Barnes31@outlook.com</td>\n",
       "      <td>669-792-1661</td>\n",
       "      <td>************4322</td>\n",
       "    </tr>\n",
       "    <tr>\n",
       "      <th>1</th>\n",
       "      <td>Resort Hotel</td>\n",
       "      <td>0</td>\n",
       "      <td>737</td>\n",
       "      <td>2015</td>\n",
       "      <td>July</td>\n",
       "      <td>27</td>\n",
       "      <td>1</td>\n",
       "      <td>0</td>\n",
       "      <td>0</td>\n",
       "      <td>2</td>\n",
       "      <td>...</td>\n",
       "      <td>Transient</td>\n",
       "      <td>0.00</td>\n",
       "      <td>0</td>\n",
       "      <td>0</td>\n",
       "      <td>Check-Out</td>\n",
       "      <td>2015-07-01</td>\n",
       "      <td>Andrea Baker</td>\n",
       "      <td>Andrea_Baker94@aol.com</td>\n",
       "      <td>858-637-6955</td>\n",
       "      <td>************9157</td>\n",
       "    </tr>\n",
       "    <tr>\n",
       "      <th>2</th>\n",
       "      <td>Resort Hotel</td>\n",
       "      <td>0</td>\n",
       "      <td>7</td>\n",
       "      <td>2015</td>\n",
       "      <td>July</td>\n",
       "      <td>27</td>\n",
       "      <td>1</td>\n",
       "      <td>0</td>\n",
       "      <td>1</td>\n",
       "      <td>1</td>\n",
       "      <td>...</td>\n",
       "      <td>Transient</td>\n",
       "      <td>75.00</td>\n",
       "      <td>0</td>\n",
       "      <td>0</td>\n",
       "      <td>Check-Out</td>\n",
       "      <td>2015-07-02</td>\n",
       "      <td>Rebecca Parker</td>\n",
       "      <td>Rebecca_Parker@comcast.net</td>\n",
       "      <td>652-885-2745</td>\n",
       "      <td>************3734</td>\n",
       "    </tr>\n",
       "    <tr>\n",
       "      <th>3</th>\n",
       "      <td>Resort Hotel</td>\n",
       "      <td>0</td>\n",
       "      <td>13</td>\n",
       "      <td>2015</td>\n",
       "      <td>July</td>\n",
       "      <td>27</td>\n",
       "      <td>1</td>\n",
       "      <td>0</td>\n",
       "      <td>1</td>\n",
       "      <td>1</td>\n",
       "      <td>...</td>\n",
       "      <td>Transient</td>\n",
       "      <td>75.00</td>\n",
       "      <td>0</td>\n",
       "      <td>0</td>\n",
       "      <td>Check-Out</td>\n",
       "      <td>2015-07-02</td>\n",
       "      <td>Laura Murray</td>\n",
       "      <td>Laura_M@gmail.com</td>\n",
       "      <td>364-656-8427</td>\n",
       "      <td>************5677</td>\n",
       "    </tr>\n",
       "    <tr>\n",
       "      <th>4</th>\n",
       "      <td>Resort Hotel</td>\n",
       "      <td>0</td>\n",
       "      <td>14</td>\n",
       "      <td>2015</td>\n",
       "      <td>July</td>\n",
       "      <td>27</td>\n",
       "      <td>1</td>\n",
       "      <td>0</td>\n",
       "      <td>2</td>\n",
       "      <td>2</td>\n",
       "      <td>...</td>\n",
       "      <td>Transient</td>\n",
       "      <td>98.00</td>\n",
       "      <td>0</td>\n",
       "      <td>1</td>\n",
       "      <td>Check-Out</td>\n",
       "      <td>2015-07-03</td>\n",
       "      <td>Linda Hines</td>\n",
       "      <td>LHines@verizon.com</td>\n",
       "      <td>713-226-5883</td>\n",
       "      <td>************5498</td>\n",
       "    </tr>\n",
       "    <tr>\n",
       "      <th>...</th>\n",
       "      <td>...</td>\n",
       "      <td>...</td>\n",
       "      <td>...</td>\n",
       "      <td>...</td>\n",
       "      <td>...</td>\n",
       "      <td>...</td>\n",
       "      <td>...</td>\n",
       "      <td>...</td>\n",
       "      <td>...</td>\n",
       "      <td>...</td>\n",
       "      <td>...</td>\n",
       "      <td>...</td>\n",
       "      <td>...</td>\n",
       "      <td>...</td>\n",
       "      <td>...</td>\n",
       "      <td>...</td>\n",
       "      <td>...</td>\n",
       "      <td>...</td>\n",
       "      <td>...</td>\n",
       "      <td>...</td>\n",
       "      <td>...</td>\n",
       "    </tr>\n",
       "    <tr>\n",
       "      <th>119385</th>\n",
       "      <td>City Hotel</td>\n",
       "      <td>0</td>\n",
       "      <td>23</td>\n",
       "      <td>2017</td>\n",
       "      <td>August</td>\n",
       "      <td>35</td>\n",
       "      <td>30</td>\n",
       "      <td>2</td>\n",
       "      <td>5</td>\n",
       "      <td>2</td>\n",
       "      <td>...</td>\n",
       "      <td>Transient</td>\n",
       "      <td>96.14</td>\n",
       "      <td>0</td>\n",
       "      <td>0</td>\n",
       "      <td>Check-Out</td>\n",
       "      <td>2017-09-06</td>\n",
       "      <td>Claudia Johnson</td>\n",
       "      <td>Claudia.J@yahoo.com</td>\n",
       "      <td>403-092-5582</td>\n",
       "      <td>************8647</td>\n",
       "    </tr>\n",
       "    <tr>\n",
       "      <th>119386</th>\n",
       "      <td>City Hotel</td>\n",
       "      <td>0</td>\n",
       "      <td>102</td>\n",
       "      <td>2017</td>\n",
       "      <td>August</td>\n",
       "      <td>35</td>\n",
       "      <td>31</td>\n",
       "      <td>2</td>\n",
       "      <td>5</td>\n",
       "      <td>3</td>\n",
       "      <td>...</td>\n",
       "      <td>Transient</td>\n",
       "      <td>225.43</td>\n",
       "      <td>0</td>\n",
       "      <td>2</td>\n",
       "      <td>Check-Out</td>\n",
       "      <td>2017-09-07</td>\n",
       "      <td>Wesley Aguilar</td>\n",
       "      <td>WAguilar@xfinity.com</td>\n",
       "      <td>238-763-0612</td>\n",
       "      <td>************4333</td>\n",
       "    </tr>\n",
       "    <tr>\n",
       "      <th>119387</th>\n",
       "      <td>City Hotel</td>\n",
       "      <td>0</td>\n",
       "      <td>34</td>\n",
       "      <td>2017</td>\n",
       "      <td>August</td>\n",
       "      <td>35</td>\n",
       "      <td>31</td>\n",
       "      <td>2</td>\n",
       "      <td>5</td>\n",
       "      <td>2</td>\n",
       "      <td>...</td>\n",
       "      <td>Transient</td>\n",
       "      <td>157.71</td>\n",
       "      <td>0</td>\n",
       "      <td>4</td>\n",
       "      <td>Check-Out</td>\n",
       "      <td>2017-09-07</td>\n",
       "      <td>Mary Morales</td>\n",
       "      <td>Mary_Morales@hotmail.com</td>\n",
       "      <td>395-518-4100</td>\n",
       "      <td>************1821</td>\n",
       "    </tr>\n",
       "    <tr>\n",
       "      <th>119388</th>\n",
       "      <td>City Hotel</td>\n",
       "      <td>0</td>\n",
       "      <td>109</td>\n",
       "      <td>2017</td>\n",
       "      <td>August</td>\n",
       "      <td>35</td>\n",
       "      <td>31</td>\n",
       "      <td>2</td>\n",
       "      <td>5</td>\n",
       "      <td>2</td>\n",
       "      <td>...</td>\n",
       "      <td>Transient</td>\n",
       "      <td>104.40</td>\n",
       "      <td>0</td>\n",
       "      <td>0</td>\n",
       "      <td>Check-Out</td>\n",
       "      <td>2017-09-07</td>\n",
       "      <td>Caroline Conley MD</td>\n",
       "      <td>MD_Caroline@comcast.net</td>\n",
       "      <td>531-528-1017</td>\n",
       "      <td>************7860</td>\n",
       "    </tr>\n",
       "    <tr>\n",
       "      <th>119389</th>\n",
       "      <td>City Hotel</td>\n",
       "      <td>0</td>\n",
       "      <td>205</td>\n",
       "      <td>2017</td>\n",
       "      <td>August</td>\n",
       "      <td>35</td>\n",
       "      <td>29</td>\n",
       "      <td>2</td>\n",
       "      <td>7</td>\n",
       "      <td>2</td>\n",
       "      <td>...</td>\n",
       "      <td>Transient</td>\n",
       "      <td>151.20</td>\n",
       "      <td>0</td>\n",
       "      <td>2</td>\n",
       "      <td>Check-Out</td>\n",
       "      <td>2017-09-07</td>\n",
       "      <td>Ariana Michael</td>\n",
       "      <td>Ariana_M@xfinity.com</td>\n",
       "      <td>422-804-6403</td>\n",
       "      <td>************4482</td>\n",
       "    </tr>\n",
       "  </tbody>\n",
       "</table>\n",
       "<p>119390 rows × 36 columns</p>\n",
       "</div>"
      ],
      "text/plain": [
       "               hotel  is_canceled  lead_time  arrival_date_year  \\\n",
       "0       Resort Hotel            0        342               2015   \n",
       "1       Resort Hotel            0        737               2015   \n",
       "2       Resort Hotel            0          7               2015   \n",
       "3       Resort Hotel            0         13               2015   \n",
       "4       Resort Hotel            0         14               2015   \n",
       "...              ...          ...        ...                ...   \n",
       "119385    City Hotel            0         23               2017   \n",
       "119386    City Hotel            0        102               2017   \n",
       "119387    City Hotel            0         34               2017   \n",
       "119388    City Hotel            0        109               2017   \n",
       "119389    City Hotel            0        205               2017   \n",
       "\n",
       "       arrival_date_month  arrival_date_week_number  \\\n",
       "0                    July                        27   \n",
       "1                    July                        27   \n",
       "2                    July                        27   \n",
       "3                    July                        27   \n",
       "4                    July                        27   \n",
       "...                   ...                       ...   \n",
       "119385             August                        35   \n",
       "119386             August                        35   \n",
       "119387             August                        35   \n",
       "119388             August                        35   \n",
       "119389             August                        35   \n",
       "\n",
       "        arrival_date_day_of_month  stays_in_weekend_nights  \\\n",
       "0                               1                        0   \n",
       "1                               1                        0   \n",
       "2                               1                        0   \n",
       "3                               1                        0   \n",
       "4                               1                        0   \n",
       "...                           ...                      ...   \n",
       "119385                         30                        2   \n",
       "119386                         31                        2   \n",
       "119387                         31                        2   \n",
       "119388                         31                        2   \n",
       "119389                         29                        2   \n",
       "\n",
       "        stays_in_week_nights  adults  ...  customer_type     adr  \\\n",
       "0                          0       2  ...      Transient    0.00   \n",
       "1                          0       2  ...      Transient    0.00   \n",
       "2                          1       1  ...      Transient   75.00   \n",
       "3                          1       1  ...      Transient   75.00   \n",
       "4                          2       2  ...      Transient   98.00   \n",
       "...                      ...     ...  ...            ...     ...   \n",
       "119385                     5       2  ...      Transient   96.14   \n",
       "119386                     5       3  ...      Transient  225.43   \n",
       "119387                     5       2  ...      Transient  157.71   \n",
       "119388                     5       2  ...      Transient  104.40   \n",
       "119389                     7       2  ...      Transient  151.20   \n",
       "\n",
       "       required_car_parking_spaces total_of_special_requests  \\\n",
       "0                                0                         0   \n",
       "1                                0                         0   \n",
       "2                                0                         0   \n",
       "3                                0                         0   \n",
       "4                                0                         1   \n",
       "...                            ...                       ...   \n",
       "119385                           0                         0   \n",
       "119386                           0                         2   \n",
       "119387                           0                         4   \n",
       "119388                           0                         0   \n",
       "119389                           0                         2   \n",
       "\n",
       "       reservation_status reservation_status_date                name  \\\n",
       "0               Check-Out              2015-07-01       Ernest Barnes   \n",
       "1               Check-Out              2015-07-01        Andrea Baker   \n",
       "2               Check-Out              2015-07-02      Rebecca Parker   \n",
       "3               Check-Out              2015-07-02        Laura Murray   \n",
       "4               Check-Out              2015-07-03         Linda Hines   \n",
       "...                   ...                     ...                 ...   \n",
       "119385          Check-Out              2017-09-06     Claudia Johnson   \n",
       "119386          Check-Out              2017-09-07      Wesley Aguilar   \n",
       "119387          Check-Out              2017-09-07        Mary Morales   \n",
       "119388          Check-Out              2017-09-07  Caroline Conley MD   \n",
       "119389          Check-Out              2017-09-07      Ariana Michael   \n",
       "\n",
       "                              email  phone-number       credit_card  \n",
       "0       Ernest.Barnes31@outlook.com  669-792-1661  ************4322  \n",
       "1            Andrea_Baker94@aol.com  858-637-6955  ************9157  \n",
       "2        Rebecca_Parker@comcast.net  652-885-2745  ************3734  \n",
       "3                 Laura_M@gmail.com  364-656-8427  ************5677  \n",
       "4                LHines@verizon.com  713-226-5883  ************5498  \n",
       "...                             ...           ...               ...  \n",
       "119385          Claudia.J@yahoo.com  403-092-5582  ************8647  \n",
       "119386         WAguilar@xfinity.com  238-763-0612  ************4333  \n",
       "119387     Mary_Morales@hotmail.com  395-518-4100  ************1821  \n",
       "119388      MD_Caroline@comcast.net  531-528-1017  ************7860  \n",
       "119389         Ariana_M@xfinity.com  422-804-6403  ************4482  \n",
       "\n",
       "[119390 rows x 36 columns]"
      ]
     },
     "metadata": {},
     "output_type": "display_data"
    }
   ],
   "source": [
    "# df_h = pd.read_csv('Datasets/heart.csv')\n",
    "# df_l = pd.read_csv('Datasets/Anonymize_Loan_Default_data.csv', encoding='unicode_escape')\n",
    "df_hb = pd.read_csv(r'Datasets\\hotel_booking.csv', encoding='unicode_escape')\n",
    "# display(df_h)\n",
    "# display(df_l)\n",
    "display(df_hb)"
   ]
  },
  {
   "cell_type": "code",
   "execution_count": 75,
   "id": "4f5c3392",
   "metadata": {},
   "outputs": [],
   "source": [
    "df_hb = df_hb.drop(columns=['reservation_status_date','name','email','phone-number','credit_card'] )\n",
    "df_hb = df_hb.dropna()"
   ]
  },
  {
   "cell_type": "code",
   "execution_count": 76,
   "id": "ad02057e",
   "metadata": {},
   "outputs": [],
   "source": [
    "df_b = pd.DataFrame()"
   ]
  },
  {
   "cell_type": "code",
   "execution_count": 77,
   "id": "ce848ab8",
   "metadata": {},
   "outputs": [
    {
     "data": {
      "text/plain": [
       "Index(['hotel', 'is_canceled', 'lead_time', 'arrival_date_year',\n",
       "       'arrival_date_month', 'arrival_date_week_number',\n",
       "       'arrival_date_day_of_month', 'stays_in_weekend_nights',\n",
       "       'stays_in_week_nights', 'adults', 'children', 'babies', 'meal',\n",
       "       'country', 'market_segment', 'distribution_channel',\n",
       "       'is_repeated_guest', 'previous_cancellations',\n",
       "       'previous_bookings_not_canceled', 'reserved_room_type',\n",
       "       'assigned_room_type', 'booking_changes', 'deposit_type', 'agent',\n",
       "       'company', 'days_in_waiting_list', 'customer_type', 'adr',\n",
       "       'required_car_parking_spaces', 'total_of_special_requests',\n",
       "       'reservation_status'],\n",
       "      dtype='object')"
      ]
     },
     "execution_count": 77,
     "metadata": {},
     "output_type": "execute_result"
    }
   ],
   "source": [
    "df_hb.columns"
   ]
  },
  {
   "cell_type": "code",
   "execution_count": 78,
   "id": "28aaba0f",
   "metadata": {},
   "outputs": [],
   "source": [
    "not_bin_cols = []\n",
    "bad_cols = ['agent', 'company', 'days_in_waiting_list', ]\n",
    "columns = {'hotel' : 0, 'is_canceled' : 0\n",
    "           , 'lead_time' : 10, 'arrival_date_year' : 0\n",
    "           , 'arrival_date_month' : 0, 'arrival_date_week_number' : 10\n",
    "           , 'arrival_date_day_of_month' : 0, 'stays_in_weekend_nights' : 0\n",
    "           , 'stays_in_week_nights' : 0, 'adults' : 0\n",
    "           , 'children' : 0, 'babies' : 0\n",
    "           , 'meal' : 0, 'country' : 0\n",
    "           , 'market_segment' : 0, 'distribution_channel' : 0\n",
    "           , 'is_repeated_guest' : 0, 'previous_cancellations' : 0\n",
    "           , 'previous_bookings_not_canceled' : 0, 'reserved_room_type' : 0\n",
    "           , 'assigned_room_type' : 0, 'booking_changes' : 0\n",
    "           , 'deposit_type' : 0, 'customer_type' : 0\n",
    "           , 'adr' : 5, 'required_car_parking_spaces' : 0\n",
    "           , 'total_of_special_requests' : 0}"
   ]
  },
  {
   "cell_type": "code",
   "execution_count": 79,
   "id": "ec708c51",
   "metadata": {},
   "outputs": [
    {
     "name": "stdout",
     "output_type": "stream",
     "text": [
      "===================== hotel ========================\n",
      "Unique values: 2\n",
      "['City Hotel' 'Resort Hotel']\n",
      "===================== is_canceled ========================\n",
      "Unique values: 2\n",
      "[0 1]\n",
      "===================== lead_time ========================\n",
      "Unique values: 50\n",
      "[ 0  1  2  3  4  5  6  7  8  9 10 11 12 13 14 15 17 18 19 20 21 23 24 25\n",
      " 27]\n",
      "===================== arrival_date_year ========================\n",
      "Unique values: 3\n",
      "[2015 2016 2017]\n",
      "===================== arrival_date_month ========================\n",
      "Unique values: 12\n",
      "['April' 'August' 'December' 'February' 'January' 'July' 'June' 'March'\n",
      " 'May' 'November' 'October' 'September']\n",
      "===================== arrival_date_week_number ========================\n",
      "Unique values: 38\n",
      "[ 1  2  3  4  5  6  8  9 10 11 12 15 19 20 21 22 23 24 25 28 29 32 33 35\n",
      " 36]\n",
      "===================== arrival_date_day_of_month ========================\n",
      "Unique values: 29\n",
      "[ 1  2  3  4  5  6  7  8  9 10 11 12 13 14 15 16 19 20 21 22 23 24 25 26\n",
      " 27]\n",
      "===================== stays_in_weekend_nights ========================\n",
      "Unique values: 8\n",
      "[0 1 2 3 4 5 7 9]\n",
      "===================== stays_in_week_nights ========================\n",
      "Unique values: 13\n",
      "[ 0  1  2  3  4  5  6  7  8  9 10 15 21]\n",
      "===================== adults ========================\n",
      "Unique values: 3\n",
      "[1 2 3]\n",
      "===================== children ========================\n",
      "Unique values: 3\n",
      "[0. 1. 2.]\n",
      "===================== babies ========================\n",
      "Unique values: 1\n",
      "[0]\n",
      "===================== meal ========================\n",
      "Unique values: 4\n",
      "['BB' 'FB' 'HB' 'SC']\n",
      "===================== country ========================\n",
      "Unique values: 18\n",
      "['AUS' 'AUT' 'BEL' 'BGR' 'CHE' 'CHN' 'CZE' 'DEU' 'ESP' 'FRA' 'GBR' 'IRL'\n",
      " 'ITA' 'MEX' 'NLD' 'PRT' 'ROU' 'USA']\n",
      "===================== market_segment ========================\n",
      "Unique values: 6\n",
      "['Complementary' 'Corporate' 'Direct' 'Groups' 'Offline TA/TO' 'Online TA']\n",
      "===================== distribution_channel ========================\n",
      "Unique values: 4\n",
      "['Corporate' 'Direct' 'GDS' 'TA/TO']\n",
      "===================== is_repeated_guest ========================\n",
      "Unique values: 2\n",
      "[0 1]\n",
      "===================== previous_cancellations ========================\n",
      "Unique values: 2\n",
      "[0 2]\n",
      "===================== previous_bookings_not_canceled ========================\n",
      "Unique values: 6\n",
      "[0 1 2 4 5 7]\n",
      "===================== reserved_room_type ========================\n",
      "Unique values: 5\n",
      "['A' 'C' 'D' 'E' 'H']\n",
      "===================== assigned_room_type ========================\n",
      "Unique values: 9\n",
      "['A' 'B' 'C' 'D' 'E' 'F' 'G' 'H' 'I']\n",
      "===================== booking_changes ========================\n",
      "Unique values: 7\n",
      "[0 1 2 3 4 5 6]\n",
      "===================== deposit_type ========================\n",
      "Unique values: 3\n",
      "['No Deposit' 'Non Refund' 'Refundable']\n",
      "===================== agent ========================\n",
      "Unique values: 28\n",
      "[  5.   7.   9.  14.  27.  40.  45.  85. 139. 143. 146. 159. 184. 185.\n",
      " 195. 196. 223. 240. 242. 250. 290. 314. 324. 326. 328.]\n",
      "===================== company ========================\n",
      "Unique values: 46\n",
      "[  9.  14.  29.  40.  45.  61.  84.  85.  99. 113. 126. 132. 146. 148.\n",
      " 184. 186. 223. 229. 242. 250. 268. 273. 281. 301. 312.]\n",
      "===================== days_in_waiting_list ========================\n",
      "Unique values: 1\n",
      "[0]\n",
      "===================== customer_type ========================\n",
      "Unique values: 4\n",
      "['Contract' 'Group' 'Transient' 'Transient-Party']\n",
      "===================== adr ========================\n",
      "Unique values: 70\n",
      "[ 0.   25.   30.   34.2  35.1  36.   36.75 37.   37.43 37.6  38.   40.\n",
      " 40.4  40.5  42.   42.55 43.   43.2  44.   48.   49.11 49.2  49.5  49.67\n",
      " 52.2 ]\n",
      "===================== required_car_parking_spaces ========================\n",
      "Unique values: 2\n",
      "[0 1]\n",
      "===================== total_of_special_requests ========================\n",
      "Unique values: 4\n",
      "[0 1 2 3]\n",
      "===================== reservation_status ========================\n",
      "Unique values: 3\n",
      "['Canceled' 'Check-Out' 'No-Show']\n"
     ]
    }
   ],
   "source": [
    "for col in df_hb.columns:\n",
    "    print(f'===================== {col} ========================')\n",
    "    print('Unique values:', len(np.unique(df_hb[col])))\n",
    "    print(np.unique(df_hb[col])[:25])\n",
    "    \n"
   ]
  },
  {
   "cell_type": "code",
   "execution_count": 80,
   "id": "32aa9c9d",
   "metadata": {},
   "outputs": [
    {
     "data": {
      "image/png": "[encoded data removed]",
      "text/plain": [
       "<Figure size 640x480 with 1 Axes>"
      ]
     },
     "metadata": {},
     "output_type": "display_data"
    },
    {
     "name": "stdout",
     "output_type": "stream",
     "text": [
      "Fine for binarization.\n"
     ]
    },
    {
     "data": {
      "image/png": "[encoded data removed]",
      "text/plain": [
       "<Figure size 640x480 with 1 Axes>"
      ]
     },
     "metadata": {},
     "output_type": "display_data"
    },
    {
     "name": "stdout",
     "output_type": "stream",
     "text": [
      "Fine for binarization.\n"
     ]
    },
    {
     "data": {
      "image/png": "[encoded data removed]",
      "text/plain": [
       "<Figure size 640x480 with 1 Axes>"
      ]
     },
     "metadata": {},
     "output_type": "display_data"
    },
    {
     "name": "stdout",
     "output_type": "stream",
     "text": [
      "Categories chose: 10\n"
     ]
    },
    {
     "data": {
      "image/png": "[encoded data removed]",
      "text/plain": [
       "<Figure size 640x480 with 1 Axes>"
      ]
     },
     "metadata": {},
     "output_type": "display_data"
    },
    {
     "name": "stdout",
     "output_type": "stream",
     "text": [
      "Fine for binarization.\n"
     ]
    },
    {
     "data": {
      "image/png": "[encoded data removed]",
      "text/plain": [
       "<Figure size 640x480 with 1 Axes>"
      ]
     },
     "metadata": {},
     "output_type": "display_data"
    },
    {
     "name": "stdout",
     "output_type": "stream",
     "text": [
      "Fine for binarization.\n"
     ]
    },
    {
     "data": {
      "image/png": "[encoded data removed]",
      "text/plain": [
       "<Figure size 640x480 with 1 Axes>"
      ]
     },
     "metadata": {},
     "output_type": "display_data"
    },
    {
     "name": "stdout",
     "output_type": "stream",
     "text": [
      "Bad column: arrival_date_week_number\n"
     ]
    },
    {
     "data": {
      "image/png": "[encoded data removed]",
      "text/plain": [
       "<Figure size 640x480 with 1 Axes>"
      ]
     },
     "metadata": {},
     "output_type": "display_data"
    },
    {
     "name": "stdout",
     "output_type": "stream",
     "text": [
      "Fine for binarization.\n"
     ]
    },
    {
     "data": {
      "image/png": "[encoded data removed]",
      "text/plain": [
       "<Figure size 640x480 with 1 Axes>"
      ]
     },
     "metadata": {},
     "output_type": "display_data"
    },
    {
     "name": "stdout",
     "output_type": "stream",
     "text": [
      "Fine for binarization.\n"
     ]
    },
    {
     "data": {
      "image/png": "[encoded data removed]",
      "text/plain": [
       "<Figure size 640x480 with 1 Axes>"
      ]
     },
     "metadata": {},
     "output_type": "display_data"
    },
    {
     "name": "stdout",
     "output_type": "stream",
     "text": [
      "Fine for binarization.\n"
     ]
    },
    {
     "data": {
      "image/png": "[encoded data removed]",
      "text/plain": [
       "<Figure size 640x480 with 1 Axes>"
      ]
     },
     "metadata": {},
     "output_type": "display_data"
    },
    {
     "name": "stdout",
     "output_type": "stream",
     "text": [
      "Fine for binarization.\n"
     ]
    },
    {
     "data": {
      "image/png": "[encoded data removed]",
      "text/plain": [
       "<Figure size 640x480 with 1 Axes>"
      ]
     },
     "metadata": {},
     "output_type": "display_data"
    },
    {
     "name": "stdout",
     "output_type": "stream",
     "text": [
      "Fine for binarization.\n"
     ]
    },
    {
     "data": {
      "image/png": "[encoded data removed]",
      "text/plain": [
       "<Figure size 640x480 with 1 Axes>"
      ]
     },
     "metadata": {},
     "output_type": "display_data"
    },
    {
     "name": "stdout",
     "output_type": "stream",
     "text": [
      "Fine for binarization.\n"
     ]
    },
    {
     "data": {
      "image/png": "[encoded data removed]",
      "text/plain": [
       "<Figure size 640x480 with 1 Axes>"
      ]
     },
     "metadata": {},
     "output_type": "display_data"
    },
    {
     "name": "stdout",
     "output_type": "stream",
     "text": [
      "Fine for binarization.\n"
     ]
    },
    {
     "data": {
      "image/png": "[encoded data removed]",
      "text/plain": [
       "<Figure size 640x480 with 1 Axes>"
      ]
     },
     "metadata": {},
     "output_type": "display_data"
    },
    {
     "name": "stdout",
     "output_type": "stream",
     "text": [
      "Fine for binarization.\n"
     ]
    },
    {
     "data": {
      "image/png": "[encoded data removed]",
      "text/plain": [
       "<Figure size 640x480 with 1 Axes>"
      ]
     },
     "metadata": {},
     "output_type": "display_data"
    },
    {
     "name": "stdout",
     "output_type": "stream",
     "text": [
      "Fine for binarization.\n"
     ]
    },
    {
     "data": {
      "image/png": "[encoded data removed]",
      "text/plain": [
       "<Figure size 640x480 with 1 Axes>"
      ]
     },
     "metadata": {},
     "output_type": "display_data"
    },
    {
     "name": "stdout",
     "output_type": "stream",
     "text": [
      "Fine for binarization.\n"
     ]
    },
    {
     "data": {
      "image/png": "[encoded data removed]",
      "text/plain": [
       "<Figure size 640x480 with 1 Axes>"
      ]
     },
     "metadata": {},
     "output_type": "display_data"
    },
    {
     "name": "stdout",
     "output_type": "stream",
     "text": [
      "Fine for binarization.\n"
     ]
    },
    {
     "data": {
      "image/png": "[encoded data removed]",
      "text/plain": [
       "<Figure size 640x480 with 1 Axes>"
      ]
     },
     "metadata": {},
     "output_type": "display_data"
    },
    {
     "name": "stdout",
     "output_type": "stream",
     "text": [
      "Fine for binarization.\n"
     ]
    },
    {
     "data": {
      "image/png": "[encoded data removed]",
      "text/plain": [
       "<Figure size 640x480 with 1 Axes>"
      ]
     },
     "metadata": {},
     "output_type": "display_data"
    },
    {
     "name": "stdout",
     "output_type": "stream",
     "text": [
      "Fine for binarization.\n"
     ]
    },
    {
     "data": {
      "image/png": "[encoded data removed]",
      "text/plain": [
       "<Figure size 640x480 with 1 Axes>"
      ]
     },
     "metadata": {},
     "output_type": "display_data"
    },
    {
     "name": "stdout",
     "output_type": "stream",
     "text": [
      "Fine for binarization.\n"
     ]
    },
    {
     "data": {
      "image/png": "[encoded data removed]",
      "text/plain": [
       "<Figure size 640x480 with 1 Axes>"
      ]
     },
     "metadata": {},
     "output_type": "display_data"
    },
    {
     "name": "stdout",
     "output_type": "stream",
     "text": [
      "Fine for binarization.\n"
     ]
    },
    {
     "data": {
      "image/png": "[encoded data removed]",
      "text/plain": [
       "<Figure size 640x480 with 1 Axes>"
      ]
     },
     "metadata": {},
     "output_type": "display_data"
    },
    {
     "name": "stdout",
     "output_type": "stream",
     "text": [
      "Fine for binarization.\n"
     ]
    },
    {
     "data": {
      "image/png": "[encoded data removed]",
      "text/plain": [
       "<Figure size 640x480 with 1 Axes>"
      ]
     },
     "metadata": {},
     "output_type": "display_data"
    },
    {
     "name": "stdout",
     "output_type": "stream",
     "text": [
      "Fine for binarization.\n"
     ]
    },
    {
     "data": {
      "image/png": "[encoded data removed]",
      "text/plain": [
       "<Figure size 640x480 with 1 Axes>"
      ]
     },
     "metadata": {},
     "output_type": "display_data"
    },
    {
     "name": "stdout",
     "output_type": "stream",
     "text": [
      "Fine for binarization.\n"
     ]
    },
    {
     "data": {
      "image/png": "[encoded data removed]",
      "text/plain": [
       "<Figure size 640x480 with 1 Axes>"
      ]
     },
     "metadata": {},
     "output_type": "display_data"
    },
    {
     "name": "stdout",
     "output_type": "stream",
     "text": [
      "Categories chose: 5\n"
     ]
    },
    {
     "data": {
      "image/png": "[encoded data removed]",
      "text/plain": [
       "<Figure size 640x480 with 1 Axes>"
      ]
     },
     "metadata": {},
     "output_type": "display_data"
    },
    {
     "name": "stdout",
     "output_type": "stream",
     "text": [
      "Fine for binarization.\n"
     ]
    },
    {
     "data": {
      "image/png": "[encoded data removed]",
      "text/plain": [
       "<Figure size 640x480 with 1 Axes>"
      ]
     },
     "metadata": {},
     "output_type": "display_data"
    },
    {
     "name": "stdout",
     "output_type": "stream",
     "text": [
      "Fine for binarization.\n"
     ]
    },
    {
     "data": {
      "image/png": "[encoded data removed]",
      "text/plain": [
       "<Figure size 640x480 with 1 Axes>"
      ]
     },
     "metadata": {},
     "output_type": "display_data"
    },
    {
     "name": "stdout",
     "output_type": "stream",
     "text": [
      "Bad column: reservation_status\n"
     ]
    }
   ],
   "source": [
    "df_hb = df_hb.drop(columns=bad_cols)\n",
    "bad_cols = []\n",
    "for col in df_hb.columns:\n",
    "    try:    \n",
    "        plt.hist(df_hb[col])\n",
    "        plt.title(col)\n",
    "        plt.show()\n",
    "            \n",
    "        if len(np.unique(df_hb[col])) > 2:\n",
    "            not_bin_cols.append(col)\n",
    "        k = columns[col]\n",
    "        if k:\n",
    "            df_b[col] = pd.qcut(df_hb[col], q=k, precision=3)\n",
    "            print('Categories chose:', k)\n",
    "        else:\n",
    "            df_b[col] = df_hb[col]\n",
    "            print('Fine for binarization.')\n",
    "    except:\n",
    "        print('Bad column:', col)\n",
    "        bad_cols.append(col)"
   ]
  },
  {
   "cell_type": "code",
   "execution_count": 81,
   "id": "7598234a",
   "metadata": {},
   "outputs": [
    {
     "data": {
      "text/plain": [
       "Index(['hotel', 'is_canceled', 'lead_time', 'arrival_date_year',\n",
       "       'arrival_date_month', 'arrival_date_day_of_month',\n",
       "       'stays_in_weekend_nights', 'stays_in_week_nights', 'adults', 'children',\n",
       "       'babies', 'meal', 'country', 'market_segment', 'distribution_channel',\n",
       "       'is_repeated_guest', 'previous_cancellations',\n",
       "       'previous_bookings_not_canceled', 'reserved_room_type',\n",
       "       'assigned_room_type', 'booking_changes', 'deposit_type',\n",
       "       'customer_type', 'adr', 'required_car_parking_spaces',\n",
       "       'total_of_special_requests'],\n",
       "      dtype='object')"
      ]
     },
     "execution_count": 81,
     "metadata": {},
     "output_type": "execute_result"
    }
   ],
   "source": [
    "df_b.columns"
   ]
  },
  {
   "cell_type": "code",
   "execution_count": 86,
   "id": "521415ba",
   "metadata": {},
   "outputs": [],
   "source": [
    "not_bin_cols.remove('arrival_date_week_number')\n",
    "not_bin_cols.remove('reservation_status')\n"
   ]
  },
  {
   "cell_type": "code",
   "execution_count": 83,
   "id": "0415b775",
   "metadata": {},
   "outputs": [
    {
     "data": {
      "text/plain": [
       "['lead_time',\n",
       " 'arrival_date_year',\n",
       " 'arrival_date_month',\n",
       " 'arrival_date_day_of_month',\n",
       " 'stays_in_weekend_nights',\n",
       " 'stays_in_week_nights',\n",
       " 'adults',\n",
       " 'children',\n",
       " 'meal',\n",
       " 'country',\n",
       " 'market_segment',\n",
       " 'distribution_channel',\n",
       " 'previous_bookings_not_canceled',\n",
       " 'reserved_room_type',\n",
       " 'assigned_room_type',\n",
       " 'booking_changes',\n",
       " 'deposit_type',\n",
       " 'customer_type',\n",
       " 'adr',\n",
       " 'total_of_special_requests',\n",
       " 'reservation_status']"
      ]
     },
     "execution_count": 83,
     "metadata": {},
     "output_type": "execute_result"
    }
   ],
   "source": [
    "not_bin_cols"
   ]
  },
  {
   "cell_type": "code",
   "execution_count": 84,
   "id": "5fcf4fed",
   "metadata": {},
   "outputs": [
    {
     "data": {
      "text/plain": [
       "hotel\n",
       "1    170\n",
       "0     47\n",
       "Name: count, dtype: int64"
      ]
     },
     "metadata": {},
     "output_type": "display_data"
    },
    {
     "data": {
      "text/plain": [
       "is_canceled\n",
       "1    200\n",
       "0     17\n",
       "Name: count, dtype: int64"
      ]
     },
     "metadata": {},
     "output_type": "display_data"
    },
    {
     "data": {
      "text/plain": [
       "is_repeated_guest\n",
       "1    202\n",
       "0     15\n",
       "Name: count, dtype: int64"
      ]
     },
     "metadata": {},
     "output_type": "display_data"
    },
    {
     "data": {
      "text/plain": [
       "previous_cancellations\n",
       "1    216\n",
       "0      1\n",
       "Name: count, dtype: int64"
      ]
     },
     "metadata": {},
     "output_type": "display_data"
    },
    {
     "data": {
      "text/plain": [
       "required_car_parking_spaces\n",
       "0    197\n",
       "1     20\n",
       "Name: count, dtype: int64"
      ]
     },
     "metadata": {},
     "output_type": "display_data"
    }
   ],
   "source": [
    "for col in ['hotel','is_canceled','babies','is_repeated_guest','previous_cancellations','required_car_parking_spaces']:\n",
    "    if len(np.unique(df_b[col])) == 2:\n",
    "        df_b[col] = (df_hb[col] == df_hb[col].values[0]).astype(int)\n",
    "        display(df_b[col].value_counts())"
   ]
  },
  {
   "cell_type": "code",
   "execution_count": 87,
   "id": "cf7918de",
   "metadata": {},
   "outputs": [],
   "source": [
    "df_bin = pd.get_dummies(df_b, columns=not_bin_cols).astype('bool')\n",
    "df_bin.drop_duplicates(inplace=True)"
   ]
  },
  {
   "cell_type": "code",
   "execution_count": 88,
   "id": "4fe2e9d3",
   "metadata": {},
   "outputs": [
    {
     "data": {
      "text/html": [
       "<div>\n",
       "<style scoped>\n",
       "    .dataframe tbody tr th:only-of-type {\n",
       "        vertical-align: middle;\n",
       "    }\n",
       "\n",
       "    .dataframe tbody tr th {\n",
       "        vertical-align: top;\n",
       "    }\n",
       "\n",
       "    .dataframe thead th {\n",
       "        text-align: right;\n",
       "    }\n",
       "</style>\n",
       "<table border=\"1\" class=\"dataframe\">\n",
       "  <thead>\n",
       "    <tr style=\"text-align: right;\">\n",
       "      <th></th>\n",
       "      <th>hotel</th>\n",
       "      <th>is_canceled</th>\n",
       "      <th>babies</th>\n",
       "      <th>is_repeated_guest</th>\n",
       "      <th>previous_cancellations</th>\n",
       "      <th>required_car_parking_spaces</th>\n",
       "      <th>lead_time_(-0.001, 1.6]</th>\n",
       "      <th>lead_time_(1.6, 8.2]</th>\n",
       "      <th>lead_time_(8.2, 16.6]</th>\n",
       "      <th>lead_time_(16.6, 24.0]</th>\n",
       "      <th>...</th>\n",
       "      <th>customer_type_Transient-Party</th>\n",
       "      <th>adr_(-0.001, 36.0]</th>\n",
       "      <th>adr_(36.0, 43.2]</th>\n",
       "      <th>adr_(43.2, 52.2]</th>\n",
       "      <th>adr_(52.2, 95.0]</th>\n",
       "      <th>adr_(95.0, 246.0]</th>\n",
       "      <th>total_of_special_requests_0</th>\n",
       "      <th>total_of_special_requests_1</th>\n",
       "      <th>total_of_special_requests_2</th>\n",
       "      <th>total_of_special_requests_3</th>\n",
       "    </tr>\n",
       "  </thead>\n",
       "  <tbody>\n",
       "    <tr>\n",
       "      <th>2392</th>\n",
       "      <td>True</td>\n",
       "      <td>True</td>\n",
       "      <td>False</td>\n",
       "      <td>True</td>\n",
       "      <td>True</td>\n",
       "      <td>True</td>\n",
       "      <td>False</td>\n",
       "      <td>True</td>\n",
       "      <td>False</td>\n",
       "      <td>False</td>\n",
       "      <td>...</td>\n",
       "      <td>False</td>\n",
       "      <td>False</td>\n",
       "      <td>False</td>\n",
       "      <td>False</td>\n",
       "      <td>True</td>\n",
       "      <td>False</td>\n",
       "      <td>False</td>\n",
       "      <td>True</td>\n",
       "      <td>False</td>\n",
       "      <td>False</td>\n",
       "    </tr>\n",
       "    <tr>\n",
       "      <th>2697</th>\n",
       "      <td>True</td>\n",
       "      <td>True</td>\n",
       "      <td>False</td>\n",
       "      <td>True</td>\n",
       "      <td>True</td>\n",
       "      <td>False</td>\n",
       "      <td>False</td>\n",
       "      <td>False</td>\n",
       "      <td>False</td>\n",
       "      <td>True</td>\n",
       "      <td>...</td>\n",
       "      <td>True</td>\n",
       "      <td>False</td>\n",
       "      <td>False</td>\n",
       "      <td>True</td>\n",
       "      <td>False</td>\n",
       "      <td>False</td>\n",
       "      <td>True</td>\n",
       "      <td>False</td>\n",
       "      <td>False</td>\n",
       "      <td>False</td>\n",
       "    </tr>\n",
       "    <tr>\n",
       "      <th>2867</th>\n",
       "      <td>True</td>\n",
       "      <td>True</td>\n",
       "      <td>False</td>\n",
       "      <td>True</td>\n",
       "      <td>True</td>\n",
       "      <td>False</td>\n",
       "      <td>False</td>\n",
       "      <td>False</td>\n",
       "      <td>False</td>\n",
       "      <td>True</td>\n",
       "      <td>...</td>\n",
       "      <td>True</td>\n",
       "      <td>False</td>\n",
       "      <td>False</td>\n",
       "      <td>True</td>\n",
       "      <td>False</td>\n",
       "      <td>False</td>\n",
       "      <td>True</td>\n",
       "      <td>False</td>\n",
       "      <td>False</td>\n",
       "      <td>False</td>\n",
       "    </tr>\n",
       "    <tr>\n",
       "      <th>2877</th>\n",
       "      <td>True</td>\n",
       "      <td>True</td>\n",
       "      <td>False</td>\n",
       "      <td>True</td>\n",
       "      <td>True</td>\n",
       "      <td>False</td>\n",
       "      <td>False</td>\n",
       "      <td>False</td>\n",
       "      <td>False</td>\n",
       "      <td>True</td>\n",
       "      <td>...</td>\n",
       "      <td>True</td>\n",
       "      <td>False</td>\n",
       "      <td>True</td>\n",
       "      <td>False</td>\n",
       "      <td>False</td>\n",
       "      <td>False</td>\n",
       "      <td>True</td>\n",
       "      <td>False</td>\n",
       "      <td>False</td>\n",
       "      <td>False</td>\n",
       "    </tr>\n",
       "    <tr>\n",
       "      <th>2878</th>\n",
       "      <td>True</td>\n",
       "      <td>True</td>\n",
       "      <td>False</td>\n",
       "      <td>True</td>\n",
       "      <td>True</td>\n",
       "      <td>False</td>\n",
       "      <td>False</td>\n",
       "      <td>False</td>\n",
       "      <td>False</td>\n",
       "      <td>True</td>\n",
       "      <td>...</td>\n",
       "      <td>True</td>\n",
       "      <td>False</td>\n",
       "      <td>False</td>\n",
       "      <td>True</td>\n",
       "      <td>False</td>\n",
       "      <td>False</td>\n",
       "      <td>True</td>\n",
       "      <td>False</td>\n",
       "      <td>False</td>\n",
       "      <td>False</td>\n",
       "    </tr>\n",
       "    <tr>\n",
       "      <th>...</th>\n",
       "      <td>...</td>\n",
       "      <td>...</td>\n",
       "      <td>...</td>\n",
       "      <td>...</td>\n",
       "      <td>...</td>\n",
       "      <td>...</td>\n",
       "      <td>...</td>\n",
       "      <td>...</td>\n",
       "      <td>...</td>\n",
       "      <td>...</td>\n",
       "      <td>...</td>\n",
       "      <td>...</td>\n",
       "      <td>...</td>\n",
       "      <td>...</td>\n",
       "      <td>...</td>\n",
       "      <td>...</td>\n",
       "      <td>...</td>\n",
       "      <td>...</td>\n",
       "      <td>...</td>\n",
       "      <td>...</td>\n",
       "      <td>...</td>\n",
       "    </tr>\n",
       "    <tr>\n",
       "      <th>112499</th>\n",
       "      <td>False</td>\n",
       "      <td>True</td>\n",
       "      <td>False</td>\n",
       "      <td>True</td>\n",
       "      <td>True</td>\n",
       "      <td>False</td>\n",
       "      <td>False</td>\n",
       "      <td>False</td>\n",
       "      <td>True</td>\n",
       "      <td>False</td>\n",
       "      <td>...</td>\n",
       "      <td>True</td>\n",
       "      <td>False</td>\n",
       "      <td>False</td>\n",
       "      <td>False</td>\n",
       "      <td>False</td>\n",
       "      <td>True</td>\n",
       "      <td>False</td>\n",
       "      <td>True</td>\n",
       "      <td>False</td>\n",
       "      <td>False</td>\n",
       "    </tr>\n",
       "    <tr>\n",
       "      <th>113046</th>\n",
       "      <td>False</td>\n",
       "      <td>True</td>\n",
       "      <td>False</td>\n",
       "      <td>True</td>\n",
       "      <td>True</td>\n",
       "      <td>False</td>\n",
       "      <td>False</td>\n",
       "      <td>False</td>\n",
       "      <td>True</td>\n",
       "      <td>False</td>\n",
       "      <td>...</td>\n",
       "      <td>False</td>\n",
       "      <td>False</td>\n",
       "      <td>False</td>\n",
       "      <td>False</td>\n",
       "      <td>True</td>\n",
       "      <td>False</td>\n",
       "      <td>True</td>\n",
       "      <td>False</td>\n",
       "      <td>False</td>\n",
       "      <td>False</td>\n",
       "    </tr>\n",
       "    <tr>\n",
       "      <th>113082</th>\n",
       "      <td>False</td>\n",
       "      <td>True</td>\n",
       "      <td>False</td>\n",
       "      <td>True</td>\n",
       "      <td>True</td>\n",
       "      <td>False</td>\n",
       "      <td>False</td>\n",
       "      <td>False</td>\n",
       "      <td>True</td>\n",
       "      <td>False</td>\n",
       "      <td>...</td>\n",
       "      <td>False</td>\n",
       "      <td>False</td>\n",
       "      <td>False</td>\n",
       "      <td>False</td>\n",
       "      <td>False</td>\n",
       "      <td>True</td>\n",
       "      <td>True</td>\n",
       "      <td>False</td>\n",
       "      <td>False</td>\n",
       "      <td>False</td>\n",
       "    </tr>\n",
       "    <tr>\n",
       "      <th>113627</th>\n",
       "      <td>False</td>\n",
       "      <td>True</td>\n",
       "      <td>False</td>\n",
       "      <td>True</td>\n",
       "      <td>True</td>\n",
       "      <td>False</td>\n",
       "      <td>False</td>\n",
       "      <td>False</td>\n",
       "      <td>False</td>\n",
       "      <td>False</td>\n",
       "      <td>...</td>\n",
       "      <td>False</td>\n",
       "      <td>False</td>\n",
       "      <td>False</td>\n",
       "      <td>False</td>\n",
       "      <td>False</td>\n",
       "      <td>True</td>\n",
       "      <td>True</td>\n",
       "      <td>False</td>\n",
       "      <td>False</td>\n",
       "      <td>False</td>\n",
       "    </tr>\n",
       "    <tr>\n",
       "      <th>116451</th>\n",
       "      <td>False</td>\n",
       "      <td>True</td>\n",
       "      <td>False</td>\n",
       "      <td>True</td>\n",
       "      <td>True</td>\n",
       "      <td>False</td>\n",
       "      <td>False</td>\n",
       "      <td>False</td>\n",
       "      <td>False</td>\n",
       "      <td>False</td>\n",
       "      <td>...</td>\n",
       "      <td>False</td>\n",
       "      <td>False</td>\n",
       "      <td>False</td>\n",
       "      <td>False</td>\n",
       "      <td>False</td>\n",
       "      <td>True</td>\n",
       "      <td>False</td>\n",
       "      <td>False</td>\n",
       "      <td>True</td>\n",
       "      <td>False</td>\n",
       "    </tr>\n",
       "  </tbody>\n",
       "</table>\n",
       "<p>187 rows × 162 columns</p>\n",
       "</div>"
      ],
      "text/plain": [
       "        hotel  is_canceled  babies  is_repeated_guest  previous_cancellations  \\\n",
       "2392     True         True   False               True                    True   \n",
       "2697     True         True   False               True                    True   \n",
       "2867     True         True   False               True                    True   \n",
       "2877     True         True   False               True                    True   \n",
       "2878     True         True   False               True                    True   \n",
       "...       ...          ...     ...                ...                     ...   \n",
       "112499  False         True   False               True                    True   \n",
       "113046  False         True   False               True                    True   \n",
       "113082  False         True   False               True                    True   \n",
       "113627  False         True   False               True                    True   \n",
       "116451  False         True   False               True                    True   \n",
       "\n",
       "        required_car_parking_spaces  lead_time_(-0.001, 1.6]  \\\n",
       "2392                           True                    False   \n",
       "2697                          False                    False   \n",
       "2867                          False                    False   \n",
       "2877                          False                    False   \n",
       "2878                          False                    False   \n",
       "...                             ...                      ...   \n",
       "112499                        False                    False   \n",
       "113046                        False                    False   \n",
       "113082                        False                    False   \n",
       "113627                        False                    False   \n",
       "116451                        False                    False   \n",
       "\n",
       "        lead_time_(1.6, 8.2]  lead_time_(8.2, 16.6]  lead_time_(16.6, 24.0]  \\\n",
       "2392                    True                  False                   False   \n",
       "2697                   False                  False                    True   \n",
       "2867                   False                  False                    True   \n",
       "2877                   False                  False                    True   \n",
       "2878                   False                  False                    True   \n",
       "...                      ...                    ...                     ...   \n",
       "112499                 False                   True                   False   \n",
       "113046                 False                   True                   False   \n",
       "113082                 False                   True                   False   \n",
       "113627                 False                  False                   False   \n",
       "116451                 False                  False                   False   \n",
       "\n",
       "        ...  customer_type_Transient-Party  adr_(-0.001, 36.0]  \\\n",
       "2392    ...                          False               False   \n",
       "2697    ...                           True               False   \n",
       "2867    ...                           True               False   \n",
       "2877    ...                           True               False   \n",
       "2878    ...                           True               False   \n",
       "...     ...                            ...                 ...   \n",
       "112499  ...                           True               False   \n",
       "113046  ...                          False               False   \n",
       "113082  ...                          False               False   \n",
       "113627  ...                          False               False   \n",
       "116451  ...                          False               False   \n",
       "\n",
       "        adr_(36.0, 43.2]  adr_(43.2, 52.2]  adr_(52.2, 95.0]  \\\n",
       "2392               False             False              True   \n",
       "2697               False              True             False   \n",
       "2867               False              True             False   \n",
       "2877                True             False             False   \n",
       "2878               False              True             False   \n",
       "...                  ...               ...               ...   \n",
       "112499             False             False             False   \n",
       "113046             False             False              True   \n",
       "113082             False             False             False   \n",
       "113627             False             False             False   \n",
       "116451             False             False             False   \n",
       "\n",
       "        adr_(95.0, 246.0]  total_of_special_requests_0  \\\n",
       "2392                False                        False   \n",
       "2697                False                         True   \n",
       "2867                False                         True   \n",
       "2877                False                         True   \n",
       "2878                False                         True   \n",
       "...                   ...                          ...   \n",
       "112499               True                        False   \n",
       "113046              False                         True   \n",
       "113082               True                         True   \n",
       "113627               True                         True   \n",
       "116451               True                        False   \n",
       "\n",
       "        total_of_special_requests_1  total_of_special_requests_2  \\\n",
       "2392                           True                        False   \n",
       "2697                          False                        False   \n",
       "2867                          False                        False   \n",
       "2877                          False                        False   \n",
       "2878                          False                        False   \n",
       "...                             ...                          ...   \n",
       "112499                         True                        False   \n",
       "113046                        False                        False   \n",
       "113082                        False                        False   \n",
       "113627                        False                        False   \n",
       "116451                        False                         True   \n",
       "\n",
       "        total_of_special_requests_3  \n",
       "2392                          False  \n",
       "2697                          False  \n",
       "2867                          False  \n",
       "2877                          False  \n",
       "2878                          False  \n",
       "...                             ...  \n",
       "112499                        False  \n",
       "113046                        False  \n",
       "113082                        False  \n",
       "113627                        False  \n",
       "116451                        False  \n",
       "\n",
       "[187 rows x 162 columns]"
      ]
     },
     "execution_count": 88,
     "metadata": {},
     "output_type": "execute_result"
    }
   ],
   "source": [
    "df_bin"
   ]
  },
  {
   "cell_type": "code",
   "execution_count": 89,
   "id": "845403d4",
   "metadata": {},
   "outputs": [
    {
     "data": {
      "text/plain": [
       "(187, 162)"
      ]
     },
     "execution_count": 89,
     "metadata": {},
     "output_type": "execute_result"
    }
   ],
   "source": [
    "df_bin.shape"
   ]
  },
  {
   "cell_type": "code",
   "execution_count": 90,
   "id": "7b3b08ed",
   "metadata": {
    "scrolled": true
   },
   "outputs": [
    {
     "data": {
      "text/plain": [
       "is_canceled\n",
       "True     0.919786\n",
       "False    0.080214\n",
       "Name: proportion, dtype: float64"
      ]
     },
     "execution_count": 90,
     "metadata": {},
     "output_type": "execute_result"
    }
   ],
   "source": [
    "df_bin['is_canceled'].value_counts(normalize=True)"
   ]
  },
  {
   "cell_type": "code",
   "execution_count": 99,
   "id": "abd336b7",
   "metadata": {
    "scrolled": true
   },
   "outputs": [
    {
     "data": {
      "text/html": [
       "<div>\n",
       "<style scoped>\n",
       "    .dataframe tbody tr th:only-of-type {\n",
       "        vertical-align: middle;\n",
       "    }\n",
       "\n",
       "    .dataframe tbody tr th {\n",
       "        vertical-align: top;\n",
       "    }\n",
       "\n",
       "    .dataframe thead th {\n",
       "        text-align: right;\n",
       "    }\n",
       "</style>\n",
       "<table border=\"1\" class=\"dataframe\">\n",
       "  <thead>\n",
       "    <tr style=\"text-align: right;\">\n",
       "      <th></th>\n",
       "      <th>hotel</th>\n",
       "      <th>is_canceled</th>\n",
       "      <th>babies</th>\n",
       "      <th>is_repeated_guest</th>\n",
       "      <th>previous_cancellations</th>\n",
       "      <th>required_car_parking_spaces</th>\n",
       "      <th>lead_time_(-0.001, 1.6]</th>\n",
       "      <th>lead_time_(1.6, 8.2]</th>\n",
       "      <th>lead_time_(8.2, 16.6]</th>\n",
       "      <th>lead_time_(16.6, 24.0]</th>\n",
       "      <th>...</th>\n",
       "      <th>customer_type_Transient-Party</th>\n",
       "      <th>adr_(-0.001, 36.0]</th>\n",
       "      <th>adr_(36.0, 43.2]</th>\n",
       "      <th>adr_(43.2, 52.2]</th>\n",
       "      <th>adr_(52.2, 95.0]</th>\n",
       "      <th>adr_(95.0, 246.0]</th>\n",
       "      <th>total_of_special_requests_0</th>\n",
       "      <th>total_of_special_requests_1</th>\n",
       "      <th>total_of_special_requests_2</th>\n",
       "      <th>total_of_special_requests_3</th>\n",
       "    </tr>\n",
       "  </thead>\n",
       "  <tbody>\n",
       "    <tr>\n",
       "      <th>31325</th>\n",
       "      <td>True</td>\n",
       "      <td>True</td>\n",
       "      <td>False</td>\n",
       "      <td>True</td>\n",
       "      <td>True</td>\n",
       "      <td>False</td>\n",
       "      <td>False</td>\n",
       "      <td>True</td>\n",
       "      <td>False</td>\n",
       "      <td>False</td>\n",
       "      <td>...</td>\n",
       "      <td>False</td>\n",
       "      <td>False</td>\n",
       "      <td>False</td>\n",
       "      <td>True</td>\n",
       "      <td>False</td>\n",
       "      <td>False</td>\n",
       "      <td>True</td>\n",
       "      <td>False</td>\n",
       "      <td>False</td>\n",
       "      <td>False</td>\n",
       "    </tr>\n",
       "    <tr>\n",
       "      <th>42126</th>\n",
       "      <td>False</td>\n",
       "      <td>True</td>\n",
       "      <td>False</td>\n",
       "      <td>True</td>\n",
       "      <td>True</td>\n",
       "      <td>False</td>\n",
       "      <td>True</td>\n",
       "      <td>False</td>\n",
       "      <td>False</td>\n",
       "      <td>False</td>\n",
       "      <td>...</td>\n",
       "      <td>False</td>\n",
       "      <td>False</td>\n",
       "      <td>False</td>\n",
       "      <td>False</td>\n",
       "      <td>True</td>\n",
       "      <td>False</td>\n",
       "      <td>False</td>\n",
       "      <td>False</td>\n",
       "      <td>True</td>\n",
       "      <td>False</td>\n",
       "    </tr>\n",
       "    <tr>\n",
       "      <th>30628</th>\n",
       "      <td>True</td>\n",
       "      <td>True</td>\n",
       "      <td>False</td>\n",
       "      <td>True</td>\n",
       "      <td>True</td>\n",
       "      <td>False</td>\n",
       "      <td>True</td>\n",
       "      <td>False</td>\n",
       "      <td>False</td>\n",
       "      <td>False</td>\n",
       "      <td>...</td>\n",
       "      <td>False</td>\n",
       "      <td>False</td>\n",
       "      <td>True</td>\n",
       "      <td>False</td>\n",
       "      <td>False</td>\n",
       "      <td>False</td>\n",
       "      <td>True</td>\n",
       "      <td>False</td>\n",
       "      <td>False</td>\n",
       "      <td>False</td>\n",
       "    </tr>\n",
       "    <tr>\n",
       "      <th>34086</th>\n",
       "      <td>True</td>\n",
       "      <td>True</td>\n",
       "      <td>False</td>\n",
       "      <td>True</td>\n",
       "      <td>True</td>\n",
       "      <td>False</td>\n",
       "      <td>False</td>\n",
       "      <td>False</td>\n",
       "      <td>False</td>\n",
       "      <td>False</td>\n",
       "      <td>...</td>\n",
       "      <td>False</td>\n",
       "      <td>False</td>\n",
       "      <td>False</td>\n",
       "      <td>False</td>\n",
       "      <td>True</td>\n",
       "      <td>False</td>\n",
       "      <td>False</td>\n",
       "      <td>True</td>\n",
       "      <td>False</td>\n",
       "      <td>False</td>\n",
       "    </tr>\n",
       "    <tr>\n",
       "      <th>18217</th>\n",
       "      <td>True</td>\n",
       "      <td>True</td>\n",
       "      <td>False</td>\n",
       "      <td>True</td>\n",
       "      <td>True</td>\n",
       "      <td>False</td>\n",
       "      <td>False</td>\n",
       "      <td>False</td>\n",
       "      <td>False</td>\n",
       "      <td>False</td>\n",
       "      <td>...</td>\n",
       "      <td>True</td>\n",
       "      <td>True</td>\n",
       "      <td>False</td>\n",
       "      <td>False</td>\n",
       "      <td>False</td>\n",
       "      <td>False</td>\n",
       "      <td>True</td>\n",
       "      <td>False</td>\n",
       "      <td>False</td>\n",
       "      <td>False</td>\n",
       "    </tr>\n",
       "    <tr>\n",
       "      <th>...</th>\n",
       "      <td>...</td>\n",
       "      <td>...</td>\n",
       "      <td>...</td>\n",
       "      <td>...</td>\n",
       "      <td>...</td>\n",
       "      <td>...</td>\n",
       "      <td>...</td>\n",
       "      <td>...</td>\n",
       "      <td>...</td>\n",
       "      <td>...</td>\n",
       "      <td>...</td>\n",
       "      <td>...</td>\n",
       "      <td>...</td>\n",
       "      <td>...</td>\n",
       "      <td>...</td>\n",
       "      <td>...</td>\n",
       "      <td>...</td>\n",
       "      <td>...</td>\n",
       "      <td>...</td>\n",
       "      <td>...</td>\n",
       "      <td>...</td>\n",
       "    </tr>\n",
       "    <tr>\n",
       "      <th>2880</th>\n",
       "      <td>True</td>\n",
       "      <td>True</td>\n",
       "      <td>False</td>\n",
       "      <td>True</td>\n",
       "      <td>True</td>\n",
       "      <td>False</td>\n",
       "      <td>False</td>\n",
       "      <td>False</td>\n",
       "      <td>False</td>\n",
       "      <td>True</td>\n",
       "      <td>...</td>\n",
       "      <td>True</td>\n",
       "      <td>False</td>\n",
       "      <td>False</td>\n",
       "      <td>True</td>\n",
       "      <td>False</td>\n",
       "      <td>False</td>\n",
       "      <td>True</td>\n",
       "      <td>False</td>\n",
       "      <td>False</td>\n",
       "      <td>False</td>\n",
       "    </tr>\n",
       "    <tr>\n",
       "      <th>3032</th>\n",
       "      <td>True</td>\n",
       "      <td>True</td>\n",
       "      <td>False</td>\n",
       "      <td>True</td>\n",
       "      <td>True</td>\n",
       "      <td>False</td>\n",
       "      <td>False</td>\n",
       "      <td>False</td>\n",
       "      <td>False</td>\n",
       "      <td>False</td>\n",
       "      <td>...</td>\n",
       "      <td>False</td>\n",
       "      <td>True</td>\n",
       "      <td>False</td>\n",
       "      <td>False</td>\n",
       "      <td>False</td>\n",
       "      <td>False</td>\n",
       "      <td>True</td>\n",
       "      <td>False</td>\n",
       "      <td>False</td>\n",
       "      <td>False</td>\n",
       "    </tr>\n",
       "    <tr>\n",
       "      <th>2918</th>\n",
       "      <td>True</td>\n",
       "      <td>True</td>\n",
       "      <td>False</td>\n",
       "      <td>True</td>\n",
       "      <td>True</td>\n",
       "      <td>True</td>\n",
       "      <td>False</td>\n",
       "      <td>False</td>\n",
       "      <td>False</td>\n",
       "      <td>False</td>\n",
       "      <td>...</td>\n",
       "      <td>True</td>\n",
       "      <td>False</td>\n",
       "      <td>False</td>\n",
       "      <td>True</td>\n",
       "      <td>False</td>\n",
       "      <td>False</td>\n",
       "      <td>True</td>\n",
       "      <td>False</td>\n",
       "      <td>False</td>\n",
       "      <td>False</td>\n",
       "    </tr>\n",
       "    <tr>\n",
       "      <th>38400</th>\n",
       "      <td>True</td>\n",
       "      <td>True</td>\n",
       "      <td>False</td>\n",
       "      <td>True</td>\n",
       "      <td>True</td>\n",
       "      <td>False</td>\n",
       "      <td>False</td>\n",
       "      <td>False</td>\n",
       "      <td>False</td>\n",
       "      <td>False</td>\n",
       "      <td>...</td>\n",
       "      <td>False</td>\n",
       "      <td>False</td>\n",
       "      <td>False</td>\n",
       "      <td>False</td>\n",
       "      <td>False</td>\n",
       "      <td>True</td>\n",
       "      <td>True</td>\n",
       "      <td>False</td>\n",
       "      <td>False</td>\n",
       "      <td>False</td>\n",
       "    </tr>\n",
       "    <tr>\n",
       "      <th>2965</th>\n",
       "      <td>True</td>\n",
       "      <td>True</td>\n",
       "      <td>False</td>\n",
       "      <td>True</td>\n",
       "      <td>True</td>\n",
       "      <td>False</td>\n",
       "      <td>False</td>\n",
       "      <td>False</td>\n",
       "      <td>False</td>\n",
       "      <td>False</td>\n",
       "      <td>...</td>\n",
       "      <td>True</td>\n",
       "      <td>False</td>\n",
       "      <td>True</td>\n",
       "      <td>False</td>\n",
       "      <td>False</td>\n",
       "      <td>False</td>\n",
       "      <td>True</td>\n",
       "      <td>False</td>\n",
       "      <td>False</td>\n",
       "      <td>False</td>\n",
       "    </tr>\n",
       "  </tbody>\n",
       "</table>\n",
       "<p>100 rows × 162 columns</p>\n",
       "</div>"
      ],
      "text/plain": [
       "       hotel  is_canceled  babies  is_repeated_guest  previous_cancellations  \\\n",
       "31325   True         True   False               True                    True   \n",
       "42126  False         True   False               True                    True   \n",
       "30628   True         True   False               True                    True   \n",
       "34086   True         True   False               True                    True   \n",
       "18217   True         True   False               True                    True   \n",
       "...      ...          ...     ...                ...                     ...   \n",
       "2880    True         True   False               True                    True   \n",
       "3032    True         True   False               True                    True   \n",
       "2918    True         True   False               True                    True   \n",
       "38400   True         True   False               True                    True   \n",
       "2965    True         True   False               True                    True   \n",
       "\n",
       "       required_car_parking_spaces  lead_time_(-0.001, 1.6]  \\\n",
       "31325                        False                    False   \n",
       "42126                        False                     True   \n",
       "30628                        False                     True   \n",
       "34086                        False                    False   \n",
       "18217                        False                    False   \n",
       "...                            ...                      ...   \n",
       "2880                         False                    False   \n",
       "3032                         False                    False   \n",
       "2918                          True                    False   \n",
       "38400                        False                    False   \n",
       "2965                         False                    False   \n",
       "\n",
       "       lead_time_(1.6, 8.2]  lead_time_(8.2, 16.6]  lead_time_(16.6, 24.0]  \\\n",
       "31325                  True                  False                   False   \n",
       "42126                 False                  False                   False   \n",
       "30628                 False                  False                   False   \n",
       "34086                 False                  False                   False   \n",
       "18217                 False                  False                   False   \n",
       "...                     ...                    ...                     ...   \n",
       "2880                  False                  False                    True   \n",
       "3032                  False                  False                   False   \n",
       "2918                  False                  False                   False   \n",
       "38400                 False                  False                   False   \n",
       "2965                  False                  False                   False   \n",
       "\n",
       "       ...  customer_type_Transient-Party  adr_(-0.001, 36.0]  \\\n",
       "31325  ...                          False               False   \n",
       "42126  ...                          False               False   \n",
       "30628  ...                          False               False   \n",
       "34086  ...                          False               False   \n",
       "18217  ...                           True                True   \n",
       "...    ...                            ...                 ...   \n",
       "2880   ...                           True               False   \n",
       "3032   ...                          False                True   \n",
       "2918   ...                           True               False   \n",
       "38400  ...                          False               False   \n",
       "2965   ...                           True               False   \n",
       "\n",
       "       adr_(36.0, 43.2]  adr_(43.2, 52.2]  adr_(52.2, 95.0]  \\\n",
       "31325             False              True             False   \n",
       "42126             False             False              True   \n",
       "30628              True             False             False   \n",
       "34086             False             False              True   \n",
       "18217             False             False             False   \n",
       "...                 ...               ...               ...   \n",
       "2880              False              True             False   \n",
       "3032              False             False             False   \n",
       "2918              False              True             False   \n",
       "38400             False             False             False   \n",
       "2965               True             False             False   \n",
       "\n",
       "       adr_(95.0, 246.0]  total_of_special_requests_0  \\\n",
       "31325              False                         True   \n",
       "42126              False                        False   \n",
       "30628              False                         True   \n",
       "34086              False                        False   \n",
       "18217              False                         True   \n",
       "...                  ...                          ...   \n",
       "2880               False                         True   \n",
       "3032               False                         True   \n",
       "2918               False                         True   \n",
       "38400               True                         True   \n",
       "2965               False                         True   \n",
       "\n",
       "       total_of_special_requests_1  total_of_special_requests_2  \\\n",
       "31325                        False                        False   \n",
       "42126                        False                         True   \n",
       "30628                        False                        False   \n",
       "34086                         True                        False   \n",
       "18217                        False                        False   \n",
       "...                            ...                          ...   \n",
       "2880                         False                        False   \n",
       "3032                         False                        False   \n",
       "2918                         False                        False   \n",
       "38400                        False                        False   \n",
       "2965                         False                        False   \n",
       "\n",
       "       total_of_special_requests_3  \n",
       "31325                        False  \n",
       "42126                        False  \n",
       "30628                        False  \n",
       "34086                        False  \n",
       "18217                        False  \n",
       "...                            ...  \n",
       "2880                         False  \n",
       "3032                         False  \n",
       "2918                         False  \n",
       "38400                        False  \n",
       "2965                         False  \n",
       "\n",
       "[100 rows x 162 columns]"
      ]
     },
     "execution_count": 99,
     "metadata": {},
     "output_type": "execute_result"
    }
   ],
   "source": [
    "df_positive = df_bin[df_bin['is_canceled'] == True].sample(n=85, random_state=3407)\n",
    "df_negative = df_bin[df_bin['is_canceled'] == False].sample(n=15, random_state=3407)\n",
    "df = pd.concat([df_positive, df_negative], axis=0)\n",
    "df = df.sample(frac=1, random_state=3407)\n",
    "df"
   ]
  },
  {
   "cell_type": "code",
   "execution_count": 100,
   "id": "7e2aff63",
   "metadata": {},
   "outputs": [
    {
     "data": {
      "text/plain": [
       "(100, 162)"
      ]
     },
     "execution_count": 100,
     "metadata": {},
     "output_type": "execute_result"
    }
   ],
   "source": [
    "df.shape"
   ]
  },
  {
   "cell_type": "code",
   "execution_count": 101,
   "id": "679c06b0",
   "metadata": {},
   "outputs": [
    {
     "data": {
      "text/plain": [
       "is_canceled\n",
       "True     0.85\n",
       "False    0.15\n",
       "Name: proportion, dtype: float64"
      ]
     },
     "execution_count": 101,
     "metadata": {},
     "output_type": "execute_result"
    }
   ],
   "source": [
    "df['is_canceled'].value_counts(normalize=True)"
   ]
  },
  {
   "cell_type": "code",
   "execution_count": 103,
   "id": "fd194266",
   "metadata": {
    "scrolled": true
   },
   "outputs": [],
   "source": [
    "features = df.drop(columns='is_canceled').columns\n",
    "target = ['is_canceled']"
   ]
  },
  {
   "cell_type": "code",
   "execution_count": 104,
   "id": "2653eba1",
   "metadata": {
    "scrolled": true
   },
   "outputs": [],
   "source": [
    "X = df[features]\n",
    "y = df[target]"
   ]
  },
  {
   "cell_type": "markdown",
   "id": "15580179",
   "metadata": {},
   "source": [
    "# Testing models"
   ]
  },
  {
   "cell_type": "code",
   "execution_count": 105,
   "id": "d267732e",
   "metadata": {
    "scrolled": true
   },
   "outputs": [],
   "source": [
    "scoring = {'accuracy' : make_scorer(accuracy_score),\n",
    "           'f1_macro' : make_scorer(f1_score, average='macro'),\n",
    "           'f1_binary' : make_scorer(f1_score),\n",
    "          }\n",
    "\n",
    "kfold = StratifiedKFold(n_splits=10, random_state=3407, shuffle=True)"
   ]
  },
  {
   "cell_type": "code",
   "execution_count": 106,
   "id": "129d3eb6",
   "metadata": {},
   "outputs": [],
   "source": [
    "def print_results(results):\n",
    "    acc = np.round(np.mean(results['test_accuracy']), 4) \n",
    "    f1_m = np.round(np.mean(results['test_f1_macro']), 4)\n",
    "    f1_b = np.round(np.mean(results['test_f1_binary']), 4)\n",
    "    print(f'Accuracy = {acc:0.4f}, F1_macro = {f1_m:0.4f}, F1_binary = {f1_b:0.4f}')  "
   ]
  },
  {
   "cell_type": "code",
   "execution_count": 107,
   "id": "2cec4d57",
   "metadata": {},
   "outputs": [],
   "source": [
    "import warnings\n",
    "warnings.filterwarnings('ignore')"
   ]
  },
  {
   "cell_type": "markdown",
   "id": "f3bbf43f",
   "metadata": {},
   "source": [
    "# Standard models"
   ]
  },
  {
   "cell_type": "markdown",
   "id": "ab9283b4",
   "metadata": {},
   "source": [
    "### Logistic regression"
   ]
  },
  {
   "cell_type": "code",
   "execution_count": 108,
   "id": "23c92255",
   "metadata": {},
   "outputs": [
    {
     "name": "stdout",
     "output_type": "stream",
     "text": [
      "Fitting 10 folds for each of 101 candidates, totalling 1010 fits\n"
     ]
    },
    {
     "data": {
      "text/plain": [
       "{'C': 1.48}"
      ]
     },
     "execution_count": 108,
     "metadata": {},
     "output_type": "execute_result"
    }
   ],
   "source": [
    "parameters = {'C' : np.linspace(1,5,101)}\n",
    "\n",
    "model = LogisticRegression()\n",
    "\n",
    "best = GridSearchCV(estimator=model, \n",
    "                    param_grid=parameters, \n",
    "                    cv=kfold,\n",
    "                    verbose=1, \n",
    "                    scoring=scoring,\n",
    "                    refit='f1_binary'\n",
    "                   )\n",
    "best.fit(X, y)\n",
    "best.best_params_"
   ]
  },
  {
   "cell_type": "code",
   "execution_count": 109,
   "id": "b59818f1",
   "metadata": {},
   "outputs": [
    {
     "name": "stdout",
     "output_type": "stream",
     "text": [
      "Accuracy = 0.8700, F1_macro = 0.5967, F1_binary = 0.9267\n"
     ]
    }
   ],
   "source": [
    "model = LogisticRegression(C=best.best_params_['C'])\n",
    "results = cross_validate(estimator=model,\n",
    "                         X=X, y=y,\n",
    "                         cv=kfold,\n",
    "                         scoring=scoring\n",
    "                         )\n",
    "print_results(results)"
   ]
  },
  {
   "cell_type": "markdown",
   "id": "35286682",
   "metadata": {},
   "source": [
    "### K-Nearest Neighbours"
   ]
  },
  {
   "cell_type": "code",
   "execution_count": 110,
   "id": "75cbea62",
   "metadata": {},
   "outputs": [
    {
     "name": "stdout",
     "output_type": "stream",
     "text": [
      "Fitting 10 folds for each of 17 candidates, totalling 170 fits\n"
     ]
    },
    {
     "data": {
      "text/plain": [
       "{'n_neighbors': 13}"
      ]
     },
     "execution_count": 110,
     "metadata": {},
     "output_type": "execute_result"
    }
   ],
   "source": [
    "parameters = {'n_neighbors' : range(3, 20, 1)}\n",
    "\n",
    "model = KNeighborsClassifier()\n",
    "\n",
    "best = GridSearchCV(estimator=model, \n",
    "                    param_grid=parameters, \n",
    "                    cv=kfold,\n",
    "                    verbose=1, \n",
    "                    scoring=scoring,\n",
    "                    refit='f1_binary'\n",
    "                   )\n",
    "\n",
    "best.fit(X, y)\n",
    "best.best_params_"
   ]
  },
  {
   "cell_type": "code",
   "execution_count": 111,
   "id": "ae58230c",
   "metadata": {},
   "outputs": [
    {
     "name": "stdout",
     "output_type": "stream",
     "text": [
      "Accuracy = 0.8800, F1_macro = 0.5836, F1_binary = 0.9338\n"
     ]
    }
   ],
   "source": [
    "model = KNeighborsClassifier(n_neighbors=best.best_params_['n_neighbors'])\n",
    "results = cross_validate(estimator=model,\n",
    "                         X=X,\n",
    "                         y=y,\n",
    "                         cv=kfold,\n",
    "                         scoring=scoring\n",
    "                         )\n",
    "print_results(results)"
   ]
  },
  {
   "cell_type": "markdown",
   "id": "8b1de6c4",
   "metadata": {},
   "source": [
    "### Naive Bayes"
   ]
  },
  {
   "cell_type": "code",
   "execution_count": 112,
   "id": "d9c2060c",
   "metadata": {},
   "outputs": [
    {
     "name": "stdout",
     "output_type": "stream",
     "text": [
      "Fitting 10 folds for each of 100 candidates, totalling 1000 fits\n"
     ]
    },
    {
     "data": {
      "text/plain": [
       "{'var_smoothing': 0.01519911082952933}"
      ]
     },
     "execution_count": 112,
     "metadata": {},
     "output_type": "execute_result"
    }
   ],
   "source": [
    "parameters = {'var_smoothing': np.logspace(0,-9, num=100)}\n",
    "\n",
    "model = GaussianNB()\n",
    "\n",
    "best = GridSearchCV(estimator=model, \n",
    "                    param_grid=parameters, \n",
    "                    cv=kfold,\n",
    "                    verbose=1, \n",
    "                    scoring=scoring,\n",
    "                    refit='f1_binary'\n",
    "                   )\n",
    "best.fit(X, y)\n",
    "best.best_params_"
   ]
  },
  {
   "cell_type": "code",
   "execution_count": 113,
   "id": "53b4cf45",
   "metadata": {},
   "outputs": [
    {
     "name": "stdout",
     "output_type": "stream",
     "text": [
      "Accuracy = 0.8500, F1_macro = 0.5988, F1_binary = 0.9142\n"
     ]
    }
   ],
   "source": [
    "model = GaussianNB(var_smoothing=best.best_params_['var_smoothing'])\n",
    "\n",
    "results = cross_validate(estimator=model,\n",
    "                         X=X,\n",
    "                         y=y,\n",
    "                         cv=kfold,\n",
    "                         scoring=scoring\n",
    "                         )\n",
    "print_results(results)"
   ]
  },
  {
   "cell_type": "markdown",
   "id": "92890dd7",
   "metadata": {},
   "source": [
    "### Decision tree"
   ]
  },
  {
   "cell_type": "code",
   "execution_count": 114,
   "id": "69995ff2",
   "metadata": {},
   "outputs": [
    {
     "name": "stdout",
     "output_type": "stream",
     "text": [
      "Fitting 10 folds for each of 120 candidates, totalling 1200 fits\n"
     ]
    },
    {
     "data": {
      "text/plain": [
       "{'criterion': 'entropy', 'max_depth': 4, 'min_samples_split': 8}"
      ]
     },
     "execution_count": 114,
     "metadata": {},
     "output_type": "execute_result"
    }
   ],
   "source": [
    "parameters = {'min_samples_split' : range(2,21,2),\n",
    "              'max_depth' : range(2,13,2),\n",
    "              'criterion' : ['gini', 'entropy']\n",
    "             }\n",
    "\n",
    "model = DecisionTreeClassifier()\n",
    "\n",
    "best = GridSearchCV(estimator=model, \n",
    "                    param_grid=parameters, \n",
    "                    cv=kfold,\n",
    "                    verbose=1, \n",
    "                    scoring=scoring,\n",
    "                    refit='f1_binary'\n",
    "                   )\n",
    "best.fit(X, y)\n",
    "best.best_params_"
   ]
  },
  {
   "cell_type": "code",
   "execution_count": 115,
   "id": "4a999e0e",
   "metadata": {},
   "outputs": [
    {
     "name": "stdout",
     "output_type": "stream",
     "text": [
      "Accuracy = 0.8100, F1_macro = 0.5885, F1_binary = 0.8871\n"
     ]
    }
   ],
   "source": [
    "model = DecisionTreeClassifier(\n",
    "    max_depth=best.best_params_['max_depth'], \n",
    "    min_samples_split=best.best_params_['min_samples_split'],\n",
    "    criterion=best.best_params_['criterion']\n",
    ")\n",
    "results = cross_validate(estimator=model,\n",
    "                         X=X,\n",
    "                         y=y,\n",
    "                         cv=kfold,\n",
    "                         scoring=scoring\n",
    "                         )\n",
    "print_results(results)"
   ]
  },
  {
   "cell_type": "markdown",
   "id": "98c87aa4",
   "metadata": {},
   "source": [
    "### RandomForest"
   ]
  },
  {
   "cell_type": "code",
   "execution_count": 116,
   "id": "1474e431",
   "metadata": {},
   "outputs": [
    {
     "name": "stdout",
     "output_type": "stream",
     "text": [
      "Fitting 10 folds for each of 240 candidates, totalling 2400 fits\n"
     ]
    },
    {
     "data": {
      "text/plain": [
       "{'criterion': 'entropy',\n",
       " 'max_depth': 10,\n",
       " 'min_samples_split': 2,\n",
       " 'n_estimators': 25}"
      ]
     },
     "execution_count": 116,
     "metadata": {},
     "output_type": "execute_result"
    }
   ],
   "source": [
    "parameters = {'n_estimators' : range(5,51,10),\n",
    "              'min_samples_split' : range(2,13,2),\n",
    "              'max_depth' : range(4,11,2),\n",
    "              'criterion' : ['gini', 'entropy']\n",
    "             }\n",
    "model = RandomForestClassifier()\n",
    "\n",
    "best = GridSearchCV(estimator=model, \n",
    "                    param_grid=parameters, \n",
    "                    cv=kfold,\n",
    "                    verbose=1, \n",
    "                    scoring=scoring,\n",
    "                    refit='f1_binary'\n",
    "                   )\n",
    "best.fit(X, y)\n",
    "best.best_params_"
   ]
  },
  {
   "cell_type": "code",
   "execution_count": 117,
   "id": "cd756bad",
   "metadata": {},
   "outputs": [
    {
     "name": "stdout",
     "output_type": "stream",
     "text": [
      "Accuracy = 0.8500, F1_macro = 0.5411, F1_binary = 0.9155\n"
     ]
    }
   ],
   "source": [
    "model = RandomForestClassifier(\n",
    "    n_estimators=best.best_params_['n_estimators'],\n",
    "    min_samples_split=best.best_params_['min_samples_split'],\n",
    "    max_depth=best.best_params_['max_depth'],\n",
    "    criterion=best.best_params_['criterion']\n",
    ")\n",
    "results = cross_validate(estimator=model,\n",
    "                         X=X,\n",
    "                         y=y,\n",
    "                         cv=kfold,\n",
    "                         scoring=scoring\n",
    "                         )\n",
    "print_results(results)"
   ]
  },
  {
   "cell_type": "markdown",
   "id": "69a636fb",
   "metadata": {},
   "source": [
    "# Lazy FCA"
   ]
  },
  {
   "cell_type": "markdown",
   "id": "7c223852",
   "metadata": {},
   "source": [
    "Due to the multilabel output of **BinarizedBinaryClassifier** (**1** for **True**, **0** for **false** and **-1** for **undefined**) we cannot utilize **f1_score** with **average='binary'**. Therefore, a function that interprets **undefined** as misclassification was implemented."
   ]
  },
  {
   "cell_type": "code",
   "execution_count": 118,
   "id": "2d5b805e",
   "metadata": {},
   "outputs": [],
   "source": [
    "def compare_with_binary_f1(y_true, y_pred):\n",
    "    y_tmp = np.concatenate(\n",
    "        (np.array(y_true)[:,None],np.array(y_pred)[:,None]),\n",
    "        axis=1\n",
    "    )\n",
    "    df_tmp = pd.DataFrame(y_tmp, columns=['y_true','y_pred'])\n",
    "    df_tmp.y_true = df_tmp.y_true.astype(bool)\n",
    "    df_tmp['y_new']= ~df_tmp.loc[df_tmp.y_pred==-1]['y_true']\n",
    "    df_tmp.loc[df_tmp.y_pred!=-1, 'y_new'] = df_tmp.loc[df_tmp.y_pred!=-1,'y_pred'].astype(bool) \n",
    "    df_tmp.y_new = df_tmp.y_new.astype(bool)\n",
    "    return(f1_score(df_tmp.y_true, df_tmp.y_new))"
   ]
  },
  {
   "cell_type": "code",
   "execution_count": 119,
   "id": "d985bb0b",
   "metadata": {},
   "outputs": [],
   "source": [
    "def results_fca(y_true, y_pred):\n",
    "    f1 = f1_score(y_true, y_pred, average='macro')\n",
    "    accuracy = accuracy_score(y_true, y_pred)\n",
    "    f1_binary = compare_with_binary_f1(y_true, y_pred)\n",
    "    return (accuracy, f1, f1_binary)  "
   ]
  },
  {
   "cell_type": "markdown",
   "id": "e08e2a7c",
   "metadata": {},
   "source": [
    "## BinarizedBinaryClassifier"
   ]
  },
  {
   "cell_type": "markdown",
   "id": "a0be3699",
   "metadata": {},
   "source": [
    "**BinarizedBinaryClassifier** is not a **scikit** model, so **GridSearchCV** and **cross_validate** from **scikit** do not support it. Thus, we check desired parameters in **for**  loops."
   ]
  },
  {
   "cell_type": "code",
   "execution_count": 120,
   "id": "5327c941",
   "metadata": {
    "scrolled": true
   },
   "outputs": [
    {
     "name": "stdout",
     "output_type": "stream",
     "text": [
      "[CV 1/10] method=standard, alpha=0.00, f1_macro=0.6875\n",
      "[CV 2/10] method=standard, alpha=0.00, f1_macro=0.5139\n",
      "[CV 3/10] method=standard, alpha=0.00, f1_macro=0.4444\n",
      "[CV 4/10] method=standard, alpha=0.00, f1_macro=0.3750\n",
      "[CV 5/10] method=standard, alpha=0.00, f1_macro=0.4444\n",
      "[CV 6/10] method=standard, alpha=0.00, f1_macro=1.0000\n",
      "[CV 7/10] method=standard, alpha=0.00, f1_macro=0.8039\n",
      "[CV 8/10] method=standard, alpha=0.00, f1_macro=0.4118\n",
      "[CV 9/10] method=standard, alpha=0.00, f1_macro=0.6000\n",
      "[CV 10/10] method=standard, alpha=0.00, f1_macro=0.6703\n",
      "f1_mean = 0.5951\n",
      "\n",
      "[CV 1/10] method=standard, alpha=0.25, f1_macro=0.5238\n",
      "[CV 2/10] method=standard, alpha=0.25, f1_macro=0.2000\n",
      "[CV 3/10] method=standard, alpha=0.25, f1_macro=0.1667\n",
      "[CV 4/10] method=standard, alpha=0.25, f1_macro=0.0909\n",
      "[CV 5/10] method=standard, alpha=0.25, f1_macro=0.2000\n",
      "[CV 6/10] method=standard, alpha=0.25, f1_macro=0.4000\n",
      "[CV 7/10] method=standard, alpha=0.25, f1_macro=0.5833\n",
      "[CV 8/10] method=standard, alpha=0.25, f1_macro=0.4000\n",
      "[CV 9/10] method=standard, alpha=0.25, f1_macro=0.4000\n",
      "[CV 10/10] method=standard, alpha=0.25, f1_macro=0.5833\n",
      "f1_mean = 0.3548\n",
      "\n",
      "[CV 1/10] method=standard, alpha=0.50, f1_macro=0.3750\n",
      "[CV 2/10] method=standard, alpha=0.50, f1_macro=0.0909\n",
      "[CV 3/10] method=standard, alpha=0.50, f1_macro=0.2000\n",
      "[CV 4/10] method=standard, alpha=0.50, f1_macro=0.0909\n",
      "[CV 5/10] method=standard, alpha=0.50, f1_macro=0.0909\n",
      "[CV 6/10] method=standard, alpha=0.50, f1_macro=0.2929\n",
      "[CV 7/10] method=standard, alpha=0.50, f1_macro=0.1667\n",
      "[CV 8/10] method=standard, alpha=0.50, f1_macro=0.1667\n",
      "[CV 9/10] method=standard, alpha=0.50, f1_macro=0.2929\n",
      "[CV 10/10] method=standard, alpha=0.50, f1_macro=0.4949\n",
      "f1_mean = 0.2262\n",
      "\n",
      "[CV 1/10] method=standard, alpha=0.75, f1_macro=0.0000\n",
      "[CV 2/10] method=standard, alpha=0.75, f1_macro=0.0741\n",
      "[CV 3/10] method=standard, alpha=0.75, f1_macro=0.0000\n",
      "[CV 4/10] method=standard, alpha=0.75, f1_macro=0.0741\n",
      "[CV 5/10] method=standard, alpha=0.75, f1_macro=0.0000\n",
      "[CV 6/10] method=standard, alpha=0.75, f1_macro=0.0000\n",
      "[CV 7/10] method=standard, alpha=0.75, f1_macro=0.1212\n",
      "[CV 8/10] method=standard, alpha=0.75, f1_macro=0.1667\n",
      "[CV 9/10] method=standard, alpha=0.75, f1_macro=0.0741\n",
      "[CV 10/10] method=standard, alpha=0.75, f1_macro=0.1481\n",
      "f1_mean = 0.0658\n",
      "\n",
      "[CV 1/10] method=standard, alpha=1.00, f1_macro=0.0000\n",
      "[CV 2/10] method=standard, alpha=1.00, f1_macro=0.0000\n",
      "[CV 3/10] method=standard, alpha=1.00, f1_macro=0.0000\n",
      "[CV 4/10] method=standard, alpha=1.00, f1_macro=0.0000\n",
      "[CV 5/10] method=standard, alpha=1.00, f1_macro=0.0000\n",
      "[CV 6/10] method=standard, alpha=1.00, f1_macro=0.0000\n",
      "[CV 7/10] method=standard, alpha=1.00, f1_macro=0.0000\n",
      "[CV 8/10] method=standard, alpha=1.00, f1_macro=0.0000\n",
      "[CV 9/10] method=standard, alpha=1.00, f1_macro=0.0000\n",
      "[CV 10/10] method=standard, alpha=1.00, f1_macro=0.0000\n",
      "f1_mean = 0.0000\n",
      "\n",
      "[CV 1/10] method=standard-support, alpha=0.00, f1_macro=0.5238\n",
      "[CV 2/10] method=standard-support, alpha=0.00, f1_macro=0.3162\n",
      "[CV 3/10] method=standard-support, alpha=0.00, f1_macro=0.3333\n",
      "[CV 4/10] method=standard-support, alpha=0.00, f1_macro=0.4505\n",
      "[CV 5/10] method=standard-support, alpha=0.00, f1_macro=0.3333\n",
      "[CV 6/10] method=standard-support, alpha=0.00, f1_macro=0.5833\n",
      "[CV 7/10] method=standard-support, alpha=0.00, f1_macro=0.6000\n",
      "[CV 8/10] method=standard-support, alpha=0.00, f1_macro=0.4505\n",
      "[CV 9/10] method=standard-support, alpha=0.00, f1_macro=0.3750\n",
      "[CV 10/10] method=standard-support, alpha=0.00, f1_macro=0.6703\n",
      "f1_mean = 0.4636\n",
      "\n",
      "[CV 1/10] method=standard-support, alpha=0.25, f1_macro=0.3750\n",
      "[CV 2/10] method=standard-support, alpha=0.25, f1_macro=0.2000\n",
      "[CV 3/10] method=standard-support, alpha=0.25, f1_macro=0.2000\n",
      "[CV 4/10] method=standard-support, alpha=0.25, f1_macro=0.0909\n",
      "[CV 5/10] method=standard-support, alpha=0.25, f1_macro=0.2000\n",
      "[CV 6/10] method=standard-support, alpha=0.25, f1_macro=0.1667\n",
      "[CV 7/10] method=standard-support, alpha=0.25, f1_macro=0.4000\n",
      "[CV 8/10] method=standard-support, alpha=0.25, f1_macro=0.2929\n",
      "[CV 9/10] method=standard-support, alpha=0.25, f1_macro=0.2929\n",
      "[CV 10/10] method=standard-support, alpha=0.25, f1_macro=0.4000\n",
      "f1_mean = 0.2618\n",
      "\n",
      "[CV 1/10] method=standard-support, alpha=0.50, f1_macro=0.2000\n",
      "[CV 2/10] method=standard-support, alpha=0.50, f1_macro=0.0909\n",
      "[CV 3/10] method=standard-support, alpha=0.50, f1_macro=0.0909\n",
      "[CV 4/10] method=standard-support, alpha=0.50, f1_macro=0.0909\n",
      "[CV 5/10] method=standard-support, alpha=0.50, f1_macro=0.0909\n",
      "[CV 6/10] method=standard-support, alpha=0.50, f1_macro=0.1667\n",
      "[CV 7/10] method=standard-support, alpha=0.50, f1_macro=0.1667\n",
      "[CV 8/10] method=standard-support, alpha=0.50, f1_macro=0.1667\n",
      "[CV 9/10] method=standard-support, alpha=0.50, f1_macro=0.1667\n",
      "[CV 10/10] method=standard-support, alpha=0.50, f1_macro=0.1667\n",
      "f1_mean = 0.1397\n",
      "\n",
      "[CV 1/10] method=standard-support, alpha=0.75, f1_macro=0.0909\n",
      "[CV 2/10] method=standard-support, alpha=0.75, f1_macro=0.0909\n",
      "[CV 3/10] method=standard-support, alpha=0.75, f1_macro=0.0909\n",
      "[CV 4/10] method=standard-support, alpha=0.75, f1_macro=0.0909\n",
      "[CV 5/10] method=standard-support, alpha=0.75, f1_macro=0.0909\n",
      "[CV 6/10] method=standard-support, alpha=0.75, f1_macro=0.1667\n",
      "[CV 7/10] method=standard-support, alpha=0.75, f1_macro=0.1667\n",
      "[CV 8/10] method=standard-support, alpha=0.75, f1_macro=0.1667\n",
      "[CV 9/10] method=standard-support, alpha=0.75, f1_macro=0.1667\n",
      "[CV 10/10] method=standard-support, alpha=0.75, f1_macro=0.1667\n",
      "f1_mean = 0.1288\n",
      "\n",
      "[CV 1/10] method=standard-support, alpha=1.00, f1_macro=0.0909\n",
      "[CV 2/10] method=standard-support, alpha=1.00, f1_macro=0.0909\n",
      "[CV 3/10] method=standard-support, alpha=1.00, f1_macro=0.0909\n",
      "[CV 4/10] method=standard-support, alpha=1.00, f1_macro=0.0909\n",
      "[CV 5/10] method=standard-support, alpha=1.00, f1_macro=0.0909\n",
      "[CV 6/10] method=standard-support, alpha=1.00, f1_macro=0.1667\n",
      "[CV 7/10] method=standard-support, alpha=1.00, f1_macro=0.1667\n",
      "[CV 8/10] method=standard-support, alpha=1.00, f1_macro=0.1667\n",
      "[CV 9/10] method=standard-support, alpha=1.00, f1_macro=0.1667\n",
      "[CV 10/10] method=standard-support, alpha=1.00, f1_macro=0.1667\n",
      "f1_mean = 0.1288\n",
      "\n",
      "[CV 1/10] method=ratio-support, alpha=0.00, f1_macro=0.2000\n",
      "[CV 2/10] method=ratio-support, alpha=0.00, f1_macro=0.0909\n",
      "[CV 3/10] method=ratio-support, alpha=0.00, f1_macro=0.0909\n",
      "[CV 4/10] method=ratio-support, alpha=0.00, f1_macro=0.0909\n",
      "[CV 5/10] method=ratio-support, alpha=0.00, f1_macro=0.0909\n",
      "[CV 6/10] method=ratio-support, alpha=0.00, f1_macro=0.1667\n",
      "[CV 7/10] method=ratio-support, alpha=0.00, f1_macro=0.1667\n",
      "[CV 8/10] method=ratio-support, alpha=0.00, f1_macro=0.1667\n",
      "[CV 9/10] method=ratio-support, alpha=0.00, f1_macro=0.1667\n",
      "[CV 10/10] method=ratio-support, alpha=0.00, f1_macro=0.1667\n",
      "f1_mean = 0.1397\n",
      "\n",
      "[CV 1/10] method=ratio-support, alpha=0.25, f1_macro=0.2000\n",
      "[CV 2/10] method=ratio-support, alpha=0.25, f1_macro=0.0909\n",
      "[CV 3/10] method=ratio-support, alpha=0.25, f1_macro=0.0909\n",
      "[CV 4/10] method=ratio-support, alpha=0.25, f1_macro=0.0909\n",
      "[CV 5/10] method=ratio-support, alpha=0.25, f1_macro=0.0909\n",
      "[CV 6/10] method=ratio-support, alpha=0.25, f1_macro=0.1667\n",
      "[CV 7/10] method=ratio-support, alpha=0.25, f1_macro=0.1667\n",
      "[CV 8/10] method=ratio-support, alpha=0.25, f1_macro=0.1667\n",
      "[CV 9/10] method=ratio-support, alpha=0.25, f1_macro=0.1667\n",
      "[CV 10/10] method=ratio-support, alpha=0.25, f1_macro=0.1667\n",
      "f1_mean = 0.1397\n",
      "\n",
      "[CV 1/10] method=ratio-support, alpha=0.50, f1_macro=0.2000\n",
      "[CV 2/10] method=ratio-support, alpha=0.50, f1_macro=0.0909\n",
      "[CV 3/10] method=ratio-support, alpha=0.50, f1_macro=0.0909\n",
      "[CV 4/10] method=ratio-support, alpha=0.50, f1_macro=0.0909\n",
      "[CV 5/10] method=ratio-support, alpha=0.50, f1_macro=0.0909\n",
      "[CV 6/10] method=ratio-support, alpha=0.50, f1_macro=0.1667\n",
      "[CV 7/10] method=ratio-support, alpha=0.50, f1_macro=0.1667\n",
      "[CV 8/10] method=ratio-support, alpha=0.50, f1_macro=0.1667\n",
      "[CV 9/10] method=ratio-support, alpha=0.50, f1_macro=0.1667\n",
      "[CV 10/10] method=ratio-support, alpha=0.50, f1_macro=0.1667\n",
      "f1_mean = 0.1397\n",
      "\n",
      "[CV 1/10] method=ratio-support, alpha=0.75, f1_macro=0.2929\n",
      "[CV 2/10] method=ratio-support, alpha=0.75, f1_macro=0.0909\n",
      "[CV 3/10] method=ratio-support, alpha=0.75, f1_macro=0.0909\n",
      "[CV 4/10] method=ratio-support, alpha=0.75, f1_macro=0.2000\n",
      "[CV 5/10] method=ratio-support, alpha=0.75, f1_macro=0.0909\n",
      "[CV 6/10] method=ratio-support, alpha=0.75, f1_macro=0.1667\n",
      "[CV 7/10] method=ratio-support, alpha=0.75, f1_macro=0.1667\n",
      "[CV 8/10] method=ratio-support, alpha=0.75, f1_macro=0.1667\n",
      "[CV 9/10] method=ratio-support, alpha=0.75, f1_macro=0.2929\n",
      "[CV 10/10] method=ratio-support, alpha=0.75, f1_macro=0.2929\n",
      "f1_mean = 0.1852\n",
      "\n",
      "[CV 1/10] method=ratio-support, alpha=1.00, f1_macro=0.4118\n",
      "[CV 2/10] method=ratio-support, alpha=1.00, f1_macro=0.4505\n",
      "[CV 3/10] method=ratio-support, alpha=1.00, f1_macro=0.2308\n",
      "[CV 4/10] method=ratio-support, alpha=1.00, f1_macro=0.3750\n",
      "[CV 5/10] method=ratio-support, alpha=1.00, f1_macro=0.8039\n",
      "[CV 6/10] method=ratio-support, alpha=1.00, f1_macro=0.8667\n",
      "[CV 7/10] method=ratio-support, alpha=1.00, f1_macro=0.3750\n",
      "[CV 8/10] method=ratio-support, alpha=1.00, f1_macro=0.3750\n",
      "[CV 9/10] method=ratio-support, alpha=1.00, f1_macro=0.5238\n",
      "[CV 10/10] method=ratio-support, alpha=1.00, f1_macro=0.6703\n",
      "f1_mean = 0.5083\n",
      "\n",
      "f1_best=0.5951, method=standard, alpha=0.00\n"
     ]
    }
   ],
   "source": [
    "parameters = {'alpha' : np.linspace(0, 1, 5),\n",
    "              'method': ['standard','standard-support','ratio-support'],\n",
    "             }\n",
    "\n",
    "n = kfold.get_n_splits(X)\n",
    "\n",
    "f1_best = 0\n",
    "alpha_best = 0.\n",
    "method_best = 'standard'\n",
    "\n",
    "for method in parameters['method']:\n",
    "    for alpha in parameters['alpha']:\n",
    "        \n",
    "        f1 = [0 for i in range(n)]\n",
    "        for i, (train_index, test_index) in enumerate(kfold.split(X, y)):\n",
    "            bin_cls = fcalc.classifier.BinarizedBinaryClassifier(\n",
    "                X.iloc[train_index].values, \n",
    "                y.iloc[train_index][y.columns[0]].values,\n",
    "                method=method,\n",
    "                alpha=alpha\n",
    "            )\n",
    "            bin_cls.predict(X.iloc[test_index].values)\n",
    "            f1[i] = f1_score(y.iloc[test_index], bin_cls.predictions, average='macro')\n",
    "            print(f\"[CV {i+1}/{n}] method={method}, alpha={alpha:0.2f}, f1_macro={f1[i]:0.4f}\") \n",
    "                    \n",
    "        f1_mean = np.mean(f1)\n",
    "        print(f'f1_mean = {f1_mean:0.4f}\\n')\n",
    "        if(f1_mean > f1_best):\n",
    "            f1_best = f1_mean\n",
    "            alpha_best = alpha\n",
    "            method_best = method\n",
    "            \n",
    "print(f\"f1_best={f1_best:0.4f}, method={method_best}, alpha={alpha_best:0.2f}\")"
   ]
  },
  {
   "cell_type": "code",
   "execution_count": 121,
   "id": "a3123cc5",
   "metadata": {},
   "outputs": [
    {
     "name": "stdout",
     "output_type": "stream",
     "text": [
      "[CV 1/10] method=standard, alpha=0.00 accuracy=0.8000, f1_macro=0.6875, f1_binary=0.8750\n",
      "[CV 2/10] method=standard, alpha=0.00 accuracy=0.8000, f1_macro=0.5139, f1_binary=0.8750\n",
      "[CV 3/10] method=standard, alpha=0.00 accuracy=0.8000, f1_macro=0.4444, f1_binary=0.8889\n",
      "[CV 4/10] method=standard, alpha=0.00 accuracy=0.6000, f1_macro=0.3750, f1_binary=0.7500\n",
      "[CV 5/10] method=standard, alpha=0.00 accuracy=0.8000, f1_macro=0.4444, f1_binary=0.8889\n",
      "[CV 6/10] method=standard, alpha=0.00 accuracy=1.0000, f1_macro=1.0000, f1_binary=1.0000\n",
      "[CV 7/10] method=standard, alpha=0.00 accuracy=0.9000, f1_macro=0.8039, f1_binary=0.9412\n",
      "[CV 8/10] method=standard, alpha=0.00 accuracy=0.7000, f1_macro=0.4118, f1_binary=0.8235\n",
      "[CV 9/10] method=standard, alpha=0.00 accuracy=0.7000, f1_macro=0.6000, f1_binary=0.8000\n",
      "[CV 10/10] method=standard, alpha=0.00 accuracy=0.7000, f1_macro=0.6703, f1_binary=0.7692\n",
      "\n",
      " accuracy=0.7800, f1_macro=0.5951, f1_binary=0.8612\n"
     ]
    }
   ],
   "source": [
    "f1 = [0 for i in range(n)]\n",
    "accuracy = [0 for i in range(n)]\n",
    "f1_binary = [0 for i in range(n)]\n",
    "\n",
    "for i, (train_index, test_index) in enumerate(kfold.split(X, y)):\n",
    "    bin_cls = fcalc.classifier.BinarizedBinaryClassifier(\n",
    "        X.iloc[train_index].values, \n",
    "        y.iloc[train_index][y.columns[0]].values,\n",
    "        method=method_best,\n",
    "        alpha=alpha_best\n",
    "    )\n",
    "    bin_cls.predict(X.iloc[test_index].values)\n",
    "    \n",
    "    accuracy[i], f1[i], f1_binary[i] = results_fca(y.iloc[test_index][y.columns[0]].values, bin_cls.predictions)\n",
    "    \n",
    "    print(f\"[CV {i+1}/{n}] method={method_best}, alpha={alpha_best:0.2f}\", \n",
    "          f\"accuracy={accuracy[i]:0.4f}, f1_macro={f1[i]:0.4f}, f1_binary={f1_binary[i]:0.4f}\")\n",
    "\n",
    "f1_mean = np.mean(f1)\n",
    "accuracy_mean = np.mean(accuracy)\n",
    "f1_binary_mean = np.mean(f1_binary)\n",
    "\n",
    "print(f\"\\n accuracy={accuracy_mean:0.4f}, f1_macro={f1_mean:0.4f}, f1_binary={f1_binary_mean:0.4f}\")"
   ]
  },
  {
   "cell_type": "markdown",
   "id": "4159d76c",
   "metadata": {},
   "source": [
    "## PatternBinaryClassifier"
   ]
  },
  {
   "cell_type": "code",
   "execution_count": 122,
   "id": "4af6a5d6",
   "metadata": {},
   "outputs": [
    {
     "name": "stdout",
     "output_type": "stream",
     "text": [
      "[CV 1/10] method=standard, alpha=0.00, f1_macro=0.4118\n",
      "[CV 2/10] method=standard, alpha=0.00, f1_macro=0.8039\n",
      "[CV 3/10] method=standard, alpha=0.00, f1_macro=0.4737\n",
      "[CV 4/10] method=standard, alpha=0.00, f1_macro=0.6000\n",
      "[CV 5/10] method=standard, alpha=0.00, f1_macro=1.0000\n",
      "[CV 6/10] method=standard, alpha=0.00, f1_macro=0.6875\n",
      "[CV 7/10] method=standard, alpha=0.00, f1_macro=0.6000\n",
      "[CV 8/10] method=standard, alpha=0.00, f1_macro=0.3162\n",
      "[CV 9/10] method=standard, alpha=0.00, f1_macro=0.3750\n",
      "[CV 10/10] method=standard, alpha=0.00, f1_macro=0.8667\n",
      "f1_mean = 0.6135\n",
      "\n",
      "[CV 1/10] method=standard, alpha=0.10, f1_macro=0.0000\n",
      "[CV 2/10] method=standard, alpha=0.10, f1_macro=0.1667\n",
      "[CV 3/10] method=standard, alpha=0.10, f1_macro=0.0000\n",
      "[CV 4/10] method=standard, alpha=0.10, f1_macro=0.0000\n",
      "[CV 5/10] method=standard, alpha=0.10, f1_macro=0.0000\n",
      "[CV 6/10] method=standard, alpha=0.10, f1_macro=0.0000\n",
      "[CV 7/10] method=standard, alpha=0.10, f1_macro=0.2222\n",
      "[CV 8/10] method=standard, alpha=0.10, f1_macro=0.0000\n",
      "[CV 9/10] method=standard, alpha=0.10, f1_macro=0.0000\n",
      "[CV 10/10] method=standard, alpha=0.10, f1_macro=0.2222\n",
      "f1_mean = 0.0611\n",
      "\n",
      "[CV 1/10] method=standard, alpha=0.20, f1_macro=0.0000\n",
      "[CV 2/10] method=standard, alpha=0.20, f1_macro=0.0000\n",
      "[CV 3/10] method=standard, alpha=0.20, f1_macro=0.0000\n",
      "[CV 4/10] method=standard, alpha=0.20, f1_macro=0.0000\n",
      "[CV 5/10] method=standard, alpha=0.20, f1_macro=0.0000\n",
      "[CV 6/10] method=standard, alpha=0.20, f1_macro=0.0000\n",
      "[CV 7/10] method=standard, alpha=0.20, f1_macro=0.0000\n",
      "[CV 8/10] method=standard, alpha=0.20, f1_macro=0.0000\n",
      "[CV 9/10] method=standard, alpha=0.20, f1_macro=0.0000\n",
      "[CV 10/10] method=standard, alpha=0.20, f1_macro=0.0000\n",
      "f1_mean = 0.0000\n",
      "\n",
      "[CV 1/10] method=standard, alpha=0.30, f1_macro=0.0000\n",
      "[CV 2/10] method=standard, alpha=0.30, f1_macro=0.0000\n",
      "[CV 3/10] method=standard, alpha=0.30, f1_macro=0.0000\n",
      "[CV 4/10] method=standard, alpha=0.30, f1_macro=0.0000\n",
      "[CV 5/10] method=standard, alpha=0.30, f1_macro=0.0000\n",
      "[CV 6/10] method=standard, alpha=0.30, f1_macro=0.0000\n",
      "[CV 7/10] method=standard, alpha=0.30, f1_macro=0.0000\n",
      "[CV 8/10] method=standard, alpha=0.30, f1_macro=0.0000\n",
      "[CV 9/10] method=standard, alpha=0.30, f1_macro=0.0000\n",
      "[CV 10/10] method=standard, alpha=0.30, f1_macro=0.0000\n",
      "f1_mean = 0.0000\n",
      "\n",
      "[CV 1/10] method=standard, alpha=0.40, f1_macro=0.0000\n",
      "[CV 2/10] method=standard, alpha=0.40, f1_macro=0.0000\n",
      "[CV 3/10] method=standard, alpha=0.40, f1_macro=0.0000\n",
      "[CV 4/10] method=standard, alpha=0.40, f1_macro=0.0000\n",
      "[CV 5/10] method=standard, alpha=0.40, f1_macro=0.0000\n",
      "[CV 6/10] method=standard, alpha=0.40, f1_macro=0.0000\n",
      "[CV 7/10] method=standard, alpha=0.40, f1_macro=0.0000\n",
      "[CV 8/10] method=standard, alpha=0.40, f1_macro=0.0000\n",
      "[CV 9/10] method=standard, alpha=0.40, f1_macro=0.0000\n",
      "[CV 10/10] method=standard, alpha=0.40, f1_macro=0.0000\n",
      "f1_mean = 0.0000\n",
      "\n",
      "[CV 1/10] method=standard-support, alpha=0.00, f1_macro=0.0909\n",
      "[CV 2/10] method=standard-support, alpha=0.00, f1_macro=0.0909\n",
      "[CV 3/10] method=standard-support, alpha=0.00, f1_macro=0.0909\n",
      "[CV 4/10] method=standard-support, alpha=0.00, f1_macro=0.0909\n",
      "[CV 5/10] method=standard-support, alpha=0.00, f1_macro=0.0909\n",
      "[CV 6/10] method=standard-support, alpha=0.00, f1_macro=0.2929\n",
      "[CV 7/10] method=standard-support, alpha=0.00, f1_macro=0.2929\n",
      "[CV 8/10] method=standard-support, alpha=0.00, f1_macro=0.4000\n",
      "[CV 9/10] method=standard-support, alpha=0.00, f1_macro=0.0909\n",
      "[CV 10/10] method=standard-support, alpha=0.00, f1_macro=0.1667\n",
      "f1_mean = 0.1698\n",
      "\n",
      "[CV 1/10] method=standard-support, alpha=0.10, f1_macro=0.0909\n",
      "[CV 2/10] method=standard-support, alpha=0.10, f1_macro=0.0909\n",
      "[CV 3/10] method=standard-support, alpha=0.10, f1_macro=0.0909\n",
      "[CV 4/10] method=standard-support, alpha=0.10, f1_macro=0.0909\n",
      "[CV 5/10] method=standard-support, alpha=0.10, f1_macro=0.0909\n",
      "[CV 6/10] method=standard-support, alpha=0.10, f1_macro=0.1667\n",
      "[CV 7/10] method=standard-support, alpha=0.10, f1_macro=0.1667\n",
      "[CV 8/10] method=standard-support, alpha=0.10, f1_macro=0.1667\n",
      "[CV 9/10] method=standard-support, alpha=0.10, f1_macro=0.1667\n",
      "[CV 10/10] method=standard-support, alpha=0.10, f1_macro=0.1667\n",
      "f1_mean = 0.1288\n",
      "\n",
      "[CV 1/10] method=standard-support, alpha=0.20, f1_macro=0.0909\n",
      "[CV 2/10] method=standard-support, alpha=0.20, f1_macro=0.0909\n",
      "[CV 3/10] method=standard-support, alpha=0.20, f1_macro=0.0909\n",
      "[CV 4/10] method=standard-support, alpha=0.20, f1_macro=0.0909\n",
      "[CV 5/10] method=standard-support, alpha=0.20, f1_macro=0.0909\n",
      "[CV 6/10] method=standard-support, alpha=0.20, f1_macro=0.1667\n",
      "[CV 7/10] method=standard-support, alpha=0.20, f1_macro=0.1667\n",
      "[CV 8/10] method=standard-support, alpha=0.20, f1_macro=0.1667\n",
      "[CV 9/10] method=standard-support, alpha=0.20, f1_macro=0.1667\n",
      "[CV 10/10] method=standard-support, alpha=0.20, f1_macro=0.1667\n",
      "f1_mean = 0.1288\n",
      "\n",
      "[CV 1/10] method=standard-support, alpha=0.30, f1_macro=0.0909\n",
      "[CV 2/10] method=standard-support, alpha=0.30, f1_macro=0.0909\n",
      "[CV 3/10] method=standard-support, alpha=0.30, f1_macro=0.0909\n",
      "[CV 4/10] method=standard-support, alpha=0.30, f1_macro=0.0909\n",
      "[CV 5/10] method=standard-support, alpha=0.30, f1_macro=0.0909\n",
      "[CV 6/10] method=standard-support, alpha=0.30, f1_macro=0.1667\n",
      "[CV 7/10] method=standard-support, alpha=0.30, f1_macro=0.1667\n",
      "[CV 8/10] method=standard-support, alpha=0.30, f1_macro=0.1667\n",
      "[CV 9/10] method=standard-support, alpha=0.30, f1_macro=0.1667\n",
      "[CV 10/10] method=standard-support, alpha=0.30, f1_macro=0.1667\n",
      "f1_mean = 0.1288\n",
      "\n",
      "[CV 1/10] method=standard-support, alpha=0.40, f1_macro=0.0909\n",
      "[CV 2/10] method=standard-support, alpha=0.40, f1_macro=0.0909\n",
      "[CV 3/10] method=standard-support, alpha=0.40, f1_macro=0.0909\n",
      "[CV 4/10] method=standard-support, alpha=0.40, f1_macro=0.0909\n",
      "[CV 5/10] method=standard-support, alpha=0.40, f1_macro=0.0909\n",
      "[CV 6/10] method=standard-support, alpha=0.40, f1_macro=0.1667\n",
      "[CV 7/10] method=standard-support, alpha=0.40, f1_macro=0.1667\n",
      "[CV 8/10] method=standard-support, alpha=0.40, f1_macro=0.1667\n",
      "[CV 9/10] method=standard-support, alpha=0.40, f1_macro=0.1667\n",
      "[CV 10/10] method=standard-support, alpha=0.40, f1_macro=0.1667\n",
      "f1_mean = 0.1288\n",
      "\n",
      "[CV 1/10] method=ratio-support, alpha=0.00, f1_macro=0.2000\n",
      "[CV 2/10] method=ratio-support, alpha=0.00, f1_macro=0.2000\n",
      "[CV 3/10] method=ratio-support, alpha=0.00, f1_macro=0.0909\n",
      "[CV 4/10] method=ratio-support, alpha=0.00, f1_macro=0.0909\n",
      "[CV 5/10] method=ratio-support, alpha=0.00, f1_macro=0.2000\n",
      "[CV 6/10] method=ratio-support, alpha=0.00, f1_macro=0.1667\n",
      "[CV 7/10] method=ratio-support, alpha=0.00, f1_macro=0.2929\n",
      "[CV 8/10] method=ratio-support, alpha=0.00, f1_macro=0.5833\n",
      "[CV 9/10] method=ratio-support, alpha=0.00, f1_macro=0.4949\n",
      "[CV 10/10] method=ratio-support, alpha=0.00, f1_macro=0.1667\n",
      "f1_mean = 0.2486\n",
      "\n",
      "[CV 1/10] method=ratio-support, alpha=0.10, f1_macro=0.2000\n",
      "[CV 2/10] method=ratio-support, alpha=0.10, f1_macro=0.2000\n",
      "[CV 3/10] method=ratio-support, alpha=0.10, f1_macro=0.0909\n",
      "[CV 4/10] method=ratio-support, alpha=0.10, f1_macro=0.0909\n",
      "[CV 5/10] method=ratio-support, alpha=0.10, f1_macro=0.2929\n",
      "[CV 6/10] method=ratio-support, alpha=0.10, f1_macro=0.1667\n",
      "[CV 7/10] method=ratio-support, alpha=0.10, f1_macro=0.2929\n",
      "[CV 8/10] method=ratio-support, alpha=0.10, f1_macro=0.5833\n",
      "[CV 9/10] method=ratio-support, alpha=0.10, f1_macro=0.4949\n",
      "[CV 10/10] method=ratio-support, alpha=0.10, f1_macro=0.1667\n",
      "f1_mean = 0.2579\n",
      "\n",
      "[CV 1/10] method=ratio-support, alpha=0.20, f1_macro=0.6875\n",
      "[CV 2/10] method=ratio-support, alpha=0.20, f1_macro=0.5238\n",
      "[CV 3/10] method=ratio-support, alpha=0.20, f1_macro=0.2857\n",
      "[CV 4/10] method=ratio-support, alpha=0.20, f1_macro=0.3750\n",
      "[CV 5/10] method=ratio-support, alpha=0.20, f1_macro=0.6000\n",
      "[CV 6/10] method=ratio-support, alpha=0.20, f1_macro=0.5238\n",
      "[CV 7/10] method=ratio-support, alpha=0.20, f1_macro=0.5833\n",
      "[CV 8/10] method=ratio-support, alpha=0.20, f1_macro=0.6000\n",
      "[CV 9/10] method=ratio-support, alpha=0.20, f1_macro=0.8667\n",
      "[CV 10/10] method=ratio-support, alpha=0.20, f1_macro=0.5833\n",
      "f1_mean = 0.5629\n",
      "\n",
      "[CV 1/10] method=ratio-support, alpha=0.30, f1_macro=0.6875\n",
      "[CV 2/10] method=ratio-support, alpha=0.30, f1_macro=0.5238\n",
      "[CV 3/10] method=ratio-support, alpha=0.30, f1_macro=0.2857\n",
      "[CV 4/10] method=ratio-support, alpha=0.30, f1_macro=0.3750\n",
      "[CV 5/10] method=ratio-support, alpha=0.30, f1_macro=0.6000\n",
      "[CV 6/10] method=ratio-support, alpha=0.30, f1_macro=0.5238\n",
      "[CV 7/10] method=ratio-support, alpha=0.30, f1_macro=0.5833\n",
      "[CV 8/10] method=ratio-support, alpha=0.30, f1_macro=0.6000\n",
      "[CV 9/10] method=ratio-support, alpha=0.30, f1_macro=0.8667\n",
      "[CV 10/10] method=ratio-support, alpha=0.30, f1_macro=0.5833\n",
      "f1_mean = 0.5629\n",
      "\n",
      "[CV 1/10] method=ratio-support, alpha=0.40, f1_macro=1.0000\n",
      "[CV 2/10] method=ratio-support, alpha=0.40, f1_macro=0.4737\n",
      "[CV 3/10] method=ratio-support, alpha=0.40, f1_macro=0.4737\n",
      "[CV 4/10] method=ratio-support, alpha=0.40, f1_macro=0.4444\n",
      "[CV 5/10] method=ratio-support, alpha=0.40, f1_macro=1.0000\n",
      "[CV 6/10] method=ratio-support, alpha=0.40, f1_macro=0.4118\n",
      "[CV 7/10] method=ratio-support, alpha=0.40, f1_macro=0.4444\n",
      "[CV 8/10] method=ratio-support, alpha=0.40, f1_macro=0.6000\n",
      "[CV 9/10] method=ratio-support, alpha=0.40, f1_macro=0.8039\n",
      "[CV 10/10] method=ratio-support, alpha=0.40, f1_macro=0.4444\n",
      "f1_mean = 0.6096\n",
      "\n",
      "f1_best=0.6135, method=standard, alpha=0.00\n"
     ]
    }
   ],
   "source": [
    "parameters = {'alpha' : np.linspace(0, 0.4, 5),\n",
    "              'method': ['standard','standard-support','ratio-support'],\n",
    "             }\n",
    "\n",
    "n = kfold.get_n_splits(X)\n",
    "\n",
    "f1_best_p = 0\n",
    "alpha_best_p = 0.\n",
    "method_best_p = 'standard'\n",
    "\n",
    "for method in parameters['method']:\n",
    "    for alpha in parameters['alpha']:\n",
    "        \n",
    "        f1 = [0 for i in range(n)]\n",
    "        for i, (train_index, test_index) in enumerate(kfold.split(X, y)):\n",
    "            bin_cls = fcalc.classifier.PatternBinaryClassifier(\n",
    "                X.iloc[train_index].values, \n",
    "                y.iloc[train_index][y.columns[0]].values,\n",
    "                method=method,\n",
    "                alpha=alpha\n",
    "            )\n",
    "            bin_cls.predict(X.iloc[test_index].values)\n",
    "            f1[i] = f1_score(y.iloc[test_index][y.columns[0]].values, bin_cls.predictions, average='macro')\n",
    "            print(f\"[CV {i+1}/{n}] method={method}, alpha={alpha:0.2f}, f1_macro={f1[i]:0.4f}\") \n",
    "                    \n",
    "        f1_mean = np.mean(f1)\n",
    "        print(f'f1_mean = {f1_mean:0.4f}\\n')\n",
    "        if(f1_mean > f1_best_p):\n",
    "            f1_best_p = f1_mean\n",
    "            alpha_best_p = alpha\n",
    "            method_best_p = method\n",
    "            \n",
    "print(f\"f1_best={f1_best_p:0.4f}, method={method_best_p}, alpha={alpha_best_p:0.2f}\")"
   ]
  },
  {
   "cell_type": "code",
   "execution_count": 123,
   "id": "b3b0791f",
   "metadata": {},
   "outputs": [
    {
     "name": "stdout",
     "output_type": "stream",
     "text": [
      "[CV 1/10] method=standard, alpha=0.00 accuracy=0.7000, f1_macro=0.4118, f1_binary=0.8235\n",
      "[CV 2/10] method=standard, alpha=0.00 accuracy=0.9000, f1_macro=0.8039, f1_binary=0.9412\n",
      "[CV 3/10] method=standard, alpha=0.00 accuracy=0.9000, f1_macro=0.4737, f1_binary=0.9474\n",
      "[CV 4/10] method=standard, alpha=0.00 accuracy=0.7000, f1_macro=0.6000, f1_binary=0.8000\n",
      "[CV 5/10] method=standard, alpha=0.00 accuracy=1.0000, f1_macro=1.0000, f1_binary=1.0000\n",
      "[CV 6/10] method=standard, alpha=0.00 accuracy=0.8000, f1_macro=0.6875, f1_binary=0.8750\n",
      "[CV 7/10] method=standard, alpha=0.00 accuracy=0.7000, f1_macro=0.6000, f1_binary=0.8000\n",
      "[CV 8/10] method=standard, alpha=0.00 accuracy=0.5000, f1_macro=0.3162, f1_binary=0.6154\n",
      "[CV 9/10] method=standard, alpha=0.00 accuracy=0.4000, f1_macro=0.3750, f1_binary=0.5000\n",
      "[CV 10/10] method=standard, alpha=0.00 accuracy=0.9000, f1_macro=0.8667, f1_binary=0.9333\n",
      "\n",
      " accuracy=0.7500, f1_macro=0.6135, f1_binary=0.8236\n"
     ]
    }
   ],
   "source": [
    "f1 = [0 for i in range(n)]\n",
    "accuracy = [0 for i in range(n)]\n",
    "f1_binary = [0 for i in range(n)]\n",
    "\n",
    "for i, (train_index, test_index) in enumerate(kfold.split(X, y)):\n",
    "    bin_cls = fcalc.classifier.PatternBinaryClassifier(\n",
    "        X.iloc[train_index].values, \n",
    "        y.iloc[train_index][y.columns[0]].values,\n",
    "        method=method_best_p,\n",
    "        alpha=alpha_best_p\n",
    "    )\n",
    "    bin_cls.predict(X.iloc[test_index].values)\n",
    "    \n",
    "    accuracy[i], f1[i], f1_binary[i] = results_fca(y.iloc[test_index][y.columns[0]].values, bin_cls.predictions)\n",
    "    \n",
    "    print(f\"[CV {i+1}/{n}] method={method_best_p}, alpha={alpha_best_p:0.2f}\", \n",
    "          f\"accuracy={accuracy[i]:0.4f}, f1_macro={f1[i]:0.4f}, f1_binary={f1_binary[i]:0.4f}\")\n",
    "\n",
    "f1_mean = np.mean(f1)\n",
    "accuracy_mean = np.mean(accuracy)\n",
    "f1_binary_mean = np.mean(f1_binary)\n",
    "\n",
    "print(f\"\\n accuracy={accuracy_mean:0.4f}, f1_macro={f1_mean:0.4f}, f1_binary={f1_binary_mean:0.4f}\")"
   ]
  }
 ],
 "metadata": {
  "kernelspec": {
   "display_name": "Python 3 (ipykernel)",
   "language": "python",
   "name": "python3"
  },
  "language_info": {
   "codemirror_mode": {
    "name": "ipython",
    "version": 3
   },
   "file_extension": ".py",
   "mimetype": "text/x-python",
   "name": "python",
   "nbconvert_exporter": "python",
   "pygments_lexer": "ipython3",
   "version": "3.11.1"
  }
 },
 "nbformat": 4,
 "nbformat_minor": 5
}
