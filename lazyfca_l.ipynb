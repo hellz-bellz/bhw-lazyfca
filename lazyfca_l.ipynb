{
 "cells": [
  {
   "cell_type": "markdown",
   "id": "c9d86eba",
   "metadata": {},
   "source": [
    "### Big HW\n",
    "Decision Tree\n",
    "Random Forest\n",
    "LogReg\n",
    "KNN\n",
    "Naive Bayes "
   ]
  },
  {
   "cell_type": "code",
   "execution_count": 2,
   "id": "cb93b040",
   "metadata": {
    "scrolled": true
   },
   "outputs": [],
   "source": [
    "import numpy as np\n",
    "import pandas as pd\n",
    "from sklearn.metrics import make_scorer, accuracy_score, f1_score\n",
    "from sklearn import model_selection\n",
    "from sklearn.model_selection import StratifiedKFold, cross_validate, GridSearchCV\n",
    "from sklearn.preprocessing import KBinsDiscretizer"
   ]
  },
  {
   "cell_type": "code",
   "execution_count": 3,
   "id": "340c028e",
   "metadata": {},
   "outputs": [],
   "source": [
    "from sklearn.tree import DecisionTreeClassifier\n",
    "from sklearn.ensemble import RandomForestClassifier\n",
    "from sklearn.linear_model import LogisticRegression\n",
    "from sklearn.neighbors import KNeighborsClassifier\n",
    "from sklearn.naive_bayes import GaussianNB"
   ]
  },
  {
   "cell_type": "code",
   "execution_count": 4,
   "id": "17b623e1",
   "metadata": {},
   "outputs": [],
   "source": [
    "import matplotlib.pyplot as plt"
   ]
  },
  {
   "cell_type": "code",
   "execution_count": 5,
   "id": "ed261a6e",
   "metadata": {},
   "outputs": [],
   "source": [
    "import fcalc"
   ]
  },
  {
   "cell_type": "code",
   "execution_count": 20,
   "id": "5b1072a1",
   "metadata": {},
   "outputs": [
    {
     "data": {
      "text/html": [
       "<div>\n",
       "<style scoped>\n",
       "    .dataframe tbody tr th:only-of-type {\n",
       "        vertical-align: middle;\n",
       "    }\n",
       "\n",
       "    .dataframe tbody tr th {\n",
       "        vertical-align: top;\n",
       "    }\n",
       "\n",
       "    .dataframe thead th {\n",
       "        text-align: right;\n",
       "    }\n",
       "</style>\n",
       "<table border=\"1\" class=\"dataframe\">\n",
       "  <thead>\n",
       "    <tr style=\"text-align: right;\">\n",
       "      <th></th>\n",
       "      <th>Unnamed: 0</th>\n",
       "      <th>id</th>\n",
       "      <th>member_id</th>\n",
       "      <th>loan_amnt</th>\n",
       "      <th>funded_amnt</th>\n",
       "      <th>funded_amnt_inv</th>\n",
       "      <th>term</th>\n",
       "      <th>int_rate</th>\n",
       "      <th>installment</th>\n",
       "      <th>emp_length</th>\n",
       "      <th>...</th>\n",
       "      <th>total_acc</th>\n",
       "      <th>total_pymnt</th>\n",
       "      <th>total_pymnt_inv</th>\n",
       "      <th>total_rec_prncp</th>\n",
       "      <th>total_rec_int</th>\n",
       "      <th>last_pymnt_d</th>\n",
       "      <th>last_pymnt_amnt</th>\n",
       "      <th>next_pymnt_d</th>\n",
       "      <th>last_credit_pull_d</th>\n",
       "      <th>repay_fail</th>\n",
       "    </tr>\n",
       "  </thead>\n",
       "  <tbody>\n",
       "    <tr>\n",
       "      <th>0</th>\n",
       "      <td>2</td>\n",
       "      <td>2</td>\n",
       "      <td>2</td>\n",
       "      <td>0.0</td>\n",
       "      <td>0.0</td>\n",
       "      <td>0.00000</td>\n",
       "      <td>36 months</td>\n",
       "      <td>0.00</td>\n",
       "      <td>0.00</td>\n",
       "      <td>&lt; 1 year</td>\n",
       "      <td>...</td>\n",
       "      <td>1.0</td>\n",
       "      <td>0.000000</td>\n",
       "      <td>0.00</td>\n",
       "      <td>0.00</td>\n",
       "      <td>0.00</td>\n",
       "      <td>Jan-07</td>\n",
       "      <td>0.00</td>\n",
       "      <td>Jan-07</td>\n",
       "      <td>Jan-07</td>\n",
       "      <td>1</td>\n",
       "    </tr>\n",
       "    <tr>\n",
       "      <th>1</th>\n",
       "      <td>3</td>\n",
       "      <td>545583</td>\n",
       "      <td>703644</td>\n",
       "      <td>2500.0</td>\n",
       "      <td>2500.0</td>\n",
       "      <td>2500.00000</td>\n",
       "      <td>36 months</td>\n",
       "      <td>13.98</td>\n",
       "      <td>85.42</td>\n",
       "      <td>4 years</td>\n",
       "      <td>...</td>\n",
       "      <td>10.0</td>\n",
       "      <td>3075.291779</td>\n",
       "      <td>3075.29</td>\n",
       "      <td>2500.00</td>\n",
       "      <td>575.29</td>\n",
       "      <td>Jul-13</td>\n",
       "      <td>90.85</td>\n",
       "      <td>Aug-13</td>\n",
       "      <td>Jun-16</td>\n",
       "      <td>0</td>\n",
       "    </tr>\n",
       "    <tr>\n",
       "      <th>2</th>\n",
       "      <td>4</td>\n",
       "      <td>532101</td>\n",
       "      <td>687836</td>\n",
       "      <td>5000.0</td>\n",
       "      <td>5000.0</td>\n",
       "      <td>5000.00000</td>\n",
       "      <td>36 months</td>\n",
       "      <td>15.95</td>\n",
       "      <td>175.67</td>\n",
       "      <td>4 years</td>\n",
       "      <td>...</td>\n",
       "      <td>15.0</td>\n",
       "      <td>2948.760000</td>\n",
       "      <td>2948.76</td>\n",
       "      <td>1909.02</td>\n",
       "      <td>873.81</td>\n",
       "      <td>Nov-11</td>\n",
       "      <td>175.67</td>\n",
       "      <td>NaN</td>\n",
       "      <td>Mar-12</td>\n",
       "      <td>1</td>\n",
       "    </tr>\n",
       "    <tr>\n",
       "      <th>3</th>\n",
       "      <td>5</td>\n",
       "      <td>877788</td>\n",
       "      <td>1092507</td>\n",
       "      <td>7000.0</td>\n",
       "      <td>7000.0</td>\n",
       "      <td>7000.00000</td>\n",
       "      <td>36 months</td>\n",
       "      <td>9.91</td>\n",
       "      <td>225.58</td>\n",
       "      <td>10+ years</td>\n",
       "      <td>...</td>\n",
       "      <td>20.0</td>\n",
       "      <td>8082.391880</td>\n",
       "      <td>8082.39</td>\n",
       "      <td>7000.00</td>\n",
       "      <td>1082.39</td>\n",
       "      <td>Mar-14</td>\n",
       "      <td>1550.27</td>\n",
       "      <td>NaN</td>\n",
       "      <td>Mar-14</td>\n",
       "      <td>0</td>\n",
       "    </tr>\n",
       "    <tr>\n",
       "      <th>4</th>\n",
       "      <td>6</td>\n",
       "      <td>875406</td>\n",
       "      <td>1089981</td>\n",
       "      <td>2000.0</td>\n",
       "      <td>2000.0</td>\n",
       "      <td>2000.00000</td>\n",
       "      <td>36 months</td>\n",
       "      <td>5.42</td>\n",
       "      <td>60.32</td>\n",
       "      <td>10+ years</td>\n",
       "      <td>...</td>\n",
       "      <td>15.0</td>\n",
       "      <td>2161.663244</td>\n",
       "      <td>2161.66</td>\n",
       "      <td>2000.00</td>\n",
       "      <td>161.66</td>\n",
       "      <td>Feb-14</td>\n",
       "      <td>53.12</td>\n",
       "      <td>NaN</td>\n",
       "      <td>Jun-16</td>\n",
       "      <td>0</td>\n",
       "    </tr>\n",
       "    <tr>\n",
       "      <th>...</th>\n",
       "      <td>...</td>\n",
       "      <td>...</td>\n",
       "      <td>...</td>\n",
       "      <td>...</td>\n",
       "      <td>...</td>\n",
       "      <td>...</td>\n",
       "      <td>...</td>\n",
       "      <td>...</td>\n",
       "      <td>...</td>\n",
       "      <td>...</td>\n",
       "      <td>...</td>\n",
       "      <td>...</td>\n",
       "      <td>...</td>\n",
       "      <td>...</td>\n",
       "      <td>...</td>\n",
       "      <td>...</td>\n",
       "      <td>...</td>\n",
       "      <td>...</td>\n",
       "      <td>...</td>\n",
       "      <td>...</td>\n",
       "      <td>...</td>\n",
       "    </tr>\n",
       "    <tr>\n",
       "      <th>38475</th>\n",
       "      <td>38476</td>\n",
       "      <td>849205</td>\n",
       "      <td>1060907</td>\n",
       "      <td>3000.0</td>\n",
       "      <td>3000.0</td>\n",
       "      <td>3000.00000</td>\n",
       "      <td>36 months</td>\n",
       "      <td>11.99</td>\n",
       "      <td>99.63</td>\n",
       "      <td>3 years</td>\n",
       "      <td>...</td>\n",
       "      <td>22.0</td>\n",
       "      <td>3586.619764</td>\n",
       "      <td>3586.62</td>\n",
       "      <td>3000.00</td>\n",
       "      <td>586.62</td>\n",
       "      <td>Aug-14</td>\n",
       "      <td>100.30</td>\n",
       "      <td>NaN</td>\n",
       "      <td>Jun-16</td>\n",
       "      <td>0</td>\n",
       "    </tr>\n",
       "    <tr>\n",
       "      <th>38476</th>\n",
       "      <td>38477</td>\n",
       "      <td>852914</td>\n",
       "      <td>1065048</td>\n",
       "      <td>10400.0</td>\n",
       "      <td>10400.0</td>\n",
       "      <td>10400.00000</td>\n",
       "      <td>36 months</td>\n",
       "      <td>13.49</td>\n",
       "      <td>352.88</td>\n",
       "      <td>9 years</td>\n",
       "      <td>...</td>\n",
       "      <td>33.0</td>\n",
       "      <td>12703.534030</td>\n",
       "      <td>12703.53</td>\n",
       "      <td>10400.00</td>\n",
       "      <td>2303.53</td>\n",
       "      <td>Sep-14</td>\n",
       "      <td>393.08</td>\n",
       "      <td>NaN</td>\n",
       "      <td>Jun-16</td>\n",
       "      <td>0</td>\n",
       "    </tr>\n",
       "    <tr>\n",
       "      <th>38477</th>\n",
       "      <td>38478</td>\n",
       "      <td>519553</td>\n",
       "      <td>671637</td>\n",
       "      <td>16000.0</td>\n",
       "      <td>10550.0</td>\n",
       "      <td>10531.35818</td>\n",
       "      <td>60 months</td>\n",
       "      <td>14.96</td>\n",
       "      <td>250.77</td>\n",
       "      <td>10+ years</td>\n",
       "      <td>...</td>\n",
       "      <td>25.0</td>\n",
       "      <td>14202.267530</td>\n",
       "      <td>14163.31</td>\n",
       "      <td>10550.00</td>\n",
       "      <td>3652.27</td>\n",
       "      <td>Jun-13</td>\n",
       "      <td>5439.96</td>\n",
       "      <td>NaN</td>\n",
       "      <td>Feb-16</td>\n",
       "      <td>0</td>\n",
       "    </tr>\n",
       "    <tr>\n",
       "      <th>38478</th>\n",
       "      <td>38479</td>\n",
       "      <td>825638</td>\n",
       "      <td>1034448</td>\n",
       "      <td>10000.0</td>\n",
       "      <td>10000.0</td>\n",
       "      <td>10000.00000</td>\n",
       "      <td>36 months</td>\n",
       "      <td>16.89</td>\n",
       "      <td>355.99</td>\n",
       "      <td>1 year</td>\n",
       "      <td>...</td>\n",
       "      <td>12.0</td>\n",
       "      <td>12815.178320</td>\n",
       "      <td>12815.18</td>\n",
       "      <td>10000.00</td>\n",
       "      <td>2815.18</td>\n",
       "      <td>Aug-14</td>\n",
       "      <td>380.63</td>\n",
       "      <td>NaN</td>\n",
       "      <td>Sep-15</td>\n",
       "      <td>0</td>\n",
       "    </tr>\n",
       "    <tr>\n",
       "      <th>38479</th>\n",
       "      <td>38480</td>\n",
       "      <td>1029847</td>\n",
       "      <td>1249126</td>\n",
       "      <td>3200.0</td>\n",
       "      <td>3200.0</td>\n",
       "      <td>3200.00000</td>\n",
       "      <td>36 months</td>\n",
       "      <td>13.49</td>\n",
       "      <td>108.58</td>\n",
       "      <td>7 years</td>\n",
       "      <td>...</td>\n",
       "      <td>18.0</td>\n",
       "      <td>3908.767275</td>\n",
       "      <td>3908.77</td>\n",
       "      <td>3200.00</td>\n",
       "      <td>708.77</td>\n",
       "      <td>Dec-14</td>\n",
       "      <td>111.88</td>\n",
       "      <td>NaN</td>\n",
       "      <td>Nov-14</td>\n",
       "      <td>0</td>\n",
       "    </tr>\n",
       "  </tbody>\n",
       "</table>\n",
       "<p>38480 rows × 37 columns</p>\n",
       "</div>"
      ],
      "text/plain": [
       "       Unnamed: 0       id  member_id  loan_amnt  funded_amnt  \\\n",
       "0               2        2          2        0.0          0.0   \n",
       "1               3   545583     703644     2500.0       2500.0   \n",
       "2               4   532101     687836     5000.0       5000.0   \n",
       "3               5   877788    1092507     7000.0       7000.0   \n",
       "4               6   875406    1089981     2000.0       2000.0   \n",
       "...           ...      ...        ...        ...          ...   \n",
       "38475       38476   849205    1060907     3000.0       3000.0   \n",
       "38476       38477   852914    1065048    10400.0      10400.0   \n",
       "38477       38478   519553     671637    16000.0      10550.0   \n",
       "38478       38479   825638    1034448    10000.0      10000.0   \n",
       "38479       38480  1029847    1249126     3200.0       3200.0   \n",
       "\n",
       "       funded_amnt_inv       term  int_rate  installment emp_length  ...  \\\n",
       "0              0.00000  36 months      0.00         0.00   < 1 year  ...   \n",
       "1           2500.00000  36 months     13.98        85.42    4 years  ...   \n",
       "2           5000.00000  36 months     15.95       175.67    4 years  ...   \n",
       "3           7000.00000  36 months      9.91       225.58  10+ years  ...   \n",
       "4           2000.00000  36 months      5.42        60.32  10+ years  ...   \n",
       "...                ...        ...       ...          ...        ...  ...   \n",
       "38475       3000.00000  36 months     11.99        99.63    3 years  ...   \n",
       "38476      10400.00000  36 months     13.49       352.88    9 years  ...   \n",
       "38477      10531.35818  60 months     14.96       250.77  10+ years  ...   \n",
       "38478      10000.00000  36 months     16.89       355.99     1 year  ...   \n",
       "38479       3200.00000  36 months     13.49       108.58    7 years  ...   \n",
       "\n",
       "      total_acc   total_pymnt total_pymnt_inv total_rec_prncp total_rec_int  \\\n",
       "0           1.0      0.000000            0.00            0.00          0.00   \n",
       "1          10.0   3075.291779         3075.29         2500.00        575.29   \n",
       "2          15.0   2948.760000         2948.76         1909.02        873.81   \n",
       "3          20.0   8082.391880         8082.39         7000.00       1082.39   \n",
       "4          15.0   2161.663244         2161.66         2000.00        161.66   \n",
       "...         ...           ...             ...             ...           ...   \n",
       "38475      22.0   3586.619764         3586.62         3000.00        586.62   \n",
       "38476      33.0  12703.534030        12703.53        10400.00       2303.53   \n",
       "38477      25.0  14202.267530        14163.31        10550.00       3652.27   \n",
       "38478      12.0  12815.178320        12815.18        10000.00       2815.18   \n",
       "38479      18.0   3908.767275         3908.77         3200.00        708.77   \n",
       "\n",
       "      last_pymnt_d last_pymnt_amnt next_pymnt_d  last_credit_pull_d  \\\n",
       "0           Jan-07            0.00       Jan-07              Jan-07   \n",
       "1           Jul-13           90.85       Aug-13              Jun-16   \n",
       "2           Nov-11          175.67          NaN              Mar-12   \n",
       "3           Mar-14         1550.27          NaN              Mar-14   \n",
       "4           Feb-14           53.12          NaN              Jun-16   \n",
       "...            ...             ...          ...                 ...   \n",
       "38475       Aug-14          100.30          NaN              Jun-16   \n",
       "38476       Sep-14          393.08          NaN              Jun-16   \n",
       "38477       Jun-13         5439.96          NaN              Feb-16   \n",
       "38478       Aug-14          380.63          NaN              Sep-15   \n",
       "38479       Dec-14          111.88          NaN              Nov-14   \n",
       "\n",
       "       repay_fail  \n",
       "0               1  \n",
       "1               0  \n",
       "2               1  \n",
       "3               0  \n",
       "4               0  \n",
       "...           ...  \n",
       "38475           0  \n",
       "38476           0  \n",
       "38477           0  \n",
       "38478           0  \n",
       "38479           0  \n",
       "\n",
       "[38480 rows x 37 columns]"
      ]
     },
     "metadata": {},
     "output_type": "display_data"
    }
   ],
   "source": [
    "# df_h = pd.read_csv('Datasets/heart.csv')\n",
    "df_l = pd.read_csv('Datasets/Anonymize_Loan_Default_data.csv', encoding='unicode_escape')\n",
    "# df_b = pd.read_csv(r'Datasets\\hotel_booking.csv', encoding='unicode_escape')\n",
    "# display(df_h)\n",
    "display(df_l)\n",
    "# display(df_b)"
   ]
  },
  {
   "cell_type": "code",
   "execution_count": 21,
   "id": "4f5c3392",
   "metadata": {},
   "outputs": [],
   "source": [
    "df_l = df_l.drop(columns=['Unnamed: 0','id','member_id'] )\n",
    "df_l = df_l.dropna()"
   ]
  },
  {
   "cell_type": "code",
   "execution_count": 8,
   "id": "ad02057e",
   "metadata": {},
   "outputs": [],
   "source": [
    "df_b = pd.DataFrame()"
   ]
  },
  {
   "cell_type": "code",
   "execution_count": 9,
   "id": "ce848ab8",
   "metadata": {},
   "outputs": [
    {
     "data": {
      "text/plain": [
       "Index(['loan_amnt', 'funded_amnt', 'funded_amnt_inv', 'term', 'int_rate',\n",
       "       'installment', 'emp_length', 'home_ownership', 'annual_inc',\n",
       "       'verification_status', 'issue_d', 'loan_status', 'purpose', 'zip_code',\n",
       "       'addr_state', 'dti', 'delinq_2yrs', 'earliest_cr_line',\n",
       "       'inq_last_6mths', 'mths_since_last_delinq', 'open_acc', 'pub_rec',\n",
       "       'revol_bal', 'revol_util', 'total_acc', 'total_pymnt',\n",
       "       'total_pymnt_inv', 'total_rec_prncp', 'total_rec_int', 'last_pymnt_d',\n",
       "       'last_pymnt_amnt', 'next_pymnt_d', 'last_credit_pull_d', 'repay_fail'],\n",
       "      dtype='object')"
      ]
     },
     "execution_count": 9,
     "metadata": {},
     "output_type": "execute_result"
    }
   ],
   "source": [
    "df_l.columns"
   ]
  },
  {
   "cell_type": "code",
   "execution_count": 22,
   "id": "28aaba0f",
   "metadata": {},
   "outputs": [],
   "source": [
    "not_bin_cols = []\n",
    "bad_cols = ['issue_d', 'zip_code', 'addr_state', 'earliest_cr_line', 'inq_last_6mths', 'revol_util', 'last_pymnt_d', 'next_pymnt_d', 'last_credit_pull_d']\n",
    "columns = {'loan_amnt' : 10, 'funded_amnt' : 8\n",
    "           , 'funded_amnt_inv' : 5, 'term' : 0\n",
    "           , 'int_rate' : 5, 'installment' : 5\n",
    "           , 'emp_length' : 0, 'home_ownership' : 0\n",
    "           , 'annual_inc' : 7, 'verification_status' : 0\n",
    "           , 'loan_status' : 0, 'purpose' : 0\n",
    "           , 'dti' : 5, 'delinq_2yrs' : 0\n",
    "           , 'mths_since_last_delinq' : 5, 'open_acc' : 5\n",
    "           , 'pub_rec' : 0, 'revol_bal' : 6\n",
    "           , 'total_acc' : 5, 'total_pymnt' : 4 \n",
    "           , 'total_pymnt_inv' : 5, 'total_rec_prncp': 3\n",
    "           , 'total_rec_int' : 5, 'last_pymnt_amnt' : 4\n",
    "           , 'repay_fail' : 0}"
   ]
  },
  {
   "cell_type": "code",
   "execution_count": 11,
   "id": "ec708c51",
   "metadata": {},
   "outputs": [
    {
     "name": "stdout",
     "output_type": "stream",
     "text": [
      "===================== loan_amnt ========================\n",
      "Unique values: 251\n",
      "[ 500.  550.  600.  700.  800.  850.  900.  925. 1000. 1075. 1200. 1250.\n",
      " 1325. 1350. 1500. 1525. 1600. 1650. 1675. 1750. 1800. 2000. 2050. 2100.\n",
      " 2200.]\n",
      "===================== funded_amnt ========================\n",
      "Unique values: 296\n",
      "[ 500.  550.  600.  700.  800.  850.  900.  925. 1000. 1075. 1200. 1250.\n",
      " 1325. 1350. 1475. 1500. 1525. 1550. 1600. 1650. 1675. 1700. 1750. 1800.\n",
      " 2000.]\n",
      "===================== funded_amnt_inv ========================\n",
      "Unique values: 997\n",
      "[0.00000000e+00 1.85369000e-04 9.22030000e-04 1.12345700e-03\n",
      " 1.76098100e-03 2.71733100e-03 4.14750000e-03 4.16816200e-03\n",
      " 5.13307000e-03 5.59789700e-03 5.71587500e-03 7.09192100e-03\n",
      " 7.49383400e-03 8.24894393e+00 2.49997997e+01 2.50000000e+01\n",
      " 4.78700000e+01 7.50000000e+01 7.57100000e+01 7.61000000e+01\n",
      " 1.00000000e+02 1.02570000e+02 1.16900000e+02 1.25000000e+02\n",
      " 1.25016134e+02]\n",
      "===================== term ========================\n",
      "Unique values: 2\n",
      "['36 months' '60 months']\n",
      "===================== int_rate ========================\n",
      "Unique values: 288\n",
      "[6.   6.54 6.91 7.12 7.14 7.37 7.43 7.68 7.88 8.   8.07 8.38 8.49 8.59\n",
      " 8.63 8.7  8.88 9.01 9.2  9.32 9.33 9.38 9.45 9.51 9.62]\n",
      "===================== installment ========================\n",
      "Unique values: 1466\n",
      "[15.76 15.91 16.73 16.85 18.28 19.62 19.8  20.29 20.53 21.74 21.99 23.21\n",
      " 24.99 25.8  29.08 30.02 30.93 31.63 31.96 32.63 33.15 33.45 34.68 35.45\n",
      " 35.57]\n",
      "===================== emp_length ========================\n",
      "Unique values: 11\n",
      "['1 year' '10+ years' '2 years' '3 years' '4 years' '5 years' '6 years'\n",
      " '7 years' '8 years' '9 years' '< 1 year']\n",
      "===================== home_ownership ========================\n",
      "Unique values: 5\n",
      "['MORTGAGE' 'NONE' 'OTHER' 'OWN' 'RENT']\n",
      "===================== annual_inc ========================\n",
      "Unique values: 541\n",
      "[ 1896.  2000.  3500.  3600.  4000.  5000.  6000.  7062.  7200.  7500.\n",
      "  8400.  8700.  9600. 10000. 10192. 10920. 11400. 12000. 13000. 14000.\n",
      " 14200. 14400. 15000. 15600. 15725.]\n",
      "===================== verification_status ========================\n",
      "Unique values: 3\n",
      "['Not Verified' 'Source Verified' 'Verified']\n",
      "===================== issue_d ========================\n",
      "Unique values: 52\n",
      "['Apr-08' 'Apr-09' 'Apr-10' 'Aug-07' 'Aug-08' 'Aug-09' 'Aug-10' 'Aug-11'\n",
      " 'Dec-07' 'Dec-08' 'Dec-09' 'Dec-10' 'Dec-11' 'Feb-08' 'Feb-09' 'Feb-10'\n",
      " 'Feb-11' 'Jan-08' 'Jan-09' 'Jan-10' 'Jul-07' 'Jul-08' 'Jul-09' 'Jul-10'\n",
      " 'Jul-11']\n",
      "===================== loan_status ========================\n",
      "Unique values: 7\n",
      "['Current' 'Default' 'Does not meet the credit policy. Status:Charged Off'\n",
      " 'Does not meet the credit policy. Status:Fully Paid' 'In Grace Period'\n",
      " 'Late (16-30 days)' 'Late (31-120 days)']\n",
      "===================== purpose ========================\n",
      "Unique values: 14\n",
      "['car' 'credit_card' 'debt_consolidation' 'educational' 'home_improvement'\n",
      " 'house' 'major_purchase' 'medical' 'moving' 'other' 'renewable_energy'\n",
      " 'small_business' 'vacation' 'wedding']\n",
      "===================== zip_code ========================\n",
      "Unique values: 503\n",
      "['010xx' '011xx' '014xx' '015xx' '016xx' '017xx' '018xx' '019xx' '020xx'\n",
      " '021xx' '023xx' '024xx' '025xx' '026xx' '027xx' '028xx' '029xx' '030xx'\n",
      " '031xx' '032xx' '033xx' '034xx' '036xx' '038xx' '050xx']\n",
      "===================== addr_state ========================\n",
      "Unique values: 48\n",
      "['AK' 'AL' 'AR' 'AZ' 'CA' 'CO' 'CT' 'DC' 'DE' 'FL' 'GA' 'HI' 'IA' 'ID'\n",
      " 'IL' 'IN' 'KS' 'KY' 'LA' 'MA' 'MD' 'MI' 'MN' 'MO' 'MS']\n",
      "===================== dti ========================\n",
      "Unique values: 1225\n",
      "[0.   0.09 0.13 0.2  0.21 0.22 0.23 0.26 0.33 0.35 0.36 0.39 0.4  0.45\n",
      " 0.46 0.48 0.54 0.56 0.6  0.62 0.64 0.67 0.7  0.74 0.75]\n",
      "===================== delinq_2yrs ========================\n",
      "Unique values: 10\n",
      "[ 0.  1.  2.  3.  4.  5.  6.  7.  8. 11.]\n",
      "===================== earliest_cr_line ========================\n",
      "Unique values: 333\n",
      "['Apr-00' 'Apr-01' 'Apr-02' 'Apr-03' 'Apr-04' 'Apr-05' 'Apr-06' 'Apr-07'\n",
      " 'Apr-76' 'Apr-77' 'Apr-81' 'Apr-82' 'Apr-83' 'Apr-85' 'Apr-86' 'Apr-87'\n",
      " 'Apr-88' 'Apr-89' 'Apr-90' 'Apr-91' 'Apr-92' 'Apr-93' 'Apr-94' 'Apr-95'\n",
      " 'Apr-96']\n",
      "===================== inq_last_6mths ========================\n",
      "Unique values: 27\n",
      "[ 0.  1.  2.  3.  4.  5.  6.  7.  8.  9. 10. 11. 12. 13. 14. 15. 16. 18.\n",
      " 19. 20. 24. 25. 27. 28. 31.]\n",
      "===================== mths_since_last_delinq ========================\n",
      "Unique values: 85\n",
      "[ 0.  1.  2.  3.  4.  5.  6.  7.  8.  9. 10. 11. 12. 13. 14. 15. 16. 17.\n",
      " 18. 19. 20. 21. 22. 23. 24.]\n",
      "===================== open_acc ========================\n",
      "Unique values: 36\n",
      "[ 1.  2.  3.  4.  5.  6.  7.  8.  9. 10. 11. 12. 13. 14. 15. 16. 17. 18.\n",
      " 19. 20. 21. 22. 23. 24. 25.]\n",
      "===================== pub_rec ========================\n",
      "Unique values: 5\n",
      "[0. 1. 2. 3. 5.]\n",
      "===================== revol_bal ========================\n",
      "Unique values: 1537\n",
      "[  0.   2.   6.   7.  15.  20.  23.  25.  29.  39.  43.  46.  50.  52.\n",
      "  54.  58.  61.  63.  74.  77.  80.  83.  89. 114. 127.]\n",
      "===================== revol_util ========================\n",
      "Unique values: 810\n",
      "['0%' '0.10%' '0.20%' '0.30%' '0.40%' '0.50%' '0.70%' '0.90%' '1.10%'\n",
      " '1.20%' '1.30%' '1.50%' '1.60%' '1.90%' '10%' '10.20%' '10.30%' '10.40%'\n",
      " '10.61%' '10.90%' '100%' '100.60%' '100.70%' '101.40%' '101.50%']\n",
      "===================== total_acc ========================\n",
      "Unique values: 64\n",
      "[ 1.  2.  3.  4.  5.  6.  7.  8.  9. 10. 11. 12. 13. 14. 15. 16. 17. 18.\n",
      " 19. 20. 21. 22. 23. 24. 25.]\n",
      "===================== total_pymnt ========================\n",
      "Unique values: 1653\n",
      "[ 57.18       83.88      100.25      121.56      144.62      176.07\n",
      " 177.09      193.23      208.86      220.05      311.9       329.67\n",
      " 334.5       378.9       443.45      452.55      470.48      474.33\n",
      " 489.6       492.56      494.76      530.49      545.94      557.5352771\n",
      " 597.3449242]\n",
      "===================== total_pymnt_inv ========================\n",
      "Unique values: 1600\n",
      "[ 0.    0.92 11.21 20.98 27.3  29.28 29.56 30.08 31.12 32.24 49.41 56.39\n",
      " 60.24 61.45 64.01 68.93 77.44 82.74 83.89 84.83 88.63 88.8  90.4  90.6\n",
      " 91.02]\n",
      "===================== total_rec_prncp ========================\n",
      "Unique values: 894\n",
      "[ 43.44  47.78  49.04  61.94  63.35  68.56  77.24  82.44 108.81 110.51\n",
      " 113.   113.67 130.28 133.94 135.5  176.3  182.36 184.73 185.8  224.63\n",
      " 244.8  252.46 291.6  293.9  297.04]\n",
      "===================== total_rec_int ========================\n",
      "Unique values: 1648\n",
      "[13.74 14.44 26.54 27.91 31.69 32.71 34.81 44.32 53.27 57.54 63.42 66.58\n",
      " 67.26 70.1  71.56 74.92 75.47 77.21 79.59 80.75 82.12 85.25 89.3  89.37\n",
      " 96.84]\n",
      "===================== last_pymnt_d ========================\n",
      "Unique values: 96\n",
      "['Apr-08' 'Apr-09' 'Apr-10' 'Apr-11' 'Apr-12' 'Apr-13' 'Apr-14' 'Apr-15'\n",
      " 'Aug-08' 'Aug-09' 'Aug-10' 'Aug-11' 'Aug-12' 'Aug-13' 'Aug-14' 'Aug-15'\n",
      " 'Dec-07' 'Dec-08' 'Dec-09' 'Dec-10' 'Dec-11' 'Dec-12' 'Dec-13' 'Dec-14'\n",
      " 'Dec-15']\n",
      "===================== last_pymnt_amnt ========================\n",
      "Unique values: 1598\n",
      "[0.   0.37 0.86 0.88 0.9  0.95 1.18 1.3  1.76 2.26 2.62 3.24 3.3  3.51\n",
      " 3.53 3.74 3.76 3.92 4.03 4.05 4.59 5.   5.19 5.55 6.11]\n",
      "===================== next_pymnt_d ========================\n",
      "Unique values: 96\n",
      "['Apr-08' 'Apr-09' 'Apr-10' 'Apr-11' 'Apr-12' 'Apr-13' 'Apr-15' 'Aug-08'\n",
      " 'Aug-09' 'Aug-10' 'Aug-11' 'Aug-12' 'Aug-13' 'Aug-14' 'Aug-15' 'Dec-07'\n",
      " 'Dec-08' 'Dec-09' 'Dec-10' 'Dec-11' 'Dec-12' 'Dec-13' 'Dec-14' 'Feb-08'\n",
      " 'Feb-09']\n",
      "===================== last_credit_pull_d ========================\n",
      "Unique values: 100\n",
      "['Apr-09' 'Apr-10' 'Apr-11' 'Apr-12' 'Apr-13' 'Apr-14' 'Apr-15' 'Apr-16'\n",
      " 'Aug-08' 'Aug-09' 'Aug-10' 'Aug-11' 'Aug-12' 'Aug-13' 'Aug-14' 'Aug-15'\n",
      " 'Dec-07' 'Dec-08' 'Dec-09' 'Dec-10' 'Dec-11' 'Dec-12' 'Dec-13' 'Dec-14'\n",
      " 'Dec-15']\n",
      "===================== repay_fail ========================\n",
      "Unique values: 2\n",
      "[0 1]\n"
     ]
    }
   ],
   "source": [
    "for col in df_l.columns:\n",
    "    print(f'===================== {col} ========================')\n",
    "    print('Unique values:', len(np.unique(df_l[col])))\n",
    "    print(np.unique(df_l[col])[:25])\n",
    "    \n"
   ]
  },
  {
   "cell_type": "code",
   "execution_count": 23,
   "id": "32aa9c9d",
   "metadata": {},
   "outputs": [
    {
     "data": {
      "image/png": "[encoded data removed]",
      "text/plain": [
       "<Figure size 640x480 with 1 Axes>"
      ]
     },
     "metadata": {},
     "output_type": "display_data"
    },
    {
     "name": "stdout",
     "output_type": "stream",
     "text": [
      "Categories chose: 10\n"
     ]
    },
    {
     "data": {
      "image/png": "[encoded data removed]",
      "text/plain": [
       "<Figure size 640x480 with 1 Axes>"
      ]
     },
     "metadata": {},
     "output_type": "display_data"
    },
    {
     "name": "stdout",
     "output_type": "stream",
     "text": [
      "Categories chose: 8\n"
     ]
    },
    {
     "data": {
      "image/png": "[encoded data removed]",
      "text/plain": [
       "<Figure size 640x480 with 1 Axes>"
      ]
     },
     "metadata": {},
     "output_type": "display_data"
    },
    {
     "name": "stdout",
     "output_type": "stream",
     "text": [
      "Categories chose: 5\n"
     ]
    },
    {
     "data": {
      "image/png": "[encoded data removed]",
      "text/plain": [
       "<Figure size 640x480 with 1 Axes>"
      ]
     },
     "metadata": {},
     "output_type": "display_data"
    },
    {
     "name": "stdout",
     "output_type": "stream",
     "text": [
      "Fine for binarization.\n"
     ]
    },
    {
     "data": {
      "image/png": "[encoded data removed]",
      "text/plain": [
       "<Figure size 640x480 with 1 Axes>"
      ]
     },
     "metadata": {},
     "output_type": "display_data"
    },
    {
     "name": "stdout",
     "output_type": "stream",
     "text": [
      "Categories chose: 5\n"
     ]
    },
    {
     "data": {
      "image/png": "[encoded data removed]",
      "text/plain": [
       "<Figure size 640x480 with 1 Axes>"
      ]
     },
     "metadata": {},
     "output_type": "display_data"
    },
    {
     "name": "stdout",
     "output_type": "stream",
     "text": [
      "Categories chose: 5\n"
     ]
    },
    {
     "data": {
      "image/png": "[encoded data removed]",
      "text/plain": [
       "<Figure size 640x480 with 1 Axes>"
      ]
     },
     "metadata": {},
     "output_type": "display_data"
    },
    {
     "name": "stdout",
     "output_type": "stream",
     "text": [
      "Fine for binarization.\n"
     ]
    },
    {
     "data": {
      "image/png": "[encoded data removed]",
      "text/plain": [
       "<Figure size 640x480 with 1 Axes>"
      ]
     },
     "metadata": {},
     "output_type": "display_data"
    },
    {
     "name": "stdout",
     "output_type": "stream",
     "text": [
      "Fine for binarization.\n"
     ]
    },
    {
     "data": {
      "image/png": "[encoded data removed]",
      "text/plain": [
       "<Figure size 640x480 with 1 Axes>"
      ]
     },
     "metadata": {},
     "output_type": "display_data"
    },
    {
     "name": "stdout",
     "output_type": "stream",
     "text": [
      "Categories chose: 7\n"
     ]
    },
    {
     "data": {
      "image/png": "[encoded data removed]",
      "text/plain": [
       "<Figure size 640x480 with 1 Axes>"
      ]
     },
     "metadata": {},
     "output_type": "display_data"
    },
    {
     "name": "stdout",
     "output_type": "stream",
     "text": [
      "Fine for binarization.\n"
     ]
    },
    {
     "data": {
      "image/png": "[encoded data removed]",
      "text/plain": [
       "<Figure size 640x480 with 1 Axes>"
      ]
     },
     "metadata": {},
     "output_type": "display_data"
    },
    {
     "name": "stdout",
     "output_type": "stream",
     "text": [
      "Fine for binarization.\n"
     ]
    },
    {
     "data": {
      "image/png": "[encoded data removed]",
      "text/plain": [
       "<Figure size 640x480 with 1 Axes>"
      ]
     },
     "metadata": {},
     "output_type": "display_data"
    },
    {
     "name": "stdout",
     "output_type": "stream",
     "text": [
      "Fine for binarization.\n"
     ]
    },
    {
     "data": {
      "image/png": "[encoded data removed]",
      "text/plain": [
       "<Figure size 640x480 with 1 Axes>"
      ]
     },
     "metadata": {},
     "output_type": "display_data"
    },
    {
     "name": "stdout",
     "output_type": "stream",
     "text": [
      "Categories chose: 5\n"
     ]
    },
    {
     "data": {
      "image/png": "[encoded data removed]",
      "text/plain": [
       "<Figure size 640x480 with 1 Axes>"
      ]
     },
     "metadata": {},
     "output_type": "display_data"
    },
    {
     "name": "stdout",
     "output_type": "stream",
     "text": [
      "Fine for binarization.\n"
     ]
    },
    {
     "data": {
      "image/png": "[encoded data removed]",
      "text/plain": [
       "<Figure size 640x480 with 1 Axes>"
      ]
     },
     "metadata": {},
     "output_type": "display_data"
    },
    {
     "name": "stdout",
     "output_type": "stream",
     "text": [
      "Bad column: mths_since_last_delinq\n"
     ]
    },
    {
     "data": {
      "image/png": "[encoded data removed]",
      "text/plain": [
       "<Figure size 640x480 with 1 Axes>"
      ]
     },
     "metadata": {},
     "output_type": "display_data"
    },
    {
     "name": "stdout",
     "output_type": "stream",
     "text": [
      "Categories chose: 5\n"
     ]
    },
    {
     "data": {
      "image/png": "[encoded data removed]",
      "text/plain": [
       "<Figure size 640x480 with 1 Axes>"
      ]
     },
     "metadata": {},
     "output_type": "display_data"
    },
    {
     "name": "stdout",
     "output_type": "stream",
     "text": [
      "Fine for binarization.\n"
     ]
    },
    {
     "data": {
      "image/png": "[encoded data removed]",
      "text/plain": [
       "<Figure size 640x480 with 1 Axes>"
      ]
     },
     "metadata": {},
     "output_type": "display_data"
    },
    {
     "name": "stdout",
     "output_type": "stream",
     "text": [
      "Categories chose: 6\n"
     ]
    },
    {
     "data": {
      "image/png": "[encoded data removed]",
      "text/plain": [
       "<Figure size 640x480 with 1 Axes>"
      ]
     },
     "metadata": {},
     "output_type": "display_data"
    },
    {
     "name": "stdout",
     "output_type": "stream",
     "text": [
      "Categories chose: 5\n"
     ]
    },
    {
     "data": {
      "image/png": "[encoded data removed]",
      "text/plain": [
       "<Figure size 640x480 with 1 Axes>"
      ]
     },
     "metadata": {},
     "output_type": "display_data"
    },
    {
     "name": "stdout",
     "output_type": "stream",
     "text": [
      "Categories chose: 4\n"
     ]
    },
    {
     "data": {
      "image/png": "[encoded data removed]",
      "text/plain": [
       "<Figure size 640x480 with 1 Axes>"
      ]
     },
     "metadata": {},
     "output_type": "display_data"
    },
    {
     "name": "stdout",
     "output_type": "stream",
     "text": [
      "Categories chose: 5\n"
     ]
    },
    {
     "data": {
      "image/png": "[encoded data removed]",
      "text/plain": [
       "<Figure size 640x480 with 1 Axes>"
      ]
     },
     "metadata": {},
     "output_type": "display_data"
    },
    {
     "name": "stdout",
     "output_type": "stream",
     "text": [
      "Categories chose: 3\n"
     ]
    },
    {
     "data": {
      "image/png": "[encoded data removed]",
      "text/plain": [
       "<Figure size 640x480 with 1 Axes>"
      ]
     },
     "metadata": {},
     "output_type": "display_data"
    },
    {
     "name": "stdout",
     "output_type": "stream",
     "text": [
      "Categories chose: 5\n"
     ]
    },
    {
     "data": {
      "image/png": "[encoded data removed]",
      "text/plain": [
       "<Figure size 640x480 with 1 Axes>"
      ]
     },
     "metadata": {},
     "output_type": "display_data"
    },
    {
     "name": "stdout",
     "output_type": "stream",
     "text": [
      "Categories chose: 4\n"
     ]
    },
    {
     "data": {
      "image/png": "[encoded data removed]",
      "text/plain": [
       "<Figure size 640x480 with 1 Axes>"
      ]
     },
     "metadata": {},
     "output_type": "display_data"
    },
    {
     "name": "stdout",
     "output_type": "stream",
     "text": [
      "Fine for binarization.\n"
     ]
    }
   ],
   "source": [
    "df_l = df_l.drop(columns=bad_cols)\n",
    "bad_cols = []\n",
    "for col in df_l.columns:\n",
    "    try:    \n",
    "        plt.hist(df_l[col])\n",
    "        plt.title(col)\n",
    "        plt.show()\n",
    "            \n",
    "        if len(np.unique(df_l[col])) > 2:\n",
    "            not_bin_cols.append(col)\n",
    "        k = columns[col]\n",
    "        if k:\n",
    "            df_b[col] = pd.qcut(df_l[col], q=k, precision=3)\n",
    "            print('Categories chose:', k)\n",
    "        else:\n",
    "            df_b[col] = df_l[col]\n",
    "            print('Fine for binarization.')\n",
    "    except:\n",
    "        print('Bad column:', col)\n",
    "        bad_cols.append(col)"
   ]
  },
  {
   "cell_type": "code",
   "execution_count": 32,
   "id": "7598234a",
   "metadata": {},
   "outputs": [
    {
     "data": {
      "text/plain": [
       "Index(['loan_amnt', 'funded_amnt', 'funded_amnt_inv', 'term', 'int_rate',\n",
       "       'installment', 'emp_length', 'home_ownership', 'annual_inc',\n",
       "       'verification_status', 'loan_status', 'purpose', 'dti', 'delinq_2yrs',\n",
       "       'open_acc', 'pub_rec', 'revol_bal', 'total_acc', 'total_pymnt',\n",
       "       'total_pymnt_inv', 'total_rec_prncp', 'total_rec_int',\n",
       "       'last_pymnt_amnt', 'repay_fail'],\n",
       "      dtype='object')"
      ]
     },
     "execution_count": 32,
     "metadata": {},
     "output_type": "execute_result"
    }
   ],
   "source": [
    "df_b.columns"
   ]
  },
  {
   "cell_type": "code",
   "execution_count": 34,
   "id": "521415ba",
   "metadata": {},
   "outputs": [],
   "source": [
    "not_bin_cols.remove('mths_since_last_delinq')"
   ]
  },
  {
   "cell_type": "code",
   "execution_count": 35,
   "id": "0415b775",
   "metadata": {},
   "outputs": [
    {
     "data": {
      "text/plain": [
       "['loan_amnt',\n",
       " 'funded_amnt',\n",
       " 'funded_amnt_inv',\n",
       " 'int_rate',\n",
       " 'installment',\n",
       " 'emp_length',\n",
       " 'home_ownership',\n",
       " 'annual_inc',\n",
       " 'verification_status',\n",
       " 'loan_status',\n",
       " 'purpose',\n",
       " 'dti',\n",
       " 'delinq_2yrs',\n",
       " 'open_acc',\n",
       " 'pub_rec',\n",
       " 'revol_bal',\n",
       " 'total_acc',\n",
       " 'total_pymnt',\n",
       " 'total_pymnt_inv',\n",
       " 'total_rec_prncp',\n",
       " 'total_rec_int',\n",
       " 'last_pymnt_amnt']"
      ]
     },
     "execution_count": 35,
     "metadata": {},
     "output_type": "execute_result"
    }
   ],
   "source": [
    "not_bin_cols"
   ]
  },
  {
   "cell_type": "code",
   "execution_count": 40,
   "id": "3dd1586d",
   "metadata": {},
   "outputs": [],
   "source": [
    "df_b['term'] = (df_b['term'] == df_b['term'].values[0])"
   ]
  },
  {
   "cell_type": "code",
   "execution_count": 41,
   "id": "4aefb15e",
   "metadata": {},
   "outputs": [
    {
     "data": {
      "text/plain": [
       "term\n",
       "True     1264\n",
       "False     389\n",
       "Name: count, dtype: int64"
      ]
     },
     "execution_count": 41,
     "metadata": {},
     "output_type": "execute_result"
    }
   ],
   "source": [
    "df_b['term'].value_counts()"
   ]
  },
  {
   "cell_type": "code",
   "execution_count": 42,
   "id": "cf7918de",
   "metadata": {},
   "outputs": [],
   "source": [
    "df_bin = pd.get_dummies(df_b, columns=not_bin_cols).astype('bool')\n",
    "df_bin.drop_duplicates(inplace=True)"
   ]
  },
  {
   "cell_type": "code",
   "execution_count": 43,
   "id": "4fe2e9d3",
   "metadata": {},
   "outputs": [
    {
     "data": {
      "text/html": [
       "<div>\n",
       "<style scoped>\n",
       "    .dataframe tbody tr th:only-of-type {\n",
       "        vertical-align: middle;\n",
       "    }\n",
       "\n",
       "    .dataframe tbody tr th {\n",
       "        vertical-align: top;\n",
       "    }\n",
       "\n",
       "    .dataframe thead th {\n",
       "        text-align: right;\n",
       "    }\n",
       "</style>\n",
       "<table border=\"1\" class=\"dataframe\">\n",
       "  <thead>\n",
       "    <tr style=\"text-align: right;\">\n",
       "      <th></th>\n",
       "      <th>term</th>\n",
       "      <th>repay_fail</th>\n",
       "      <th>loan_amnt_(499.999, 2805.0]</th>\n",
       "      <th>loan_amnt_(2805.0, 4350.0]</th>\n",
       "      <th>loan_amnt_(4350.0, 5100.0]</th>\n",
       "      <th>loan_amnt_(5100.0, 6700.0]</th>\n",
       "      <th>loan_amnt_(6700.0, 8000.0]</th>\n",
       "      <th>loan_amnt_(8000.0, 10000.0]</th>\n",
       "      <th>loan_amnt_(10000.0, 12000.0]</th>\n",
       "      <th>loan_amnt_(12000.0, 15000.0]</th>\n",
       "      <th>...</th>\n",
       "      <th>total_rec_prncp_(9730.41, 33127.85]</th>\n",
       "      <th>total_rec_int_(13.739, 606.47]</th>\n",
       "      <th>total_rec_int_(606.47, 1157.288]</th>\n",
       "      <th>total_rec_int_(1157.288, 1983.63]</th>\n",
       "      <th>total_rec_int_(1983.63, 3917.576]</th>\n",
       "      <th>total_rec_int_(3917.576, 23611.1]</th>\n",
       "      <th>last_pymnt_amnt_(-0.001, 155.76]</th>\n",
       "      <th>last_pymnt_amnt_(155.76, 327.06]</th>\n",
       "      <th>last_pymnt_amnt_(327.06, 748.08]</th>\n",
       "      <th>last_pymnt_amnt_(748.08, 25207.53]</th>\n",
       "    </tr>\n",
       "  </thead>\n",
       "  <tbody>\n",
       "    <tr>\n",
       "      <th>5</th>\n",
       "      <td>True</td>\n",
       "      <td>False</td>\n",
       "      <td>False</td>\n",
       "      <td>True</td>\n",
       "      <td>False</td>\n",
       "      <td>False</td>\n",
       "      <td>False</td>\n",
       "      <td>False</td>\n",
       "      <td>False</td>\n",
       "      <td>False</td>\n",
       "      <td>...</td>\n",
       "      <td>False</td>\n",
       "      <td>True</td>\n",
       "      <td>False</td>\n",
       "      <td>False</td>\n",
       "      <td>False</td>\n",
       "      <td>False</td>\n",
       "      <td>True</td>\n",
       "      <td>False</td>\n",
       "      <td>False</td>\n",
       "      <td>False</td>\n",
       "    </tr>\n",
       "    <tr>\n",
       "      <th>48</th>\n",
       "      <td>True</td>\n",
       "      <td>False</td>\n",
       "      <td>False</td>\n",
       "      <td>False</td>\n",
       "      <td>False</td>\n",
       "      <td>False</td>\n",
       "      <td>False</td>\n",
       "      <td>False</td>\n",
       "      <td>False</td>\n",
       "      <td>True</td>\n",
       "      <td>...</td>\n",
       "      <td>True</td>\n",
       "      <td>False</td>\n",
       "      <td>False</td>\n",
       "      <td>False</td>\n",
       "      <td>True</td>\n",
       "      <td>False</td>\n",
       "      <td>False</td>\n",
       "      <td>True</td>\n",
       "      <td>False</td>\n",
       "      <td>False</td>\n",
       "    </tr>\n",
       "    <tr>\n",
       "      <th>76</th>\n",
       "      <td>True</td>\n",
       "      <td>False</td>\n",
       "      <td>True</td>\n",
       "      <td>False</td>\n",
       "      <td>False</td>\n",
       "      <td>False</td>\n",
       "      <td>False</td>\n",
       "      <td>False</td>\n",
       "      <td>False</td>\n",
       "      <td>False</td>\n",
       "      <td>...</td>\n",
       "      <td>False</td>\n",
       "      <td>True</td>\n",
       "      <td>False</td>\n",
       "      <td>False</td>\n",
       "      <td>False</td>\n",
       "      <td>False</td>\n",
       "      <td>True</td>\n",
       "      <td>False</td>\n",
       "      <td>False</td>\n",
       "      <td>False</td>\n",
       "    </tr>\n",
       "    <tr>\n",
       "      <th>134</th>\n",
       "      <td>True</td>\n",
       "      <td>False</td>\n",
       "      <td>True</td>\n",
       "      <td>False</td>\n",
       "      <td>False</td>\n",
       "      <td>False</td>\n",
       "      <td>False</td>\n",
       "      <td>False</td>\n",
       "      <td>False</td>\n",
       "      <td>False</td>\n",
       "      <td>...</td>\n",
       "      <td>False</td>\n",
       "      <td>True</td>\n",
       "      <td>False</td>\n",
       "      <td>False</td>\n",
       "      <td>False</td>\n",
       "      <td>False</td>\n",
       "      <td>True</td>\n",
       "      <td>False</td>\n",
       "      <td>False</td>\n",
       "      <td>False</td>\n",
       "    </tr>\n",
       "    <tr>\n",
       "      <th>160</th>\n",
       "      <td>False</td>\n",
       "      <td>False</td>\n",
       "      <td>False</td>\n",
       "      <td>False</td>\n",
       "      <td>False</td>\n",
       "      <td>False</td>\n",
       "      <td>False</td>\n",
       "      <td>False</td>\n",
       "      <td>False</td>\n",
       "      <td>False</td>\n",
       "      <td>...</td>\n",
       "      <td>True</td>\n",
       "      <td>False</td>\n",
       "      <td>False</td>\n",
       "      <td>False</td>\n",
       "      <td>False</td>\n",
       "      <td>True</td>\n",
       "      <td>False</td>\n",
       "      <td>False</td>\n",
       "      <td>True</td>\n",
       "      <td>False</td>\n",
       "    </tr>\n",
       "    <tr>\n",
       "      <th>...</th>\n",
       "      <td>...</td>\n",
       "      <td>...</td>\n",
       "      <td>...</td>\n",
       "      <td>...</td>\n",
       "      <td>...</td>\n",
       "      <td>...</td>\n",
       "      <td>...</td>\n",
       "      <td>...</td>\n",
       "      <td>...</td>\n",
       "      <td>...</td>\n",
       "      <td>...</td>\n",
       "      <td>...</td>\n",
       "      <td>...</td>\n",
       "      <td>...</td>\n",
       "      <td>...</td>\n",
       "      <td>...</td>\n",
       "      <td>...</td>\n",
       "      <td>...</td>\n",
       "      <td>...</td>\n",
       "      <td>...</td>\n",
       "      <td>...</td>\n",
       "    </tr>\n",
       "    <tr>\n",
       "      <th>38398</th>\n",
       "      <td>True</td>\n",
       "      <td>True</td>\n",
       "      <td>False</td>\n",
       "      <td>False</td>\n",
       "      <td>False</td>\n",
       "      <td>True</td>\n",
       "      <td>False</td>\n",
       "      <td>False</td>\n",
       "      <td>False</td>\n",
       "      <td>False</td>\n",
       "      <td>...</td>\n",
       "      <td>False</td>\n",
       "      <td>False</td>\n",
       "      <td>False</td>\n",
       "      <td>True</td>\n",
       "      <td>False</td>\n",
       "      <td>False</td>\n",
       "      <td>True</td>\n",
       "      <td>False</td>\n",
       "      <td>False</td>\n",
       "      <td>False</td>\n",
       "    </tr>\n",
       "    <tr>\n",
       "      <th>38409</th>\n",
       "      <td>True</td>\n",
       "      <td>True</td>\n",
       "      <td>False</td>\n",
       "      <td>False</td>\n",
       "      <td>False</td>\n",
       "      <td>False</td>\n",
       "      <td>False</td>\n",
       "      <td>True</td>\n",
       "      <td>False</td>\n",
       "      <td>False</td>\n",
       "      <td>...</td>\n",
       "      <td>False</td>\n",
       "      <td>False</td>\n",
       "      <td>True</td>\n",
       "      <td>False</td>\n",
       "      <td>False</td>\n",
       "      <td>False</td>\n",
       "      <td>True</td>\n",
       "      <td>False</td>\n",
       "      <td>False</td>\n",
       "      <td>False</td>\n",
       "    </tr>\n",
       "    <tr>\n",
       "      <th>38446</th>\n",
       "      <td>False</td>\n",
       "      <td>False</td>\n",
       "      <td>False</td>\n",
       "      <td>False</td>\n",
       "      <td>False</td>\n",
       "      <td>False</td>\n",
       "      <td>False</td>\n",
       "      <td>False</td>\n",
       "      <td>False</td>\n",
       "      <td>False</td>\n",
       "      <td>...</td>\n",
       "      <td>True</td>\n",
       "      <td>False</td>\n",
       "      <td>False</td>\n",
       "      <td>False</td>\n",
       "      <td>False</td>\n",
       "      <td>True</td>\n",
       "      <td>False</td>\n",
       "      <td>False</td>\n",
       "      <td>True</td>\n",
       "      <td>False</td>\n",
       "    </tr>\n",
       "    <tr>\n",
       "      <th>38454</th>\n",
       "      <td>True</td>\n",
       "      <td>True</td>\n",
       "      <td>False</td>\n",
       "      <td>False</td>\n",
       "      <td>False</td>\n",
       "      <td>False</td>\n",
       "      <td>False</td>\n",
       "      <td>False</td>\n",
       "      <td>False</td>\n",
       "      <td>False</td>\n",
       "      <td>...</td>\n",
       "      <td>False</td>\n",
       "      <td>False</td>\n",
       "      <td>False</td>\n",
       "      <td>False</td>\n",
       "      <td>True</td>\n",
       "      <td>False</td>\n",
       "      <td>False</td>\n",
       "      <td>False</td>\n",
       "      <td>True</td>\n",
       "      <td>False</td>\n",
       "    </tr>\n",
       "    <tr>\n",
       "      <th>38468</th>\n",
       "      <td>True</td>\n",
       "      <td>False</td>\n",
       "      <td>False</td>\n",
       "      <td>False</td>\n",
       "      <td>False</td>\n",
       "      <td>False</td>\n",
       "      <td>True</td>\n",
       "      <td>False</td>\n",
       "      <td>False</td>\n",
       "      <td>False</td>\n",
       "      <td>...</td>\n",
       "      <td>False</td>\n",
       "      <td>False</td>\n",
       "      <td>True</td>\n",
       "      <td>False</td>\n",
       "      <td>False</td>\n",
       "      <td>False</td>\n",
       "      <td>True</td>\n",
       "      <td>False</td>\n",
       "      <td>False</td>\n",
       "      <td>False</td>\n",
       "    </tr>\n",
       "  </tbody>\n",
       "</table>\n",
       "<p>1653 rows × 139 columns</p>\n",
       "</div>"
      ],
      "text/plain": [
       "        term  repay_fail  loan_amnt_(499.999, 2805.0]  \\\n",
       "5       True       False                        False   \n",
       "48      True       False                        False   \n",
       "76      True       False                         True   \n",
       "134     True       False                         True   \n",
       "160    False       False                        False   \n",
       "...      ...         ...                          ...   \n",
       "38398   True        True                        False   \n",
       "38409   True        True                        False   \n",
       "38446  False       False                        False   \n",
       "38454   True        True                        False   \n",
       "38468   True       False                        False   \n",
       "\n",
       "       loan_amnt_(2805.0, 4350.0]  loan_amnt_(4350.0, 5100.0]  \\\n",
       "5                            True                       False   \n",
       "48                          False                       False   \n",
       "76                          False                       False   \n",
       "134                         False                       False   \n",
       "160                         False                       False   \n",
       "...                           ...                         ...   \n",
       "38398                       False                       False   \n",
       "38409                       False                       False   \n",
       "38446                       False                       False   \n",
       "38454                       False                       False   \n",
       "38468                       False                       False   \n",
       "\n",
       "       loan_amnt_(5100.0, 6700.0]  loan_amnt_(6700.0, 8000.0]  \\\n",
       "5                           False                       False   \n",
       "48                          False                       False   \n",
       "76                          False                       False   \n",
       "134                         False                       False   \n",
       "160                         False                       False   \n",
       "...                           ...                         ...   \n",
       "38398                        True                       False   \n",
       "38409                       False                       False   \n",
       "38446                       False                       False   \n",
       "38454                       False                       False   \n",
       "38468                       False                        True   \n",
       "\n",
       "       loan_amnt_(8000.0, 10000.0]  loan_amnt_(10000.0, 12000.0]  \\\n",
       "5                            False                         False   \n",
       "48                           False                         False   \n",
       "76                           False                         False   \n",
       "134                          False                         False   \n",
       "160                          False                         False   \n",
       "...                            ...                           ...   \n",
       "38398                        False                         False   \n",
       "38409                         True                         False   \n",
       "38446                        False                         False   \n",
       "38454                        False                         False   \n",
       "38468                        False                         False   \n",
       "\n",
       "       loan_amnt_(12000.0, 15000.0]  ...  total_rec_prncp_(9730.41, 33127.85]  \\\n",
       "5                             False  ...                                False   \n",
       "48                             True  ...                                 True   \n",
       "76                            False  ...                                False   \n",
       "134                           False  ...                                False   \n",
       "160                           False  ...                                 True   \n",
       "...                             ...  ...                                  ...   \n",
       "38398                         False  ...                                False   \n",
       "38409                         False  ...                                False   \n",
       "38446                         False  ...                                 True   \n",
       "38454                         False  ...                                False   \n",
       "38468                         False  ...                                False   \n",
       "\n",
       "       total_rec_int_(13.739, 606.47]  total_rec_int_(606.47, 1157.288]  \\\n",
       "5                                True                             False   \n",
       "48                              False                             False   \n",
       "76                               True                             False   \n",
       "134                              True                             False   \n",
       "160                             False                             False   \n",
       "...                               ...                               ...   \n",
       "38398                           False                             False   \n",
       "38409                           False                              True   \n",
       "38446                           False                             False   \n",
       "38454                           False                             False   \n",
       "38468                           False                              True   \n",
       "\n",
       "       total_rec_int_(1157.288, 1983.63]  total_rec_int_(1983.63, 3917.576]  \\\n",
       "5                                  False                              False   \n",
       "48                                 False                               True   \n",
       "76                                 False                              False   \n",
       "134                                False                              False   \n",
       "160                                False                              False   \n",
       "...                                  ...                                ...   \n",
       "38398                               True                              False   \n",
       "38409                              False                              False   \n",
       "38446                              False                              False   \n",
       "38454                              False                               True   \n",
       "38468                              False                              False   \n",
       "\n",
       "       total_rec_int_(3917.576, 23611.1]  last_pymnt_amnt_(-0.001, 155.76]  \\\n",
       "5                                  False                              True   \n",
       "48                                 False                             False   \n",
       "76                                 False                              True   \n",
       "134                                False                              True   \n",
       "160                                 True                             False   \n",
       "...                                  ...                               ...   \n",
       "38398                              False                              True   \n",
       "38409                              False                              True   \n",
       "38446                               True                             False   \n",
       "38454                              False                             False   \n",
       "38468                              False                              True   \n",
       "\n",
       "       last_pymnt_amnt_(155.76, 327.06]  last_pymnt_amnt_(327.06, 748.08]  \\\n",
       "5                                 False                             False   \n",
       "48                                 True                             False   \n",
       "76                                False                             False   \n",
       "134                               False                             False   \n",
       "160                               False                              True   \n",
       "...                                 ...                               ...   \n",
       "38398                             False                             False   \n",
       "38409                             False                             False   \n",
       "38446                             False                              True   \n",
       "38454                             False                              True   \n",
       "38468                             False                             False   \n",
       "\n",
       "       last_pymnt_amnt_(748.08, 25207.53]  \n",
       "5                                   False  \n",
       "48                                  False  \n",
       "76                                  False  \n",
       "134                                 False  \n",
       "160                                 False  \n",
       "...                                   ...  \n",
       "38398                               False  \n",
       "38409                               False  \n",
       "38446                               False  \n",
       "38454                               False  \n",
       "38468                               False  \n",
       "\n",
       "[1653 rows x 139 columns]"
      ]
     },
     "execution_count": 43,
     "metadata": {},
     "output_type": "execute_result"
    }
   ],
   "source": [
    "df_bin"
   ]
  },
  {
   "cell_type": "code",
   "execution_count": 44,
   "id": "845403d4",
   "metadata": {},
   "outputs": [
    {
     "data": {
      "text/plain": [
       "(1653, 139)"
      ]
     },
     "execution_count": 44,
     "metadata": {},
     "output_type": "execute_result"
    }
   ],
   "source": [
    "df_bin.shape"
   ]
  },
  {
   "cell_type": "code",
   "execution_count": 45,
   "id": "7b3b08ed",
   "metadata": {
    "scrolled": true
   },
   "outputs": [
    {
     "data": {
      "text/plain": [
       "repay_fail\n",
       "False    0.745917\n",
       "True     0.254083\n",
       "Name: proportion, dtype: float64"
      ]
     },
     "execution_count": 45,
     "metadata": {},
     "output_type": "execute_result"
    }
   ],
   "source": [
    "df_bin['repay_fail'].value_counts(normalize=True)"
   ]
  },
  {
   "cell_type": "code",
   "execution_count": 46,
   "id": "abd336b7",
   "metadata": {
    "scrolled": true
   },
   "outputs": [
    {
     "data": {
      "text/html": [
       "<div>\n",
       "<style scoped>\n",
       "    .dataframe tbody tr th:only-of-type {\n",
       "        vertical-align: middle;\n",
       "    }\n",
       "\n",
       "    .dataframe tbody tr th {\n",
       "        vertical-align: top;\n",
       "    }\n",
       "\n",
       "    .dataframe thead th {\n",
       "        text-align: right;\n",
       "    }\n",
       "</style>\n",
       "<table border=\"1\" class=\"dataframe\">\n",
       "  <thead>\n",
       "    <tr style=\"text-align: right;\">\n",
       "      <th></th>\n",
       "      <th>term</th>\n",
       "      <th>repay_fail</th>\n",
       "      <th>loan_amnt_(499.999, 2805.0]</th>\n",
       "      <th>loan_amnt_(2805.0, 4350.0]</th>\n",
       "      <th>loan_amnt_(4350.0, 5100.0]</th>\n",
       "      <th>loan_amnt_(5100.0, 6700.0]</th>\n",
       "      <th>loan_amnt_(6700.0, 8000.0]</th>\n",
       "      <th>loan_amnt_(8000.0, 10000.0]</th>\n",
       "      <th>loan_amnt_(10000.0, 12000.0]</th>\n",
       "      <th>loan_amnt_(12000.0, 15000.0]</th>\n",
       "      <th>...</th>\n",
       "      <th>total_rec_prncp_(9730.41, 33127.85]</th>\n",
       "      <th>total_rec_int_(13.739, 606.47]</th>\n",
       "      <th>total_rec_int_(606.47, 1157.288]</th>\n",
       "      <th>total_rec_int_(1157.288, 1983.63]</th>\n",
       "      <th>total_rec_int_(1983.63, 3917.576]</th>\n",
       "      <th>total_rec_int_(3917.576, 23611.1]</th>\n",
       "      <th>last_pymnt_amnt_(-0.001, 155.76]</th>\n",
       "      <th>last_pymnt_amnt_(155.76, 327.06]</th>\n",
       "      <th>last_pymnt_amnt_(327.06, 748.08]</th>\n",
       "      <th>last_pymnt_amnt_(748.08, 25207.53]</th>\n",
       "    </tr>\n",
       "  </thead>\n",
       "  <tbody>\n",
       "    <tr>\n",
       "      <th>4885</th>\n",
       "      <td>False</td>\n",
       "      <td>False</td>\n",
       "      <td>False</td>\n",
       "      <td>False</td>\n",
       "      <td>False</td>\n",
       "      <td>True</td>\n",
       "      <td>False</td>\n",
       "      <td>False</td>\n",
       "      <td>False</td>\n",
       "      <td>False</td>\n",
       "      <td>...</td>\n",
       "      <td>False</td>\n",
       "      <td>False</td>\n",
       "      <td>False</td>\n",
       "      <td>False</td>\n",
       "      <td>True</td>\n",
       "      <td>False</td>\n",
       "      <td>True</td>\n",
       "      <td>False</td>\n",
       "      <td>False</td>\n",
       "      <td>False</td>\n",
       "    </tr>\n",
       "    <tr>\n",
       "      <th>17181</th>\n",
       "      <td>True</td>\n",
       "      <td>True</td>\n",
       "      <td>False</td>\n",
       "      <td>False</td>\n",
       "      <td>False</td>\n",
       "      <td>False</td>\n",
       "      <td>False</td>\n",
       "      <td>False</td>\n",
       "      <td>False</td>\n",
       "      <td>True</td>\n",
       "      <td>...</td>\n",
       "      <td>False</td>\n",
       "      <td>False</td>\n",
       "      <td>False</td>\n",
       "      <td>True</td>\n",
       "      <td>False</td>\n",
       "      <td>False</td>\n",
       "      <td>False</td>\n",
       "      <td>False</td>\n",
       "      <td>True</td>\n",
       "      <td>False</td>\n",
       "    </tr>\n",
       "    <tr>\n",
       "      <th>18472</th>\n",
       "      <td>False</td>\n",
       "      <td>False</td>\n",
       "      <td>False</td>\n",
       "      <td>False</td>\n",
       "      <td>False</td>\n",
       "      <td>False</td>\n",
       "      <td>True</td>\n",
       "      <td>False</td>\n",
       "      <td>False</td>\n",
       "      <td>False</td>\n",
       "      <td>...</td>\n",
       "      <td>False</td>\n",
       "      <td>False</td>\n",
       "      <td>False</td>\n",
       "      <td>False</td>\n",
       "      <td>False</td>\n",
       "      <td>True</td>\n",
       "      <td>False</td>\n",
       "      <td>False</td>\n",
       "      <td>False</td>\n",
       "      <td>True</td>\n",
       "    </tr>\n",
       "    <tr>\n",
       "      <th>24251</th>\n",
       "      <td>True</td>\n",
       "      <td>True</td>\n",
       "      <td>False</td>\n",
       "      <td>False</td>\n",
       "      <td>False</td>\n",
       "      <td>False</td>\n",
       "      <td>False</td>\n",
       "      <td>False</td>\n",
       "      <td>True</td>\n",
       "      <td>False</td>\n",
       "      <td>...</td>\n",
       "      <td>False</td>\n",
       "      <td>False</td>\n",
       "      <td>False</td>\n",
       "      <td>True</td>\n",
       "      <td>False</td>\n",
       "      <td>False</td>\n",
       "      <td>False</td>\n",
       "      <td>False</td>\n",
       "      <td>True</td>\n",
       "      <td>False</td>\n",
       "    </tr>\n",
       "    <tr>\n",
       "      <th>16147</th>\n",
       "      <td>False</td>\n",
       "      <td>False</td>\n",
       "      <td>False</td>\n",
       "      <td>False</td>\n",
       "      <td>False</td>\n",
       "      <td>False</td>\n",
       "      <td>False</td>\n",
       "      <td>False</td>\n",
       "      <td>False</td>\n",
       "      <td>False</td>\n",
       "      <td>...</td>\n",
       "      <td>True</td>\n",
       "      <td>False</td>\n",
       "      <td>False</td>\n",
       "      <td>False</td>\n",
       "      <td>False</td>\n",
       "      <td>True</td>\n",
       "      <td>False</td>\n",
       "      <td>False</td>\n",
       "      <td>True</td>\n",
       "      <td>False</td>\n",
       "    </tr>\n",
       "    <tr>\n",
       "      <th>...</th>\n",
       "      <td>...</td>\n",
       "      <td>...</td>\n",
       "      <td>...</td>\n",
       "      <td>...</td>\n",
       "      <td>...</td>\n",
       "      <td>...</td>\n",
       "      <td>...</td>\n",
       "      <td>...</td>\n",
       "      <td>...</td>\n",
       "      <td>...</td>\n",
       "      <td>...</td>\n",
       "      <td>...</td>\n",
       "      <td>...</td>\n",
       "      <td>...</td>\n",
       "      <td>...</td>\n",
       "      <td>...</td>\n",
       "      <td>...</td>\n",
       "      <td>...</td>\n",
       "      <td>...</td>\n",
       "      <td>...</td>\n",
       "      <td>...</td>\n",
       "    </tr>\n",
       "    <tr>\n",
       "      <th>37990</th>\n",
       "      <td>True</td>\n",
       "      <td>False</td>\n",
       "      <td>False</td>\n",
       "      <td>False</td>\n",
       "      <td>True</td>\n",
       "      <td>False</td>\n",
       "      <td>False</td>\n",
       "      <td>False</td>\n",
       "      <td>False</td>\n",
       "      <td>False</td>\n",
       "      <td>...</td>\n",
       "      <td>False</td>\n",
       "      <td>False</td>\n",
       "      <td>True</td>\n",
       "      <td>False</td>\n",
       "      <td>False</td>\n",
       "      <td>False</td>\n",
       "      <td>False</td>\n",
       "      <td>True</td>\n",
       "      <td>False</td>\n",
       "      <td>False</td>\n",
       "    </tr>\n",
       "    <tr>\n",
       "      <th>1949</th>\n",
       "      <td>True</td>\n",
       "      <td>False</td>\n",
       "      <td>False</td>\n",
       "      <td>False</td>\n",
       "      <td>False</td>\n",
       "      <td>False</td>\n",
       "      <td>False</td>\n",
       "      <td>False</td>\n",
       "      <td>False</td>\n",
       "      <td>True</td>\n",
       "      <td>...</td>\n",
       "      <td>True</td>\n",
       "      <td>False</td>\n",
       "      <td>False</td>\n",
       "      <td>False</td>\n",
       "      <td>False</td>\n",
       "      <td>True</td>\n",
       "      <td>False</td>\n",
       "      <td>False</td>\n",
       "      <td>True</td>\n",
       "      <td>False</td>\n",
       "    </tr>\n",
       "    <tr>\n",
       "      <th>21518</th>\n",
       "      <td>True</td>\n",
       "      <td>False</td>\n",
       "      <td>False</td>\n",
       "      <td>False</td>\n",
       "      <td>False</td>\n",
       "      <td>False</td>\n",
       "      <td>False</td>\n",
       "      <td>True</td>\n",
       "      <td>False</td>\n",
       "      <td>False</td>\n",
       "      <td>...</td>\n",
       "      <td>True</td>\n",
       "      <td>False</td>\n",
       "      <td>False</td>\n",
       "      <td>False</td>\n",
       "      <td>True</td>\n",
       "      <td>False</td>\n",
       "      <td>False</td>\n",
       "      <td>False</td>\n",
       "      <td>False</td>\n",
       "      <td>True</td>\n",
       "    </tr>\n",
       "    <tr>\n",
       "      <th>20696</th>\n",
       "      <td>True</td>\n",
       "      <td>False</td>\n",
       "      <td>False</td>\n",
       "      <td>False</td>\n",
       "      <td>False</td>\n",
       "      <td>False</td>\n",
       "      <td>False</td>\n",
       "      <td>True</td>\n",
       "      <td>False</td>\n",
       "      <td>False</td>\n",
       "      <td>...</td>\n",
       "      <td>True</td>\n",
       "      <td>False</td>\n",
       "      <td>False</td>\n",
       "      <td>False</td>\n",
       "      <td>True</td>\n",
       "      <td>False</td>\n",
       "      <td>False</td>\n",
       "      <td>True</td>\n",
       "      <td>False</td>\n",
       "      <td>False</td>\n",
       "    </tr>\n",
       "    <tr>\n",
       "      <th>2397</th>\n",
       "      <td>True</td>\n",
       "      <td>False</td>\n",
       "      <td>False</td>\n",
       "      <td>False</td>\n",
       "      <td>False</td>\n",
       "      <td>False</td>\n",
       "      <td>False</td>\n",
       "      <td>False</td>\n",
       "      <td>False</td>\n",
       "      <td>False</td>\n",
       "      <td>...</td>\n",
       "      <td>True</td>\n",
       "      <td>True</td>\n",
       "      <td>False</td>\n",
       "      <td>False</td>\n",
       "      <td>False</td>\n",
       "      <td>False</td>\n",
       "      <td>False</td>\n",
       "      <td>False</td>\n",
       "      <td>False</td>\n",
       "      <td>True</td>\n",
       "    </tr>\n",
       "  </tbody>\n",
       "</table>\n",
       "<p>1000 rows × 139 columns</p>\n",
       "</div>"
      ],
      "text/plain": [
       "        term  repay_fail  loan_amnt_(499.999, 2805.0]  \\\n",
       "4885   False       False                        False   \n",
       "17181   True        True                        False   \n",
       "18472  False       False                        False   \n",
       "24251   True        True                        False   \n",
       "16147  False       False                        False   \n",
       "...      ...         ...                          ...   \n",
       "37990   True       False                        False   \n",
       "1949    True       False                        False   \n",
       "21518   True       False                        False   \n",
       "20696   True       False                        False   \n",
       "2397    True       False                        False   \n",
       "\n",
       "       loan_amnt_(2805.0, 4350.0]  loan_amnt_(4350.0, 5100.0]  \\\n",
       "4885                        False                       False   \n",
       "17181                       False                       False   \n",
       "18472                       False                       False   \n",
       "24251                       False                       False   \n",
       "16147                       False                       False   \n",
       "...                           ...                         ...   \n",
       "37990                       False                        True   \n",
       "1949                        False                       False   \n",
       "21518                       False                       False   \n",
       "20696                       False                       False   \n",
       "2397                        False                       False   \n",
       "\n",
       "       loan_amnt_(5100.0, 6700.0]  loan_amnt_(6700.0, 8000.0]  \\\n",
       "4885                         True                       False   \n",
       "17181                       False                       False   \n",
       "18472                       False                        True   \n",
       "24251                       False                       False   \n",
       "16147                       False                       False   \n",
       "...                           ...                         ...   \n",
       "37990                       False                       False   \n",
       "1949                        False                       False   \n",
       "21518                       False                       False   \n",
       "20696                       False                       False   \n",
       "2397                        False                       False   \n",
       "\n",
       "       loan_amnt_(8000.0, 10000.0]  loan_amnt_(10000.0, 12000.0]  \\\n",
       "4885                         False                         False   \n",
       "17181                        False                         False   \n",
       "18472                        False                         False   \n",
       "24251                        False                          True   \n",
       "16147                        False                         False   \n",
       "...                            ...                           ...   \n",
       "37990                        False                         False   \n",
       "1949                         False                         False   \n",
       "21518                         True                         False   \n",
       "20696                         True                         False   \n",
       "2397                         False                         False   \n",
       "\n",
       "       loan_amnt_(12000.0, 15000.0]  ...  total_rec_prncp_(9730.41, 33127.85]  \\\n",
       "4885                          False  ...                                False   \n",
       "17181                          True  ...                                False   \n",
       "18472                         False  ...                                False   \n",
       "24251                         False  ...                                False   \n",
       "16147                         False  ...                                 True   \n",
       "...                             ...  ...                                  ...   \n",
       "37990                         False  ...                                False   \n",
       "1949                           True  ...                                 True   \n",
       "21518                         False  ...                                 True   \n",
       "20696                         False  ...                                 True   \n",
       "2397                          False  ...                                 True   \n",
       "\n",
       "       total_rec_int_(13.739, 606.47]  total_rec_int_(606.47, 1157.288]  \\\n",
       "4885                            False                             False   \n",
       "17181                           False                             False   \n",
       "18472                           False                             False   \n",
       "24251                           False                             False   \n",
       "16147                           False                             False   \n",
       "...                               ...                               ...   \n",
       "37990                           False                              True   \n",
       "1949                            False                             False   \n",
       "21518                           False                             False   \n",
       "20696                           False                             False   \n",
       "2397                             True                             False   \n",
       "\n",
       "       total_rec_int_(1157.288, 1983.63]  total_rec_int_(1983.63, 3917.576]  \\\n",
       "4885                               False                               True   \n",
       "17181                               True                              False   \n",
       "18472                              False                              False   \n",
       "24251                               True                              False   \n",
       "16147                              False                              False   \n",
       "...                                  ...                                ...   \n",
       "37990                              False                              False   \n",
       "1949                               False                              False   \n",
       "21518                              False                               True   \n",
       "20696                              False                               True   \n",
       "2397                               False                              False   \n",
       "\n",
       "       total_rec_int_(3917.576, 23611.1]  last_pymnt_amnt_(-0.001, 155.76]  \\\n",
       "4885                               False                              True   \n",
       "17181                              False                             False   \n",
       "18472                               True                             False   \n",
       "24251                              False                             False   \n",
       "16147                               True                             False   \n",
       "...                                  ...                               ...   \n",
       "37990                              False                             False   \n",
       "1949                                True                             False   \n",
       "21518                              False                             False   \n",
       "20696                              False                             False   \n",
       "2397                               False                             False   \n",
       "\n",
       "       last_pymnt_amnt_(155.76, 327.06]  last_pymnt_amnt_(327.06, 748.08]  \\\n",
       "4885                              False                             False   \n",
       "17181                             False                              True   \n",
       "18472                             False                             False   \n",
       "24251                             False                              True   \n",
       "16147                             False                              True   \n",
       "...                                 ...                               ...   \n",
       "37990                              True                             False   \n",
       "1949                              False                              True   \n",
       "21518                             False                             False   \n",
       "20696                              True                             False   \n",
       "2397                              False                             False   \n",
       "\n",
       "       last_pymnt_amnt_(748.08, 25207.53]  \n",
       "4885                                False  \n",
       "17181                               False  \n",
       "18472                                True  \n",
       "24251                               False  \n",
       "16147                               False  \n",
       "...                                   ...  \n",
       "37990                               False  \n",
       "1949                                False  \n",
       "21518                                True  \n",
       "20696                               False  \n",
       "2397                                 True  \n",
       "\n",
       "[1000 rows x 139 columns]"
      ]
     },
     "execution_count": 46,
     "metadata": {},
     "output_type": "execute_result"
    }
   ],
   "source": [
    "df_positive = df_bin[df_bin['repay_fail'] == True].sample(n=300, random_state=3407)\n",
    "df_negative = df_bin[df_bin['repay_fail'] == False].sample(n=700, random_state=3407)\n",
    "df = pd.concat([df_positive, df_negative], axis=0)\n",
    "df = df.sample(frac=1, random_state=3407)\n",
    "df"
   ]
  },
  {
   "cell_type": "code",
   "execution_count": 47,
   "id": "7e2aff63",
   "metadata": {},
   "outputs": [
    {
     "data": {
      "text/plain": [
       "(1000, 139)"
      ]
     },
     "execution_count": 47,
     "metadata": {},
     "output_type": "execute_result"
    }
   ],
   "source": [
    "df.shape"
   ]
  },
  {
   "cell_type": "code",
   "execution_count": 48,
   "id": "679c06b0",
   "metadata": {},
   "outputs": [
    {
     "data": {
      "text/plain": [
       "repay_fail\n",
       "False    0.7\n",
       "True     0.3\n",
       "Name: proportion, dtype: float64"
      ]
     },
     "execution_count": 48,
     "metadata": {},
     "output_type": "execute_result"
    }
   ],
   "source": [
    "df['repay_fail'].value_counts(normalize=True)"
   ]
  },
  {
   "cell_type": "code",
   "execution_count": 49,
   "id": "fd194266",
   "metadata": {
    "scrolled": true
   },
   "outputs": [],
   "source": [
    "features = df.drop(columns='repay_fail').columns\n",
    "target = ['repay_fail']"
   ]
  },
  {
   "cell_type": "code",
   "execution_count": 50,
   "id": "2653eba1",
   "metadata": {
    "scrolled": true
   },
   "outputs": [],
   "source": [
    "X = df[features]\n",
    "y = df[target]"
   ]
  },
  {
   "cell_type": "markdown",
   "id": "15580179",
   "metadata": {},
   "source": [
    "# Testing models"
   ]
  },
  {
   "cell_type": "code",
   "execution_count": 51,
   "id": "d267732e",
   "metadata": {
    "scrolled": true
   },
   "outputs": [],
   "source": [
    "scoring = {'accuracy' : make_scorer(accuracy_score),\n",
    "           'f1_macro' : make_scorer(f1_score, average='macro'),\n",
    "           'f1_binary' : make_scorer(f1_score),\n",
    "          }\n",
    "\n",
    "kfold = StratifiedKFold(n_splits=10, random_state=3407, shuffle=True)"
   ]
  },
  {
   "cell_type": "code",
   "execution_count": 52,
   "id": "129d3eb6",
   "metadata": {},
   "outputs": [],
   "source": [
    "def print_results(results):\n",
    "    acc = np.round(np.mean(results['test_accuracy']), 4) \n",
    "    f1_m = np.round(np.mean(results['test_f1_macro']), 4)\n",
    "    f1_b = np.round(np.mean(results['test_f1_binary']), 4)\n",
    "    print(f'Accuracy = {acc:0.4f}, F1_macro = {f1_m:0.4f}, F1_binary = {f1_b:0.4f}')  "
   ]
  },
  {
   "cell_type": "code",
   "execution_count": 53,
   "id": "2cec4d57",
   "metadata": {},
   "outputs": [],
   "source": [
    "import warnings\n",
    "warnings.filterwarnings('ignore')"
   ]
  },
  {
   "cell_type": "markdown",
   "id": "f3bbf43f",
   "metadata": {},
   "source": [
    "# Standard models"
   ]
  },
  {
   "cell_type": "markdown",
   "id": "ab9283b4",
   "metadata": {},
   "source": [
    "### Logistic regression"
   ]
  },
  {
   "cell_type": "code",
   "execution_count": 54,
   "id": "23c92255",
   "metadata": {},
   "outputs": [
    {
     "name": "stdout",
     "output_type": "stream",
     "text": [
      "Fitting 10 folds for each of 101 candidates, totalling 1010 fits\n"
     ]
    },
    {
     "data": {
      "text/plain": [
       "{'C': 1.0}"
      ]
     },
     "execution_count": 54,
     "metadata": {},
     "output_type": "execute_result"
    }
   ],
   "source": [
    "parameters = {'C' : np.linspace(1,5,101)}\n",
    "\n",
    "model = LogisticRegression()\n",
    "\n",
    "best = GridSearchCV(estimator=model, \n",
    "                    param_grid=parameters, \n",
    "                    cv=kfold,\n",
    "                    verbose=1, \n",
    "                    scoring=scoring,\n",
    "                    refit='f1_binary'\n",
    "                   )\n",
    "best.fit(X, y)\n",
    "best.best_params_"
   ]
  },
  {
   "cell_type": "code",
   "execution_count": 55,
   "id": "b59818f1",
   "metadata": {},
   "outputs": [
    {
     "name": "stdout",
     "output_type": "stream",
     "text": [
      "Accuracy = 0.9940, F1_macro = 0.9928, F1_binary = 0.9898\n"
     ]
    }
   ],
   "source": [
    "model = LogisticRegression(C=best.best_params_['C'])\n",
    "results = cross_validate(estimator=model,\n",
    "                         X=X, y=y,\n",
    "                         cv=kfold,\n",
    "                         scoring=scoring\n",
    "                         )\n",
    "print_results(results)"
   ]
  },
  {
   "cell_type": "markdown",
   "id": "35286682",
   "metadata": {},
   "source": [
    "### K-Nearest Neighbours"
   ]
  },
  {
   "cell_type": "code",
   "execution_count": 57,
   "id": "75cbea62",
   "metadata": {},
   "outputs": [
    {
     "name": "stdout",
     "output_type": "stream",
     "text": [
      "Fitting 10 folds for each of 17 candidates, totalling 170 fits\n"
     ]
    },
    {
     "data": {
      "text/plain": [
       "{'n_neighbors': 9}"
      ]
     },
     "execution_count": 57,
     "metadata": {},
     "output_type": "execute_result"
    }
   ],
   "source": [
    "parameters = {'n_neighbors' : range(3, 20, 1)}\n",
    "\n",
    "model = KNeighborsClassifier()\n",
    "\n",
    "best = GridSearchCV(estimator=model, \n",
    "                    param_grid=parameters, \n",
    "                    cv=kfold,\n",
    "                    verbose=1, \n",
    "                    scoring=scoring,\n",
    "                    refit='f1_binary'\n",
    "                   )\n",
    "\n",
    "best.fit(X, y)\n",
    "best.best_params_"
   ]
  },
  {
   "cell_type": "code",
   "execution_count": 58,
   "id": "ae58230c",
   "metadata": {},
   "outputs": [
    {
     "name": "stdout",
     "output_type": "stream",
     "text": [
      "Accuracy = 0.9390, F1_macro = 0.9220, F1_binary = 0.8856\n"
     ]
    }
   ],
   "source": [
    "model = KNeighborsClassifier(n_neighbors=best.best_params_['n_neighbors'])\n",
    "results = cross_validate(estimator=model,\n",
    "                         X=X,\n",
    "                         y=y,\n",
    "                         cv=kfold,\n",
    "                         scoring=scoring\n",
    "                         )\n",
    "print_results(results)"
   ]
  },
  {
   "cell_type": "markdown",
   "id": "8b1de6c4",
   "metadata": {},
   "source": [
    "### Naive Bayes"
   ]
  },
  {
   "cell_type": "code",
   "execution_count": 59,
   "id": "d9c2060c",
   "metadata": {},
   "outputs": [
    {
     "name": "stdout",
     "output_type": "stream",
     "text": [
      "Fitting 10 folds for each of 100 candidates, totalling 1000 fits\n"
     ]
    },
    {
     "data": {
      "text/plain": [
       "{'var_smoothing': 0.012328467394420659}"
      ]
     },
     "execution_count": 59,
     "metadata": {},
     "output_type": "execute_result"
    }
   ],
   "source": [
    "parameters = {'var_smoothing': np.logspace(0,-9, num=100)}\n",
    "\n",
    "model = GaussianNB()\n",
    "\n",
    "best = GridSearchCV(estimator=model, \n",
    "                    param_grid=parameters, \n",
    "                    cv=kfold,\n",
    "                    verbose=1, \n",
    "                    scoring=scoring,\n",
    "                    refit='f1_binary'\n",
    "                   )\n",
    "best.fit(X, y)\n",
    "best.best_params_"
   ]
  },
  {
   "cell_type": "code",
   "execution_count": 60,
   "id": "53b4cf45",
   "metadata": {},
   "outputs": [
    {
     "name": "stdout",
     "output_type": "stream",
     "text": [
      "Accuracy = 0.9990, F1_macro = 0.9988, F1_binary = 0.9983\n"
     ]
    }
   ],
   "source": [
    "model = GaussianNB(var_smoothing=best.best_params_['var_smoothing'])\n",
    "\n",
    "results = cross_validate(estimator=model,\n",
    "                         X=X,\n",
    "                         y=y,\n",
    "                         cv=kfold,\n",
    "                         scoring=scoring\n",
    "                         )\n",
    "print_results(results)"
   ]
  },
  {
   "cell_type": "markdown",
   "id": "92890dd7",
   "metadata": {},
   "source": [
    "### Decision tree"
   ]
  },
  {
   "cell_type": "code",
   "execution_count": 61,
   "id": "69995ff2",
   "metadata": {},
   "outputs": [
    {
     "name": "stdout",
     "output_type": "stream",
     "text": [
      "Fitting 10 folds for each of 120 candidates, totalling 1200 fits\n"
     ]
    },
    {
     "data": {
      "text/plain": [
       "{'criterion': 'gini', 'max_depth': 4, 'min_samples_split': 2}"
      ]
     },
     "execution_count": 61,
     "metadata": {},
     "output_type": "execute_result"
    }
   ],
   "source": [
    "parameters = {'min_samples_split' : range(2,21,2),\n",
    "              'max_depth' : range(2,13,2),\n",
    "              'criterion' : ['gini', 'entropy']\n",
    "             }\n",
    "\n",
    "model = DecisionTreeClassifier()\n",
    "\n",
    "best = GridSearchCV(estimator=model, \n",
    "                    param_grid=parameters, \n",
    "                    cv=kfold,\n",
    "                    verbose=1, \n",
    "                    scoring=scoring,\n",
    "                    refit='f1_binary'\n",
    "                   )\n",
    "best.fit(X, y)\n",
    "best.best_params_"
   ]
  },
  {
   "cell_type": "code",
   "execution_count": 62,
   "id": "4a999e0e",
   "metadata": {},
   "outputs": [
    {
     "name": "stdout",
     "output_type": "stream",
     "text": [
      "Accuracy = 0.9990, F1_macro = 0.9988, F1_binary = 0.9983\n"
     ]
    }
   ],
   "source": [
    "model = DecisionTreeClassifier(\n",
    "    max_depth=best.best_params_['max_depth'], \n",
    "    min_samples_split=best.best_params_['min_samples_split'],\n",
    "    criterion=best.best_params_['criterion']\n",
    ")\n",
    "results = cross_validate(estimator=model,\n",
    "                         X=X,\n",
    "                         y=y,\n",
    "                         cv=kfold,\n",
    "                         scoring=scoring\n",
    "                         )\n",
    "print_results(results)"
   ]
  },
  {
   "cell_type": "markdown",
   "id": "98c87aa4",
   "metadata": {},
   "source": [
    "### RandomForest"
   ]
  },
  {
   "cell_type": "code",
   "execution_count": 63,
   "id": "1474e431",
   "metadata": {},
   "outputs": [
    {
     "name": "stdout",
     "output_type": "stream",
     "text": [
      "Fitting 10 folds for each of 240 candidates, totalling 2400 fits\n"
     ]
    },
    {
     "data": {
      "text/plain": [
       "{'criterion': 'entropy',\n",
       " 'max_depth': 8,\n",
       " 'min_samples_split': 12,\n",
       " 'n_estimators': 15}"
      ]
     },
     "execution_count": 63,
     "metadata": {},
     "output_type": "execute_result"
    }
   ],
   "source": [
    "parameters = {'n_estimators' : range(5,51,10),\n",
    "              'min_samples_split' : range(2,13,2),\n",
    "              'max_depth' : range(4,11,2),\n",
    "              'criterion' : ['gini', 'entropy']\n",
    "             }\n",
    "model = RandomForestClassifier()\n",
    "\n",
    "best = GridSearchCV(estimator=model, \n",
    "                    param_grid=parameters, \n",
    "                    cv=kfold,\n",
    "                    verbose=1, \n",
    "                    scoring=scoring,\n",
    "                    refit='f1_binary'\n",
    "                   )\n",
    "best.fit(X, y)\n",
    "best.best_params_"
   ]
  },
  {
   "cell_type": "code",
   "execution_count": 64,
   "id": "cd756bad",
   "metadata": {},
   "outputs": [
    {
     "name": "stdout",
     "output_type": "stream",
     "text": [
      "Accuracy = 0.9920, F1_macro = 0.9903, F1_binary = 0.9862\n"
     ]
    }
   ],
   "source": [
    "model = RandomForestClassifier(\n",
    "    n_estimators=best.best_params_['n_estimators'],\n",
    "    min_samples_split=best.best_params_['min_samples_split'],\n",
    "    max_depth=best.best_params_['max_depth'],\n",
    "    criterion=best.best_params_['criterion']\n",
    ")\n",
    "results = cross_validate(estimator=model,\n",
    "                         X=X,\n",
    "                         y=y,\n",
    "                         cv=kfold,\n",
    "                         scoring=scoring\n",
    "                         )\n",
    "print_results(results)"
   ]
  },
  {
   "cell_type": "markdown",
   "id": "69a636fb",
   "metadata": {},
   "source": [
    "# Lazy FCA"
   ]
  },
  {
   "cell_type": "markdown",
   "id": "7c223852",
   "metadata": {},
   "source": [
    "Due to the multilabel output of **BinarizedBinaryClassifier** (**1** for **True**, **0** for **false** and **-1** for **undefined**) we cannot utilize **f1_score** with **average='binary'**. Therefore, a function that interprets **undefined** as misclassification was implemented."
   ]
  },
  {
   "cell_type": "code",
   "execution_count": 65,
   "id": "2d5b805e",
   "metadata": {},
   "outputs": [],
   "source": [
    "def compare_with_binary_f1(y_true, y_pred):\n",
    "    y_tmp = np.concatenate(\n",
    "        (np.array(y_true)[:,None],np.array(y_pred)[:,None]),\n",
    "        axis=1\n",
    "    )\n",
    "    df_tmp = pd.DataFrame(y_tmp, columns=['y_true','y_pred'])\n",
    "    df_tmp.y_true = df_tmp.y_true.astype(bool)\n",
    "    df_tmp['y_new']= ~df_tmp.loc[df_tmp.y_pred==-1]['y_true']\n",
    "    df_tmp.loc[df_tmp.y_pred!=-1, 'y_new'] = df_tmp.loc[df_tmp.y_pred!=-1,'y_pred'].astype(bool) \n",
    "    df_tmp.y_new = df_tmp.y_new.astype(bool)\n",
    "    return(f1_score(df_tmp.y_true, df_tmp.y_new))"
   ]
  },
  {
   "cell_type": "code",
   "execution_count": 66,
   "id": "d985bb0b",
   "metadata": {},
   "outputs": [],
   "source": [
    "def results_fca(y_true, y_pred):\n",
    "    f1 = f1_score(y_true, y_pred, average='macro')\n",
    "    accuracy = accuracy_score(y_true, y_pred)\n",
    "    f1_binary = compare_with_binary_f1(y_true, y_pred)\n",
    "    return (accuracy, f1, f1_binary)  "
   ]
  },
  {
   "cell_type": "markdown",
   "id": "e08e2a7c",
   "metadata": {},
   "source": [
    "## BinarizedBinaryClassifier"
   ]
  },
  {
   "cell_type": "markdown",
   "id": "a0be3699",
   "metadata": {},
   "source": [
    "**BinarizedBinaryClassifier** is not a **scikit** model, so **GridSearchCV** and **cross_validate** from **scikit** do not support it. Thus, we check desired parameters in **for**  loops."
   ]
  },
  {
   "cell_type": "code",
   "execution_count": 69,
   "id": "5327c941",
   "metadata": {
    "scrolled": true
   },
   "outputs": [
    {
     "name": "stdout",
     "output_type": "stream",
     "text": [
      "[CV 1/10] method=standard, alpha=0.00, f1_macro=1.0000\n",
      "[CV 2/10] method=standard, alpha=0.00, f1_macro=1.0000\n",
      "[CV 3/10] method=standard, alpha=0.00, f1_macro=0.9880\n",
      "[CV 4/10] method=standard, alpha=0.00, f1_macro=0.9757\n",
      "[CV 5/10] method=standard, alpha=0.00, f1_macro=1.0000\n",
      "[CV 6/10] method=standard, alpha=0.00, f1_macro=1.0000\n",
      "[CV 7/10] method=standard, alpha=0.00, f1_macro=0.9880\n",
      "[CV 8/10] method=standard, alpha=0.00, f1_macro=0.9880\n",
      "[CV 9/10] method=standard, alpha=0.00, f1_macro=1.0000\n",
      "[CV 10/10] method=standard, alpha=0.00, f1_macro=0.9880\n",
      "f1_mean = 0.9928\n",
      "\n",
      "[CV 1/10] method=standard, alpha=0.25, f1_macro=0.7632\n",
      "[CV 2/10] method=standard, alpha=0.25, f1_macro=0.7254\n",
      "[CV 3/10] method=standard, alpha=0.25, f1_macro=0.4671\n",
      "[CV 4/10] method=standard, alpha=0.25, f1_macro=0.4625\n",
      "[CV 5/10] method=standard, alpha=0.25, f1_macro=0.7726\n",
      "[CV 6/10] method=standard, alpha=0.25, f1_macro=0.6970\n",
      "[CV 7/10] method=standard, alpha=0.25, f1_macro=0.6673\n",
      "[CV 8/10] method=standard, alpha=0.25, f1_macro=0.7708\n",
      "[CV 9/10] method=standard, alpha=0.25, f1_macro=0.6970\n",
      "[CV 10/10] method=standard, alpha=0.25, f1_macro=0.7726\n",
      "f1_mean = 0.6795\n",
      "\n",
      "[CV 1/10] method=standard, alpha=0.50, f1_macro=0.7348\n",
      "[CV 2/10] method=standard, alpha=0.50, f1_macro=0.7159\n",
      "[CV 3/10] method=standard, alpha=0.50, f1_macro=0.7064\n",
      "[CV 4/10] method=standard, alpha=0.50, f1_macro=0.6847\n",
      "[CV 5/10] method=standard, alpha=0.50, f1_macro=0.7254\n",
      "[CV 6/10] method=standard, alpha=0.50, f1_macro=0.6198\n",
      "[CV 7/10] method=standard, alpha=0.50, f1_macro=0.3401\n",
      "[CV 8/10] method=standard, alpha=0.50, f1_macro=0.4852\n",
      "[CV 9/10] method=standard, alpha=0.50, f1_macro=0.4108\n",
      "[CV 10/10] method=standard, alpha=0.50, f1_macro=0.5181\n",
      "f1_mean = 0.5941\n",
      "\n",
      "[CV 1/10] method=standard, alpha=0.75, f1_macro=0.3309\n",
      "[CV 2/10] method=standard, alpha=0.75, f1_macro=0.3058\n",
      "[CV 3/10] method=standard, alpha=0.75, f1_macro=0.3312\n",
      "[CV 4/10] method=standard, alpha=0.75, f1_macro=0.3475\n",
      "[CV 5/10] method=standard, alpha=0.75, f1_macro=0.3785\n",
      "[CV 6/10] method=standard, alpha=0.75, f1_macro=0.3547\n",
      "[CV 7/10] method=standard, alpha=0.75, f1_macro=0.2759\n",
      "[CV 8/10] method=standard, alpha=0.75, f1_macro=0.3588\n",
      "[CV 9/10] method=standard, alpha=0.75, f1_macro=0.3669\n",
      "[CV 10/10] method=standard, alpha=0.75, f1_macro=0.3567\n",
      "f1_mean = 0.3407\n",
      "\n",
      "[CV 1/10] method=standard, alpha=1.00, f1_macro=0.0000\n",
      "[CV 2/10] method=standard, alpha=1.00, f1_macro=0.0000\n",
      "[CV 3/10] method=standard, alpha=1.00, f1_macro=0.0000\n",
      "[CV 4/10] method=standard, alpha=1.00, f1_macro=0.0000\n",
      "[CV 5/10] method=standard, alpha=1.00, f1_macro=0.0000\n",
      "[CV 6/10] method=standard, alpha=1.00, f1_macro=0.0000\n",
      "[CV 7/10] method=standard, alpha=1.00, f1_macro=0.0000\n",
      "[CV 8/10] method=standard, alpha=1.00, f1_macro=0.0000\n",
      "[CV 9/10] method=standard, alpha=1.00, f1_macro=0.0000\n",
      "[CV 10/10] method=standard, alpha=1.00, f1_macro=0.0000\n",
      "f1_mean = 0.0000\n",
      "\n",
      "[CV 1/10] method=standard-support, alpha=0.00, f1_macro=1.0000\n",
      "[CV 2/10] method=standard-support, alpha=0.00, f1_macro=1.0000\n",
      "[CV 3/10] method=standard-support, alpha=0.00, f1_macro=1.0000\n",
      "[CV 4/10] method=standard-support, alpha=0.00, f1_macro=0.9757\n",
      "[CV 5/10] method=standard-support, alpha=0.00, f1_macro=1.0000\n",
      "[CV 6/10] method=standard-support, alpha=0.00, f1_macro=1.0000\n",
      "[CV 7/10] method=standard-support, alpha=0.00, f1_macro=0.9880\n",
      "[CV 8/10] method=standard-support, alpha=0.00, f1_macro=0.9880\n",
      "[CV 9/10] method=standard-support, alpha=0.00, f1_macro=1.0000\n",
      "[CV 10/10] method=standard-support, alpha=0.00, f1_macro=0.9880\n",
      "f1_mean = 0.9940\n",
      "\n",
      "[CV 1/10] method=standard-support, alpha=0.25, f1_macro=0.7917\n",
      "[CV 2/10] method=standard-support, alpha=0.25, f1_macro=0.8400\n",
      "[CV 3/10] method=standard-support, alpha=0.25, f1_macro=0.8012\n",
      "[CV 4/10] method=standard-support, alpha=0.25, f1_macro=0.7520\n",
      "[CV 5/10] method=standard-support, alpha=0.25, f1_macro=0.8205\n",
      "[CV 6/10] method=standard-support, alpha=0.25, f1_macro=0.7726\n",
      "[CV 7/10] method=standard-support, alpha=0.25, f1_macro=0.8400\n",
      "[CV 8/10] method=standard-support, alpha=0.25, f1_macro=0.8108\n",
      "[CV 9/10] method=standard-support, alpha=0.25, f1_macro=0.7726\n",
      "[CV 10/10] method=standard-support, alpha=0.25, f1_macro=0.7917\n",
      "f1_mean = 0.7993\n",
      "\n",
      "[CV 1/10] method=standard-support, alpha=0.50, f1_macro=0.6291\n",
      "[CV 2/10] method=standard-support, alpha=0.50, f1_macro=0.6875\n",
      "[CV 3/10] method=standard-support, alpha=0.50, f1_macro=0.6970\n",
      "[CV 4/10] method=standard-support, alpha=0.50, f1_macro=0.5896\n",
      "[CV 5/10] method=standard-support, alpha=0.50, f1_macro=0.5890\n",
      "[CV 6/10] method=standard-support, alpha=0.50, f1_macro=0.5593\n",
      "[CV 7/10] method=standard-support, alpha=0.50, f1_macro=0.6100\n",
      "[CV 8/10] method=standard-support, alpha=0.50, f1_macro=0.5700\n",
      "[CV 9/10] method=standard-support, alpha=0.50, f1_macro=0.5793\n",
      "[CV 10/10] method=standard-support, alpha=0.50, f1_macro=0.6096\n",
      "f1_mean = 0.6120\n",
      "\n",
      "[CV 1/10] method=standard-support, alpha=0.75, f1_macro=0.4400\n",
      "[CV 2/10] method=standard-support, alpha=0.75, f1_macro=0.5060\n",
      "[CV 3/10] method=standard-support, alpha=0.75, f1_macro=0.4486\n",
      "[CV 4/10] method=standard-support, alpha=0.75, f1_macro=0.4198\n",
      "[CV 5/10] method=standard-support, alpha=0.75, f1_macro=0.4141\n",
      "[CV 6/10] method=standard-support, alpha=0.75, f1_macro=0.5200\n",
      "[CV 7/10] method=standard-support, alpha=0.75, f1_macro=0.6010\n",
      "[CV 8/10] method=standard-support, alpha=0.75, f1_macro=0.4699\n",
      "[CV 9/10] method=standard-support, alpha=0.75, f1_macro=0.4299\n",
      "[CV 10/10] method=standard-support, alpha=0.75, f1_macro=0.4085\n",
      "f1_mean = 0.4658\n",
      "\n",
      "[CV 1/10] method=standard-support, alpha=1.00, f1_macro=0.3623\n",
      "[CV 2/10] method=standard-support, alpha=1.00, f1_macro=0.4900\n",
      "[CV 3/10] method=standard-support, alpha=1.00, f1_macro=0.4833\n",
      "[CV 4/10] method=standard-support, alpha=1.00, f1_macro=0.3737\n",
      "[CV 5/10] method=standard-support, alpha=1.00, f1_macro=0.3999\n",
      "[CV 6/10] method=standard-support, alpha=1.00, f1_macro=0.4455\n",
      "[CV 7/10] method=standard-support, alpha=1.00, f1_macro=0.4715\n",
      "[CV 8/10] method=standard-support, alpha=1.00, f1_macro=0.3825\n",
      "[CV 9/10] method=standard-support, alpha=1.00, f1_macro=0.4130\n",
      "[CV 10/10] method=standard-support, alpha=1.00, f1_macro=0.3870\n",
      "f1_mean = 0.4209\n",
      "\n",
      "[CV 1/10] method=ratio-support, alpha=0.00, f1_macro=0.9214\n",
      "[CV 2/10] method=ratio-support, alpha=0.00, f1_macro=0.8901\n",
      "[CV 3/10] method=ratio-support, alpha=0.00, f1_macro=0.9652\n",
      "[CV 4/10] method=ratio-support, alpha=0.00, f1_macro=0.8562\n",
      "[CV 5/10] method=ratio-support, alpha=0.00, f1_macro=0.9540\n",
      "[CV 6/10] method=ratio-support, alpha=0.00, f1_macro=0.9322\n",
      "[CV 7/10] method=ratio-support, alpha=0.00, f1_macro=0.9095\n",
      "[CV 8/10] method=ratio-support, alpha=0.00, f1_macro=0.9311\n",
      "[CV 9/10] method=ratio-support, alpha=0.00, f1_macro=0.9322\n",
      "[CV 10/10] method=ratio-support, alpha=0.00, f1_macro=0.9109\n",
      "f1_mean = 0.9203\n",
      "\n",
      "[CV 1/10] method=ratio-support, alpha=0.25, f1_macro=0.9004\n",
      "[CV 2/10] method=ratio-support, alpha=0.25, f1_macro=0.8799\n",
      "[CV 3/10] method=ratio-support, alpha=0.25, f1_macro=0.9652\n",
      "[CV 4/10] method=ratio-support, alpha=0.25, f1_macro=0.8481\n",
      "[CV 5/10] method=ratio-support, alpha=0.25, f1_macro=0.9430\n",
      "[CV 6/10] method=ratio-support, alpha=0.25, f1_macro=0.9322\n",
      "[CV 7/10] method=ratio-support, alpha=0.25, f1_macro=0.8990\n",
      "[CV 8/10] method=ratio-support, alpha=0.25, f1_macro=0.9311\n",
      "[CV 9/10] method=ratio-support, alpha=0.25, f1_macro=0.9214\n",
      "[CV 10/10] method=ratio-support, alpha=0.25, f1_macro=0.9004\n",
      "f1_mean = 0.9121\n",
      "\n",
      "[CV 1/10] method=ratio-support, alpha=0.50, f1_macro=0.8901\n",
      "[CV 2/10] method=ratio-support, alpha=0.50, f1_macro=0.8698\n",
      "[CV 3/10] method=ratio-support, alpha=0.50, f1_macro=0.9652\n",
      "[CV 4/10] method=ratio-support, alpha=0.50, f1_macro=0.8382\n",
      "[CV 5/10] method=ratio-support, alpha=0.50, f1_macro=0.9540\n",
      "[CV 6/10] method=ratio-support, alpha=0.50, f1_macro=0.9430\n",
      "[CV 7/10] method=ratio-support, alpha=0.50, f1_macro=0.8990\n",
      "[CV 8/10] method=ratio-support, alpha=0.50, f1_macro=0.9311\n",
      "[CV 9/10] method=ratio-support, alpha=0.50, f1_macro=0.9004\n",
      "[CV 10/10] method=ratio-support, alpha=0.50, f1_macro=0.9004\n",
      "f1_mean = 0.9091\n",
      "\n",
      "[CV 1/10] method=ratio-support, alpha=0.75, f1_macro=0.9214\n",
      "[CV 2/10] method=ratio-support, alpha=0.75, f1_macro=0.8799\n",
      "[CV 3/10] method=ratio-support, alpha=0.75, f1_macro=0.9652\n",
      "[CV 4/10] method=ratio-support, alpha=0.75, f1_macro=0.8869\n",
      "[CV 5/10] method=ratio-support, alpha=0.75, f1_macro=0.9430\n",
      "[CV 6/10] method=ratio-support, alpha=0.75, f1_macro=0.9540\n",
      "[CV 7/10] method=ratio-support, alpha=0.75, f1_macro=0.9311\n",
      "[CV 8/10] method=ratio-support, alpha=0.75, f1_macro=0.9311\n",
      "[CV 9/10] method=ratio-support, alpha=0.75, f1_macro=0.9004\n",
      "[CV 10/10] method=ratio-support, alpha=0.75, f1_macro=0.9109\n",
      "f1_mean = 0.9224\n",
      "\n",
      "[CV 1/10] method=ratio-support, alpha=1.00, f1_macro=0.9882\n",
      "[CV 2/10] method=ratio-support, alpha=1.00, f1_macro=0.9766\n",
      "[CV 3/10] method=ratio-support, alpha=1.00, f1_macro=0.9766\n",
      "[CV 4/10] method=ratio-support, alpha=1.00, f1_macro=0.9189\n",
      "[CV 5/10] method=ratio-support, alpha=1.00, f1_macro=0.9882\n",
      "[CV 6/10] method=ratio-support, alpha=1.00, f1_macro=0.9882\n",
      "[CV 7/10] method=ratio-support, alpha=1.00, f1_macro=0.9766\n",
      "[CV 8/10] method=ratio-support, alpha=1.00, f1_macro=0.9532\n",
      "[CV 9/10] method=ratio-support, alpha=1.00, f1_macro=1.0000\n",
      "[CV 10/10] method=ratio-support, alpha=1.00, f1_macro=0.9532\n",
      "f1_mean = 0.9720\n",
      "\n",
      "f1_best=0.9940, method=standard-support, alpha=0.00\n"
     ]
    }
   ],
   "source": [
    "parameters = {'alpha' : np.linspace(0, 1, 5),\n",
    "              'method': ['standard','standard-support','ratio-support'],\n",
    "             }\n",
    "\n",
    "n = kfold.get_n_splits(X)\n",
    "\n",
    "f1_best = 0\n",
    "alpha_best = 0.\n",
    "method_best = 'standard'\n",
    "\n",
    "for method in parameters['method']:\n",
    "    for alpha in parameters['alpha']:\n",
    "        \n",
    "        f1 = [0 for i in range(n)]\n",
    "        for i, (train_index, test_index) in enumerate(kfold.split(X, y)):\n",
    "            bin_cls = fcalc.classifier.BinarizedBinaryClassifier(\n",
    "                X.iloc[train_index].values, \n",
    "                y.iloc[train_index][y.columns[0]].values,\n",
    "                method=method,\n",
    "                alpha=alpha\n",
    "            )\n",
    "            bin_cls.predict(X.iloc[test_index].values)\n",
    "            f1[i] = f1_score(y.iloc[test_index], bin_cls.predictions, average='macro')\n",
    "            print(f\"[CV {i+1}/{n}] method={method}, alpha={alpha:0.2f}, f1_macro={f1[i]:0.4f}\") \n",
    "                    \n",
    "        f1_mean = np.mean(f1)\n",
    "        print(f'f1_mean = {f1_mean:0.4f}\\n')\n",
    "        if(f1_mean > f1_best):\n",
    "            f1_best = f1_mean\n",
    "            alpha_best = alpha\n",
    "            method_best = method\n",
    "            \n",
    "print(f\"f1_best={f1_best:0.4f}, method={method_best}, alpha={alpha_best:0.2f}\")"
   ]
  },
  {
   "cell_type": "code",
   "execution_count": 70,
   "id": "a3123cc5",
   "metadata": {},
   "outputs": [
    {
     "name": "stdout",
     "output_type": "stream",
     "text": [
      "[CV 1/10] method=standard-support, alpha=0.00 accuracy=1.0000, f1_macro=1.0000, f1_binary=1.0000\n",
      "[CV 2/10] method=standard-support, alpha=0.00 accuracy=1.0000, f1_macro=1.0000, f1_binary=1.0000\n",
      "[CV 3/10] method=standard-support, alpha=0.00 accuracy=1.0000, f1_macro=1.0000, f1_binary=1.0000\n",
      "[CV 4/10] method=standard-support, alpha=0.00 accuracy=0.9800, f1_macro=0.9757, f1_binary=0.9655\n",
      "[CV 5/10] method=standard-support, alpha=0.00 accuracy=1.0000, f1_macro=1.0000, f1_binary=1.0000\n",
      "[CV 6/10] method=standard-support, alpha=0.00 accuracy=1.0000, f1_macro=1.0000, f1_binary=1.0000\n",
      "[CV 7/10] method=standard-support, alpha=0.00 accuracy=0.9900, f1_macro=0.9880, f1_binary=0.9831\n",
      "[CV 8/10] method=standard-support, alpha=0.00 accuracy=0.9900, f1_macro=0.9880, f1_binary=0.9831\n",
      "[CV 9/10] method=standard-support, alpha=0.00 accuracy=1.0000, f1_macro=1.0000, f1_binary=1.0000\n",
      "[CV 10/10] method=standard-support, alpha=0.00 accuracy=0.9900, f1_macro=0.9880, f1_binary=0.9831\n",
      "\n",
      " accuracy=0.9950, f1_macro=0.9940, f1_binary=0.9915\n"
     ]
    }
   ],
   "source": [
    "f1 = [0 for i in range(n)]\n",
    "accuracy = [0 for i in range(n)]\n",
    "f1_binary = [0 for i in range(n)]\n",
    "\n",
    "for i, (train_index, test_index) in enumerate(kfold.split(X, y)):\n",
    "    bin_cls = fcalc.classifier.BinarizedBinaryClassifier(\n",
    "        X.iloc[train_index].values, \n",
    "        y.iloc[train_index][y.columns[0]].values,\n",
    "        method=method_best,\n",
    "        alpha=alpha_best\n",
    "    )\n",
    "    bin_cls.predict(X.iloc[test_index].values)\n",
    "    \n",
    "    accuracy[i], f1[i], f1_binary[i] = results_fca(y.iloc[test_index][y.columns[0]].values, bin_cls.predictions)\n",
    "    \n",
    "    print(f\"[CV {i+1}/{n}] method={method_best}, alpha={alpha_best:0.2f}\", \n",
    "          f\"accuracy={accuracy[i]:0.4f}, f1_macro={f1[i]:0.4f}, f1_binary={f1_binary[i]:0.4f}\")\n",
    "\n",
    "f1_mean = np.mean(f1)\n",
    "accuracy_mean = np.mean(accuracy)\n",
    "f1_binary_mean = np.mean(f1_binary)\n",
    "\n",
    "print(f\"\\n accuracy={accuracy_mean:0.4f}, f1_macro={f1_mean:0.4f}, f1_binary={f1_binary_mean:0.4f}\")"
   ]
  },
  {
   "cell_type": "markdown",
   "id": "4159d76c",
   "metadata": {},
   "source": [
    "## PatternBinaryClassifier"
   ]
  },
  {
   "cell_type": "code",
   "execution_count": 72,
   "id": "4af6a5d6",
   "metadata": {},
   "outputs": [
    {
     "name": "stdout",
     "output_type": "stream",
     "text": [
      "[CV 1/10] method=standard, alpha=0.00, f1_macro=0.4365\n",
      "[CV 2/10] method=standard, alpha=0.00, f1_macro=0.4694\n",
      "[CV 3/10] method=standard, alpha=0.00, f1_macro=0.4781\n",
      "[CV 4/10] method=standard, alpha=0.00, f1_macro=0.4665\n",
      "[CV 5/10] method=standard, alpha=0.00, f1_macro=0.4411\n",
      "[CV 6/10] method=standard, alpha=0.00, f1_macro=0.4805\n",
      "[CV 7/10] method=standard, alpha=0.00, f1_macro=0.3789\n",
      "[CV 8/10] method=standard, alpha=0.00, f1_macro=0.4210\n",
      "[CV 9/10] method=standard, alpha=0.00, f1_macro=0.4970\n",
      "[CV 10/10] method=standard, alpha=0.00, f1_macro=0.4849\n",
      "f1_mean = 0.4554\n",
      "\n",
      "[CV 1/10] method=standard, alpha=0.10, f1_macro=0.0000\n",
      "[CV 2/10] method=standard, alpha=0.10, f1_macro=0.0000\n",
      "[CV 3/10] method=standard, alpha=0.10, f1_macro=0.0000\n",
      "[CV 4/10] method=standard, alpha=0.10, f1_macro=0.0000\n",
      "[CV 5/10] method=standard, alpha=0.10, f1_macro=0.0000\n",
      "[CV 6/10] method=standard, alpha=0.10, f1_macro=0.0000\n",
      "[CV 7/10] method=standard, alpha=0.10, f1_macro=0.0000\n",
      "[CV 8/10] method=standard, alpha=0.10, f1_macro=0.0000\n",
      "[CV 9/10] method=standard, alpha=0.10, f1_macro=0.0000\n",
      "[CV 10/10] method=standard, alpha=0.10, f1_macro=0.0000\n",
      "f1_mean = 0.0000\n",
      "\n",
      "[CV 1/10] method=standard, alpha=0.20, f1_macro=0.0000\n",
      "[CV 2/10] method=standard, alpha=0.20, f1_macro=0.0000\n",
      "[CV 3/10] method=standard, alpha=0.20, f1_macro=0.0000\n",
      "[CV 4/10] method=standard, alpha=0.20, f1_macro=0.0000\n",
      "[CV 5/10] method=standard, alpha=0.20, f1_macro=0.0000\n",
      "[CV 6/10] method=standard, alpha=0.20, f1_macro=0.0000\n",
      "[CV 7/10] method=standard, alpha=0.20, f1_macro=0.0000\n",
      "[CV 8/10] method=standard, alpha=0.20, f1_macro=0.0000\n",
      "[CV 9/10] method=standard, alpha=0.20, f1_macro=0.0000\n",
      "[CV 10/10] method=standard, alpha=0.20, f1_macro=0.0000\n",
      "f1_mean = 0.0000\n",
      "\n",
      "[CV 1/10] method=standard, alpha=0.30, f1_macro=0.0000\n",
      "[CV 2/10] method=standard, alpha=0.30, f1_macro=0.0000\n",
      "[CV 3/10] method=standard, alpha=0.30, f1_macro=0.0000\n",
      "[CV 4/10] method=standard, alpha=0.30, f1_macro=0.0000\n",
      "[CV 5/10] method=standard, alpha=0.30, f1_macro=0.0000\n",
      "[CV 6/10] method=standard, alpha=0.30, f1_macro=0.0000\n",
      "[CV 7/10] method=standard, alpha=0.30, f1_macro=0.0000\n",
      "[CV 8/10] method=standard, alpha=0.30, f1_macro=0.0000\n",
      "[CV 9/10] method=standard, alpha=0.30, f1_macro=0.0000\n",
      "[CV 10/10] method=standard, alpha=0.30, f1_macro=0.0000\n",
      "f1_mean = 0.0000\n",
      "\n",
      "[CV 1/10] method=standard, alpha=0.40, f1_macro=0.0000\n",
      "[CV 2/10] method=standard, alpha=0.40, f1_macro=0.0000\n",
      "[CV 3/10] method=standard, alpha=0.40, f1_macro=0.0000\n",
      "[CV 4/10] method=standard, alpha=0.40, f1_macro=0.0000\n",
      "[CV 5/10] method=standard, alpha=0.40, f1_macro=0.0000\n",
      "[CV 6/10] method=standard, alpha=0.40, f1_macro=0.0000\n",
      "[CV 7/10] method=standard, alpha=0.40, f1_macro=0.0000\n",
      "[CV 8/10] method=standard, alpha=0.40, f1_macro=0.0000\n",
      "[CV 9/10] method=standard, alpha=0.40, f1_macro=0.0000\n",
      "[CV 10/10] method=standard, alpha=0.40, f1_macro=0.0000\n",
      "f1_mean = 0.0000\n",
      "\n",
      "[CV 1/10] method=standard-support, alpha=0.00, f1_macro=0.2308\n",
      "[CV 2/10] method=standard-support, alpha=0.00, f1_macro=0.2308\n",
      "[CV 3/10] method=standard-support, alpha=0.00, f1_macro=0.2308\n",
      "[CV 4/10] method=standard-support, alpha=0.00, f1_macro=0.2308\n",
      "[CV 5/10] method=standard-support, alpha=0.00, f1_macro=0.2308\n",
      "[CV 6/10] method=standard-support, alpha=0.00, f1_macro=0.2308\n",
      "[CV 7/10] method=standard-support, alpha=0.00, f1_macro=0.2308\n",
      "[CV 8/10] method=standard-support, alpha=0.00, f1_macro=0.2308\n",
      "[CV 9/10] method=standard-support, alpha=0.00, f1_macro=0.2308\n",
      "[CV 10/10] method=standard-support, alpha=0.00, f1_macro=0.2308\n",
      "f1_mean = 0.2308\n",
      "\n",
      "[CV 1/10] method=standard-support, alpha=0.10, f1_macro=0.2308\n",
      "[CV 2/10] method=standard-support, alpha=0.10, f1_macro=0.2308\n",
      "[CV 3/10] method=standard-support, alpha=0.10, f1_macro=0.2308\n",
      "[CV 4/10] method=standard-support, alpha=0.10, f1_macro=0.2308\n",
      "[CV 5/10] method=standard-support, alpha=0.10, f1_macro=0.2308\n",
      "[CV 6/10] method=standard-support, alpha=0.10, f1_macro=0.2308\n",
      "[CV 7/10] method=standard-support, alpha=0.10, f1_macro=0.2308\n",
      "[CV 8/10] method=standard-support, alpha=0.10, f1_macro=0.2308\n",
      "[CV 9/10] method=standard-support, alpha=0.10, f1_macro=0.2308\n",
      "[CV 10/10] method=standard-support, alpha=0.10, f1_macro=0.2308\n",
      "f1_mean = 0.2308\n",
      "\n",
      "[CV 1/10] method=standard-support, alpha=0.20, f1_macro=0.2308\n",
      "[CV 2/10] method=standard-support, alpha=0.20, f1_macro=0.2308\n",
      "[CV 3/10] method=standard-support, alpha=0.20, f1_macro=0.2308\n",
      "[CV 4/10] method=standard-support, alpha=0.20, f1_macro=0.2308\n",
      "[CV 5/10] method=standard-support, alpha=0.20, f1_macro=0.2308\n",
      "[CV 6/10] method=standard-support, alpha=0.20, f1_macro=0.2308\n",
      "[CV 7/10] method=standard-support, alpha=0.20, f1_macro=0.2308\n",
      "[CV 8/10] method=standard-support, alpha=0.20, f1_macro=0.2308\n",
      "[CV 9/10] method=standard-support, alpha=0.20, f1_macro=0.2308\n",
      "[CV 10/10] method=standard-support, alpha=0.20, f1_macro=0.2308\n",
      "f1_mean = 0.2308\n",
      "\n",
      "[CV 1/10] method=standard-support, alpha=0.30, f1_macro=0.2308\n",
      "[CV 2/10] method=standard-support, alpha=0.30, f1_macro=0.2308\n",
      "[CV 3/10] method=standard-support, alpha=0.30, f1_macro=0.2308\n",
      "[CV 4/10] method=standard-support, alpha=0.30, f1_macro=0.2308\n",
      "[CV 5/10] method=standard-support, alpha=0.30, f1_macro=0.2308\n",
      "[CV 6/10] method=standard-support, alpha=0.30, f1_macro=0.2308\n",
      "[CV 7/10] method=standard-support, alpha=0.30, f1_macro=0.2308\n",
      "[CV 8/10] method=standard-support, alpha=0.30, f1_macro=0.2308\n",
      "[CV 9/10] method=standard-support, alpha=0.30, f1_macro=0.2308\n",
      "[CV 10/10] method=standard-support, alpha=0.30, f1_macro=0.2308\n",
      "f1_mean = 0.2308\n",
      "\n",
      "[CV 1/10] method=standard-support, alpha=0.40, f1_macro=0.2308\n",
      "[CV 2/10] method=standard-support, alpha=0.40, f1_macro=0.2308\n",
      "[CV 3/10] method=standard-support, alpha=0.40, f1_macro=0.2308\n",
      "[CV 4/10] method=standard-support, alpha=0.40, f1_macro=0.2308\n",
      "[CV 5/10] method=standard-support, alpha=0.40, f1_macro=0.2308\n",
      "[CV 6/10] method=standard-support, alpha=0.40, f1_macro=0.2308\n",
      "[CV 7/10] method=standard-support, alpha=0.40, f1_macro=0.2308\n",
      "[CV 8/10] method=standard-support, alpha=0.40, f1_macro=0.2308\n",
      "[CV 9/10] method=standard-support, alpha=0.40, f1_macro=0.2308\n",
      "[CV 10/10] method=standard-support, alpha=0.40, f1_macro=0.2308\n",
      "f1_mean = 0.2308\n",
      "\n",
      "[CV 1/10] method=ratio-support, alpha=0.00, f1_macro=0.5378\n",
      "[CV 2/10] method=ratio-support, alpha=0.00, f1_macro=0.4853\n",
      "[CV 3/10] method=ratio-support, alpha=0.00, f1_macro=0.4773\n",
      "[CV 4/10] method=ratio-support, alpha=0.00, f1_macro=0.4793\n",
      "[CV 5/10] method=ratio-support, alpha=0.00, f1_macro=0.4872\n",
      "[CV 6/10] method=ratio-support, alpha=0.00, f1_macro=0.5014\n",
      "[CV 7/10] method=ratio-support, alpha=0.00, f1_macro=0.4139\n",
      "[CV 8/10] method=ratio-support, alpha=0.00, f1_macro=0.4378\n",
      "[CV 9/10] method=ratio-support, alpha=0.00, f1_macro=0.5250\n",
      "[CV 10/10] method=ratio-support, alpha=0.00, f1_macro=0.4937\n",
      "f1_mean = 0.4839\n",
      "\n",
      "[CV 1/10] method=ratio-support, alpha=0.10, f1_macro=0.5378\n",
      "[CV 2/10] method=ratio-support, alpha=0.10, f1_macro=0.4853\n",
      "[CV 3/10] method=ratio-support, alpha=0.10, f1_macro=0.4773\n",
      "[CV 4/10] method=ratio-support, alpha=0.10, f1_macro=0.4793\n",
      "[CV 5/10] method=ratio-support, alpha=0.10, f1_macro=0.4872\n",
      "[CV 6/10] method=ratio-support, alpha=0.10, f1_macro=0.5014\n",
      "[CV 7/10] method=ratio-support, alpha=0.10, f1_macro=0.4139\n",
      "[CV 8/10] method=ratio-support, alpha=0.10, f1_macro=0.4378\n",
      "[CV 9/10] method=ratio-support, alpha=0.10, f1_macro=0.5250\n",
      "[CV 10/10] method=ratio-support, alpha=0.10, f1_macro=0.4937\n",
      "f1_mean = 0.4839\n",
      "\n",
      "[CV 1/10] method=ratio-support, alpha=0.20, f1_macro=0.5378\n",
      "[CV 2/10] method=ratio-support, alpha=0.20, f1_macro=0.4853\n",
      "[CV 3/10] method=ratio-support, alpha=0.20, f1_macro=0.4773\n",
      "[CV 4/10] method=ratio-support, alpha=0.20, f1_macro=0.4793\n",
      "[CV 5/10] method=ratio-support, alpha=0.20, f1_macro=0.4872\n",
      "[CV 6/10] method=ratio-support, alpha=0.20, f1_macro=0.5014\n",
      "[CV 7/10] method=ratio-support, alpha=0.20, f1_macro=0.4139\n",
      "[CV 8/10] method=ratio-support, alpha=0.20, f1_macro=0.4378\n",
      "[CV 9/10] method=ratio-support, alpha=0.20, f1_macro=0.5250\n",
      "[CV 10/10] method=ratio-support, alpha=0.20, f1_macro=0.4937\n",
      "f1_mean = 0.4839\n",
      "\n",
      "[CV 1/10] method=ratio-support, alpha=0.30, f1_macro=0.5378\n",
      "[CV 2/10] method=ratio-support, alpha=0.30, f1_macro=0.4853\n",
      "[CV 3/10] method=ratio-support, alpha=0.30, f1_macro=0.4773\n",
      "[CV 4/10] method=ratio-support, alpha=0.30, f1_macro=0.4793\n",
      "[CV 5/10] method=ratio-support, alpha=0.30, f1_macro=0.4872\n",
      "[CV 6/10] method=ratio-support, alpha=0.30, f1_macro=0.5014\n",
      "[CV 7/10] method=ratio-support, alpha=0.30, f1_macro=0.4139\n",
      "[CV 8/10] method=ratio-support, alpha=0.30, f1_macro=0.4378\n",
      "[CV 9/10] method=ratio-support, alpha=0.30, f1_macro=0.5250\n",
      "[CV 10/10] method=ratio-support, alpha=0.30, f1_macro=0.4937\n",
      "f1_mean = 0.4839\n",
      "\n",
      "[CV 1/10] method=ratio-support, alpha=0.40, f1_macro=0.5378\n",
      "[CV 2/10] method=ratio-support, alpha=0.40, f1_macro=0.4853\n",
      "[CV 3/10] method=ratio-support, alpha=0.40, f1_macro=0.4773\n",
      "[CV 4/10] method=ratio-support, alpha=0.40, f1_macro=0.4793\n",
      "[CV 5/10] method=ratio-support, alpha=0.40, f1_macro=0.4872\n",
      "[CV 6/10] method=ratio-support, alpha=0.40, f1_macro=0.5014\n",
      "[CV 7/10] method=ratio-support, alpha=0.40, f1_macro=0.4139\n",
      "[CV 8/10] method=ratio-support, alpha=0.40, f1_macro=0.4378\n",
      "[CV 9/10] method=ratio-support, alpha=0.40, f1_macro=0.5250\n",
      "[CV 10/10] method=ratio-support, alpha=0.40, f1_macro=0.4937\n",
      "f1_mean = 0.4839\n",
      "\n",
      "f1_best=0.4839, method=ratio-support, alpha=0.00\n"
     ]
    }
   ],
   "source": [
    "parameters = {'alpha' : np.linspace(0, 0.4, 5),\n",
    "              'method': ['standard','standard-support','ratio-support'],\n",
    "             }\n",
    "\n",
    "n = kfold.get_n_splits(X)\n",
    "\n",
    "f1_best_p = 0\n",
    "alpha_best_p = 0.\n",
    "method_best_p = 'standard'\n",
    "\n",
    "for method in parameters['method']:\n",
    "    for alpha in parameters['alpha']:\n",
    "        \n",
    "        f1 = [0 for i in range(n)]\n",
    "        for i, (train_index, test_index) in enumerate(kfold.split(X, y)):\n",
    "            bin_cls = fcalc.classifier.PatternBinaryClassifier(\n",
    "                X.iloc[train_index].values, \n",
    "                y.iloc[train_index][y.columns[0]].values,\n",
    "                method=method,\n",
    "                alpha=alpha\n",
    "            )\n",
    "            bin_cls.predict(X.iloc[test_index].values)\n",
    "            f1[i] = f1_score(y.iloc[test_index][y.columns[0]].values, bin_cls.predictions, average='macro')\n",
    "            print(f\"[CV {i+1}/{n}] method={method}, alpha={alpha:0.2f}, f1_macro={f1[i]:0.4f}\") \n",
    "                    \n",
    "        f1_mean = np.mean(f1)\n",
    "        print(f'f1_mean = {f1_mean:0.4f}\\n')\n",
    "        if(f1_mean > f1_best_p):\n",
    "            f1_best_p = f1_mean\n",
    "            alpha_best_p = alpha\n",
    "            method_best_p = method\n",
    "            \n",
    "print(f\"f1_best={f1_best_p:0.4f}, method={method_best_p}, alpha={alpha_best_p:0.2f}\")"
   ]
  },
  {
   "cell_type": "code",
   "execution_count": 73,
   "id": "b3b0791f",
   "metadata": {},
   "outputs": [
    {
     "name": "stdout",
     "output_type": "stream",
     "text": [
      "[CV 1/10] method=ratio-support, alpha=0.00 accuracy=0.8100, f1_macro=0.5378, f1_binary=0.7077\n",
      "[CV 2/10] method=ratio-support, alpha=0.00 accuracy=0.7700, f1_macro=0.4853, f1_binary=0.5660\n",
      "[CV 3/10] method=ratio-support, alpha=0.00 accuracy=0.7400, f1_macro=0.4773, f1_binary=0.5938\n",
      "[CV 4/10] method=ratio-support, alpha=0.00 accuracy=0.7400, f1_macro=0.4793, f1_binary=0.5938\n",
      "[CV 5/10] method=ratio-support, alpha=0.00 accuracy=0.7400, f1_macro=0.4872, f1_binary=0.6176\n",
      "[CV 6/10] method=ratio-support, alpha=0.00 accuracy=0.7200, f1_macro=0.5014, f1_binary=0.6410\n",
      "[CV 7/10] method=ratio-support, alpha=0.00 accuracy=0.6600, f1_macro=0.4139, f1_binary=0.4688\n",
      "[CV 8/10] method=ratio-support, alpha=0.00 accuracy=0.6700, f1_macro=0.4378, f1_binary=0.5217\n",
      "[CV 9/10] method=ratio-support, alpha=0.00 accuracy=0.7800, f1_macro=0.5250, f1_binary=0.6562\n",
      "[CV 10/10] method=ratio-support, alpha=0.00 accuracy=0.7600, f1_macro=0.4937, f1_binary=0.6471\n",
      "\n",
      " accuracy=0.7390, f1_macro=0.4839, f1_binary=0.6014\n"
     ]
    }
   ],
   "source": [
    "f1 = [0 for i in range(n)]\n",
    "accuracy = [0 for i in range(n)]\n",
    "f1_binary = [0 for i in range(n)]\n",
    "\n",
    "for i, (train_index, test_index) in enumerate(kfold.split(X, y)):\n",
    "    bin_cls = fcalc.classifier.PatternBinaryClassifier(\n",
    "        X.iloc[train_index].values, \n",
    "        y.iloc[train_index][y.columns[0]].values,\n",
    "        method=method_best_p,\n",
    "        alpha=alpha_best_p\n",
    "    )\n",
    "    bin_cls.predict(X.iloc[test_index].values)\n",
    "    \n",
    "    accuracy[i], f1[i], f1_binary[i] = results_fca(y.iloc[test_index][y.columns[0]].values, bin_cls.predictions)\n",
    "    \n",
    "    print(f\"[CV {i+1}/{n}] method={method_best_p}, alpha={alpha_best_p:0.2f}\", \n",
    "          f\"accuracy={accuracy[i]:0.4f}, f1_macro={f1[i]:0.4f}, f1_binary={f1_binary[i]:0.4f}\")\n",
    "\n",
    "f1_mean = np.mean(f1)\n",
    "accuracy_mean = np.mean(accuracy)\n",
    "f1_binary_mean = np.mean(f1_binary)\n",
    "\n",
    "print(f\"\\n accuracy={accuracy_mean:0.4f}, f1_macro={f1_mean:0.4f}, f1_binary={f1_binary_mean:0.4f}\")"
   ]
  }
 ],
 "metadata": {
  "kernelspec": {
   "display_name": "Python 3 (ipykernel)",
   "language": "python",
   "name": "python3"
  },
  "language_info": {
   "codemirror_mode": {
    "name": "ipython",
    "version": 3
   },
   "file_extension": ".py",
   "mimetype": "text/x-python",
   "name": "python",
   "nbconvert_exporter": "python",
   "pygments_lexer": "ipython3",
   "version": "3.11.1"
  }
 },
 "nbformat": 4,
 "nbformat_minor": 5
}
